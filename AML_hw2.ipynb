{
  "nbformat": 4,
  "nbformat_minor": 5,
  "metadata": {
    "kernelspec": {
      "display_name": "Python 3",
      "language": "python",
      "name": "python3"
    },
    "language_info": {
      "codemirror_mode": {
        "name": "ipython",
        "version": 3
      },
      "file_extension": ".py",
      "mimetype": "text/x-python",
      "name": "python",
      "nbconvert_exporter": "python",
      "pygments_lexer": "ipython3",
      "version": "3.7.3"
    },
    "colab": {
      "name": "AML_hw2.ipynb",
      "provenance": [],
      "collapsed_sections": [
        "nfrM-oXV-dUx"
      ],
      "machine_shape": "hm"
    },
    "accelerator": "GPU",
    "widgets": {
      "application/vnd.jupyter.widget-state+json": {
        "aa8e306bada14278bcfda4e978fd7bed": {
          "model_module": "@jupyter-widgets/controls",
          "model_name": "HBoxModel",
          "model_module_version": "1.5.0",
          "state": {
            "_view_name": "HBoxView",
            "_dom_classes": [],
            "_model_name": "HBoxModel",
            "_view_module": "@jupyter-widgets/controls",
            "_model_module_version": "1.5.0",
            "_view_count": null,
            "_view_module_version": "1.5.0",
            "box_style": "",
            "layout": "IPY_MODEL_0510455879524bbea7d3adbfd5a2c810",
            "_model_module": "@jupyter-widgets/controls",
            "children": [
              "IPY_MODEL_b3aac3f861224026b78b8f0dfd003910",
              "IPY_MODEL_2d72088a4f644811aa6aee73f0ae7f63",
              "IPY_MODEL_efd349c66f064ed4be11cca0f8ce5e5f"
            ]
          }
        },
        "0510455879524bbea7d3adbfd5a2c810": {
          "model_module": "@jupyter-widgets/base",
          "model_name": "LayoutModel",
          "model_module_version": "1.2.0",
          "state": {
            "_view_name": "LayoutView",
            "grid_template_rows": null,
            "right": null,
            "justify_content": null,
            "_view_module": "@jupyter-widgets/base",
            "overflow": null,
            "_model_module_version": "1.2.0",
            "_view_count": null,
            "flex_flow": null,
            "width": null,
            "min_width": null,
            "border": null,
            "align_items": null,
            "bottom": null,
            "_model_module": "@jupyter-widgets/base",
            "top": null,
            "grid_column": null,
            "overflow_y": null,
            "overflow_x": null,
            "grid_auto_flow": null,
            "grid_area": null,
            "grid_template_columns": null,
            "flex": null,
            "_model_name": "LayoutModel",
            "justify_items": null,
            "grid_row": null,
            "max_height": null,
            "align_content": null,
            "visibility": null,
            "align_self": null,
            "height": null,
            "min_height": null,
            "padding": null,
            "grid_auto_rows": null,
            "grid_gap": null,
            "max_width": null,
            "order": null,
            "_view_module_version": "1.2.0",
            "grid_template_areas": null,
            "object_position": null,
            "object_fit": null,
            "grid_auto_columns": null,
            "margin": null,
            "display": null,
            "left": null
          }
        },
        "b3aac3f861224026b78b8f0dfd003910": {
          "model_module": "@jupyter-widgets/controls",
          "model_name": "HTMLModel",
          "model_module_version": "1.5.0",
          "state": {
            "_view_name": "HTMLView",
            "style": "IPY_MODEL_c5ed1e93ae9645bd9cdedaa5faa39ac0",
            "_dom_classes": [],
            "description": "",
            "_model_name": "HTMLModel",
            "placeholder": "​",
            "_view_module": "@jupyter-widgets/controls",
            "_model_module_version": "1.5.0",
            "value": "",
            "_view_count": null,
            "_view_module_version": "1.5.0",
            "description_tooltip": null,
            "_model_module": "@jupyter-widgets/controls",
            "layout": "IPY_MODEL_3fc9ff86d0fa4231bd7dfe5f2e356048"
          }
        },
        "2d72088a4f644811aa6aee73f0ae7f63": {
          "model_module": "@jupyter-widgets/controls",
          "model_name": "FloatProgressModel",
          "model_module_version": "1.5.0",
          "state": {
            "_view_name": "ProgressView",
            "style": "IPY_MODEL_1938cd655b2741f18f200900c14b834e",
            "_dom_classes": [],
            "description": "",
            "_model_name": "FloatProgressModel",
            "bar_style": "success",
            "max": 170498071,
            "_view_module": "@jupyter-widgets/controls",
            "_model_module_version": "1.5.0",
            "value": 170498071,
            "_view_count": null,
            "_view_module_version": "1.5.0",
            "orientation": "horizontal",
            "min": 0,
            "description_tooltip": null,
            "_model_module": "@jupyter-widgets/controls",
            "layout": "IPY_MODEL_051e55ccacc24706a9a13d19c64c968f"
          }
        },
        "efd349c66f064ed4be11cca0f8ce5e5f": {
          "model_module": "@jupyter-widgets/controls",
          "model_name": "HTMLModel",
          "model_module_version": "1.5.0",
          "state": {
            "_view_name": "HTMLView",
            "style": "IPY_MODEL_426084f6521c4b1fbe06db3a43f628d4",
            "_dom_classes": [],
            "description": "",
            "_model_name": "HTMLModel",
            "placeholder": "​",
            "_view_module": "@jupyter-widgets/controls",
            "_model_module_version": "1.5.0",
            "value": " 170499072/? [00:04&lt;00:00, 40271779.91it/s]",
            "_view_count": null,
            "_view_module_version": "1.5.0",
            "description_tooltip": null,
            "_model_module": "@jupyter-widgets/controls",
            "layout": "IPY_MODEL_ae425596793f4ad29d163e2deef0a880"
          }
        },
        "c5ed1e93ae9645bd9cdedaa5faa39ac0": {
          "model_module": "@jupyter-widgets/controls",
          "model_name": "DescriptionStyleModel",
          "model_module_version": "1.5.0",
          "state": {
            "_view_name": "StyleView",
            "_model_name": "DescriptionStyleModel",
            "description_width": "",
            "_view_module": "@jupyter-widgets/base",
            "_model_module_version": "1.5.0",
            "_view_count": null,
            "_view_module_version": "1.2.0",
            "_model_module": "@jupyter-widgets/controls"
          }
        },
        "3fc9ff86d0fa4231bd7dfe5f2e356048": {
          "model_module": "@jupyter-widgets/base",
          "model_name": "LayoutModel",
          "model_module_version": "1.2.0",
          "state": {
            "_view_name": "LayoutView",
            "grid_template_rows": null,
            "right": null,
            "justify_content": null,
            "_view_module": "@jupyter-widgets/base",
            "overflow": null,
            "_model_module_version": "1.2.0",
            "_view_count": null,
            "flex_flow": null,
            "width": null,
            "min_width": null,
            "border": null,
            "align_items": null,
            "bottom": null,
            "_model_module": "@jupyter-widgets/base",
            "top": null,
            "grid_column": null,
            "overflow_y": null,
            "overflow_x": null,
            "grid_auto_flow": null,
            "grid_area": null,
            "grid_template_columns": null,
            "flex": null,
            "_model_name": "LayoutModel",
            "justify_items": null,
            "grid_row": null,
            "max_height": null,
            "align_content": null,
            "visibility": null,
            "align_self": null,
            "height": null,
            "min_height": null,
            "padding": null,
            "grid_auto_rows": null,
            "grid_gap": null,
            "max_width": null,
            "order": null,
            "_view_module_version": "1.2.0",
            "grid_template_areas": null,
            "object_position": null,
            "object_fit": null,
            "grid_auto_columns": null,
            "margin": null,
            "display": null,
            "left": null
          }
        },
        "1938cd655b2741f18f200900c14b834e": {
          "model_module": "@jupyter-widgets/controls",
          "model_name": "ProgressStyleModel",
          "model_module_version": "1.5.0",
          "state": {
            "_view_name": "StyleView",
            "_model_name": "ProgressStyleModel",
            "description_width": "",
            "_view_module": "@jupyter-widgets/base",
            "_model_module_version": "1.5.0",
            "_view_count": null,
            "_view_module_version": "1.2.0",
            "bar_color": null,
            "_model_module": "@jupyter-widgets/controls"
          }
        },
        "051e55ccacc24706a9a13d19c64c968f": {
          "model_module": "@jupyter-widgets/base",
          "model_name": "LayoutModel",
          "model_module_version": "1.2.0",
          "state": {
            "_view_name": "LayoutView",
            "grid_template_rows": null,
            "right": null,
            "justify_content": null,
            "_view_module": "@jupyter-widgets/base",
            "overflow": null,
            "_model_module_version": "1.2.0",
            "_view_count": null,
            "flex_flow": null,
            "width": null,
            "min_width": null,
            "border": null,
            "align_items": null,
            "bottom": null,
            "_model_module": "@jupyter-widgets/base",
            "top": null,
            "grid_column": null,
            "overflow_y": null,
            "overflow_x": null,
            "grid_auto_flow": null,
            "grid_area": null,
            "grid_template_columns": null,
            "flex": null,
            "_model_name": "LayoutModel",
            "justify_items": null,
            "grid_row": null,
            "max_height": null,
            "align_content": null,
            "visibility": null,
            "align_self": null,
            "height": null,
            "min_height": null,
            "padding": null,
            "grid_auto_rows": null,
            "grid_gap": null,
            "max_width": null,
            "order": null,
            "_view_module_version": "1.2.0",
            "grid_template_areas": null,
            "object_position": null,
            "object_fit": null,
            "grid_auto_columns": null,
            "margin": null,
            "display": null,
            "left": null
          }
        },
        "426084f6521c4b1fbe06db3a43f628d4": {
          "model_module": "@jupyter-widgets/controls",
          "model_name": "DescriptionStyleModel",
          "model_module_version": "1.5.0",
          "state": {
            "_view_name": "StyleView",
            "_model_name": "DescriptionStyleModel",
            "description_width": "",
            "_view_module": "@jupyter-widgets/base",
            "_model_module_version": "1.5.0",
            "_view_count": null,
            "_view_module_version": "1.2.0",
            "_model_module": "@jupyter-widgets/controls"
          }
        },
        "ae425596793f4ad29d163e2deef0a880": {
          "model_module": "@jupyter-widgets/base",
          "model_name": "LayoutModel",
          "model_module_version": "1.2.0",
          "state": {
            "_view_name": "LayoutView",
            "grid_template_rows": null,
            "right": null,
            "justify_content": null,
            "_view_module": "@jupyter-widgets/base",
            "overflow": null,
            "_model_module_version": "1.2.0",
            "_view_count": null,
            "flex_flow": null,
            "width": null,
            "min_width": null,
            "border": null,
            "align_items": null,
            "bottom": null,
            "_model_module": "@jupyter-widgets/base",
            "top": null,
            "grid_column": null,
            "overflow_y": null,
            "overflow_x": null,
            "grid_auto_flow": null,
            "grid_area": null,
            "grid_template_columns": null,
            "flex": null,
            "_model_name": "LayoutModel",
            "justify_items": null,
            "grid_row": null,
            "max_height": null,
            "align_content": null,
            "visibility": null,
            "align_self": null,
            "height": null,
            "min_height": null,
            "padding": null,
            "grid_auto_rows": null,
            "grid_gap": null,
            "max_width": null,
            "order": null,
            "_view_module_version": "1.2.0",
            "grid_template_areas": null,
            "object_position": null,
            "object_fit": null,
            "grid_auto_columns": null,
            "margin": null,
            "display": null,
            "left": null
          }
        }
      }
    }
  },
  "cells": [
    {
      "cell_type": "code",
      "metadata": {
        "id": "b6c7ae1e"
      },
      "source": [
        "import torch\n",
        "import torch.nn as nn\n",
        "import torchvision\n",
        "import torchvision.transforms as transforms\n",
        "import numpy as np\n",
        "\n",
        "import matplotlib.pyplot as plt\n",
        "\n",
        "\n",
        "def weights_init(m):\n",
        "    if type(m) == nn.Linear:\n",
        "        m.weight.data.normal_(0.0, 1e-3)\n",
        "        m.bias.data.fill_(0.)\n",
        "\n",
        "def update_lr(optimizer, lr):\n",
        "    for param_group in optimizer.param_groups:\n",
        "        param_group['lr'] = lr\n"
      ],
      "id": "b6c7ae1e",
      "execution_count": 1,
      "outputs": []
    },
    {
      "cell_type": "code",
      "metadata": {
        "colab": {
          "base_uri": "https://localhost:8080/"
        },
        "id": "2cfad626",
        "outputId": "526f08eb-107b-48cd-fa37-7bcb335ce6fd"
      },
      "source": [
        "#--------------------------------\n",
        "# Device configuration\n",
        "#--------------------------------\n",
        "device = torch.device('cuda' if torch.cuda.is_available() else 'cpu')\n",
        "print('Using device: %s'%device)\n",
        "\n",
        "#--------------------------------\n",
        "# Hyper-parameters\n",
        "#--------------------------------\n",
        "input_size = 3\n",
        "num_classes = 10\n",
        "hidden_size = [128, 512, 512, 512, 512]\n",
        "num_epochs = 20\n",
        "batch_size = 200\n",
        "learning_rate = 2e-3\n",
        "learning_rate_decay = 0.95\n",
        "reg=0.001\n",
        "num_training= 49000\n",
        "num_validation =1000\n",
        "norm_layer = None #norm_layer = 'BN'\n",
        "print(hidden_size)\n"
      ],
      "id": "2cfad626",
      "execution_count": 2,
      "outputs": [
        {
          "output_type": "stream",
          "name": "stdout",
          "text": [
            "Using device: cuda\n",
            "[128, 512, 512, 512, 512]\n"
          ]
        }
      ]
    },
    {
      "cell_type": "code",
      "metadata": {
        "colab": {
          "base_uri": "https://localhost:8080/",
          "height": 82,
          "referenced_widgets": [
            "aa8e306bada14278bcfda4e978fd7bed",
            "0510455879524bbea7d3adbfd5a2c810",
            "b3aac3f861224026b78b8f0dfd003910",
            "2d72088a4f644811aa6aee73f0ae7f63",
            "efd349c66f064ed4be11cca0f8ce5e5f",
            "c5ed1e93ae9645bd9cdedaa5faa39ac0",
            "3fc9ff86d0fa4231bd7dfe5f2e356048",
            "1938cd655b2741f18f200900c14b834e",
            "051e55ccacc24706a9a13d19c64c968f",
            "426084f6521c4b1fbe06db3a43f628d4",
            "ae425596793f4ad29d163e2deef0a880"
          ]
        },
        "id": "79435830",
        "outputId": "98f77dd5-6585-4a17-cf50-8f9131861a48"
      },
      "source": [
        "#-------------------------------------------------\n",
        "# Load the CIFAR-10 dataset\n",
        "#-------------------------------------------------\n",
        "#################################################################################\n",
        "# TODO: Q3.a Choose the right data augmentation transforms with the right       #\n",
        "# hyper-parameters and put them in the data_aug_transforms variable             #\n",
        "#################################################################################\n",
        "data_aug_transforms = []\n",
        "# *****START OF YOUR CODE (DO NOT DELETE/MODIFY THIS LINE)*****\n",
        "#data_aug_transforms += [transforms.RandomCrop(32, padding = 4),\n",
        "#                        transforms.RandomHorizontalFlip()]\n",
        "\n",
        "# *****END OF YOUR CODE (DO NOT DELETE/MODIFY THIS LINE)***** \n",
        "norm_transform = transforms.Compose(data_aug_transforms+[transforms.ToTensor(),\n",
        "                                     transforms.Normalize((0.5, 0.5, 0.5), (0.5, 0.5, 0.5))\n",
        "                                     ])\n",
        "test_transform = transforms.Compose([transforms.ToTensor(),\n",
        "                                     transforms.Normalize((0.5, 0.5, 0.5), (0.5, 0.5, 0.5))\n",
        "                                     ])\n",
        "cifar_dataset = torchvision.datasets.CIFAR10(root='datasets/',\n",
        "                                           train=True,\n",
        "                                           transform=norm_transform,\n",
        "                                           download=True)\n",
        "\n",
        "test_dataset = torchvision.datasets.CIFAR10(root='datasets/',\n",
        "                                          train=False,\n",
        "                                          transform=test_transform\n",
        "                                          )\n"
      ],
      "id": "79435830",
      "execution_count": 3,
      "outputs": [
        {
          "output_type": "stream",
          "name": "stdout",
          "text": [
            "Downloading https://www.cs.toronto.edu/~kriz/cifar-10-python.tar.gz to datasets/cifar-10-python.tar.gz\n"
          ]
        },
        {
          "output_type": "display_data",
          "data": {
            "application/vnd.jupyter.widget-view+json": {
              "model_id": "aa8e306bada14278bcfda4e978fd7bed",
              "version_minor": 0,
              "version_major": 2
            },
            "text/plain": [
              "  0%|          | 0/170498071 [00:00<?, ?it/s]"
            ]
          },
          "metadata": {}
        },
        {
          "output_type": "stream",
          "name": "stdout",
          "text": [
            "Extracting datasets/cifar-10-python.tar.gz to datasets/\n"
          ]
        }
      ]
    },
    {
      "cell_type": "code",
      "metadata": {
        "id": "ae2c2ee0"
      },
      "source": [
        "#-------------------------------------------------\n",
        "# Prepare the training and validation splits\n",
        "#-------------------------------------------------\n",
        "mask = list(range(num_training))\n",
        "train_dataset = torch.utils.data.Subset(cifar_dataset, mask)\n",
        "mask = list(range(num_training, num_training + num_validation))\n",
        "val_dataset = torch.utils.data.Subset(cifar_dataset, mask)\n"
      ],
      "id": "ae2c2ee0",
      "execution_count": 4,
      "outputs": []
    },
    {
      "cell_type": "code",
      "metadata": {
        "id": "64d421a1"
      },
      "source": [
        "#-------------------------------------------------\n",
        "# Data loader\n",
        "#-------------------------------------------------\n",
        "train_loader = torch.utils.data.DataLoader(dataset=train_dataset,\n",
        "                                           batch_size=batch_size,\n",
        "                                           shuffle=True)\n",
        "\n",
        "val_loader = torch.utils.data.DataLoader(dataset=val_dataset,\n",
        "                                           batch_size=batch_size,\n",
        "                                           shuffle=False)\n",
        "\n",
        "test_loader = torch.utils.data.DataLoader(dataset=test_dataset,\n",
        "                                          batch_size=batch_size,\n",
        "                                          shuffle=False)\n",
        "\n"
      ],
      "id": "64d421a1",
      "execution_count": 5,
      "outputs": []
    },
    {
      "cell_type": "markdown",
      "metadata": {
        "id": "nfrM-oXV-dUx"
      },
      "source": [
        "### Question 1"
      ],
      "id": "nfrM-oXV-dUx"
    },
    {
      "cell_type": "code",
      "metadata": {
        "id": "f4e55b28"
      },
      "source": [
        "#-------------------------------------------------\n",
        "# Convolutional neural network (Q1.a and Q2.a)\n",
        "# Set norm_layer for different networks whether using batch normalization\n",
        "#-------------------------------------------------\n",
        "class ConvNet(nn.Module):\n",
        "    def __init__(self, input_size, hidden_layers, num_classes, norm_layer=None):\n",
        "        super(ConvNet, self).__init__()\n",
        "        #################################################################################\n",
        "        # TODO: Initialize the modules required to implement the convolutional layer    #\n",
        "        # described in the exercise.                                                    #\n",
        "        # For Q1.a make use of conv2d and relu layers from the torch.nn module.         #\n",
        "        # For Q2.a make use of BatchNorm2d layer from the torch.nn module.              #\n",
        "        # For Q3.b Use Dropout layer from the torch.nn module.                          #\n",
        "        #################################################################################\n",
        "        layers = []\n",
        "        # *****START OF YOUR CODE (DO NOT DELETE/MODIFY THIS LINE)*****\n",
        "        \n",
        "            \n",
        "        # Convolutional layer block 1\n",
        "\n",
        "        layers.append(nn.Conv2d(input_size, hidden_layers[0], kernel_size = 3, stride = 1, padding =1)),\n",
        "        layers.append(nn.MaxPool2d(kernel_size = 2, stride = 2)),\n",
        "        layers.append(nn.ReLU()),\n",
        "\n",
        "        # Convolution layer block 2 \n",
        "\n",
        "        layers.append(nn.Conv2d(hidden_layers[0], hidden_layers[1], kernel_size = 3, stride = 1, padding =1)),\n",
        "        layers.append(nn.MaxPool2d(kernel_size = 2, stride = 2)),\n",
        "        layers.append(nn.ReLU()),\n",
        "\n",
        "        # Convolution layer block 3 \n",
        "\n",
        "        layers.append(nn.Conv2d(hidden_layers[1], hidden_layers[2], kernel_size = 3, stride = 1, padding =1)),\n",
        "        layers.append(nn.MaxPool2d(kernel_size = 2, stride = 2)),\n",
        "        layers.append(nn.ReLU()),\n",
        "\n",
        "        # Convolution layer block 4 \n",
        "\n",
        "        layers.append(nn.Conv2d(hidden_layers[2], hidden_layers[3], kernel_size = 3, stride = 1, padding =1)),\n",
        "        layers.append(nn.MaxPool2d(kernel_size = 2, stride = 2)),\n",
        "        layers.append(nn.ReLU()),\n",
        "\n",
        "        # Convolution layer block 5\n",
        "\n",
        "        layers.append(nn.Conv2d(hidden_layers[3], hidden_layers[4], kernel_size = 3, stride = 1, padding =1)),\n",
        "        layers.append(nn.MaxPool2d(kernel_size = 2, stride = 2))\n",
        "        layers.append(nn.ReLU()),\n",
        "\n",
        "        self.conv_layer = nn.Sequential(*layers)\n",
        "        \n",
        "        self.Dense = nn.Sequential(\n",
        "            nn.Linear(512, 10)\n",
        "        )\n",
        "\n",
        "        # *****END OF YOUR CODE (DO NOT DELETE/MODIFY THIS LINE)*****\n",
        "\n",
        "    def forward(self, x):\n",
        "        #################################################################################\n",
        "        # TODO: Implement the forward pass computations                                 #\n",
        "        #################################################################################\n",
        "        # *****START OF YOUR CODE (DO NOT DELETE/MODIFY THIS LINE)*****\n",
        "        \n",
        "        # conv layers\n",
        "        x = self.conv_layer(x)\n",
        "        \n",
        "        # flatten\n",
        "        x = x.view(x.size(0), -1)\n",
        "        \n",
        "        # fully connected layer\n",
        "        out = self.Dense(x)\n",
        "\n",
        "\n",
        "        # *****END OF YOUR CODE (DO NOT DELETE/MODIFY THIS LINE)*****\n",
        "        return out\n"
      ],
      "id": "f4e55b28",
      "execution_count": null,
      "outputs": []
    },
    {
      "cell_type": "code",
      "metadata": {
        "colab": {
          "base_uri": "https://localhost:8080/"
        },
        "id": "f6b96f75",
        "outputId": "78730ad0-54fc-4785-aed8-8d59d989fcbc"
      },
      "source": [
        "#======================================================================================\n",
        "# Q1.a: Implementing convolutional neural net in PyTorch\n",
        "#======================================================================================\n",
        "# In this question we will implement a convolutional neural networks using the PyTorch\n",
        "# library.  Please complete the code for the ConvNet class evaluating the model\n",
        "#--------------------------------------------------------------------------------------\n",
        "model = ConvNet(input_size, hidden_size, num_classes, norm_layer=norm_layer).to(device)\n",
        "# Q2.a - Initialize the model with correct batch norm layer\n",
        "\n",
        "model.apply(weights_init)\n",
        "# Print the model\n",
        "print(model)"
      ],
      "id": "f6b96f75",
      "execution_count": null,
      "outputs": [
        {
          "output_type": "stream",
          "name": "stdout",
          "text": [
            "ConvNet(\n",
            "  (conv_layer): Sequential(\n",
            "    (0): Conv2d(3, 128, kernel_size=(3, 3), stride=(1, 1), padding=(1, 1))\n",
            "    (1): MaxPool2d(kernel_size=2, stride=2, padding=0, dilation=1, ceil_mode=False)\n",
            "    (2): ReLU()\n",
            "    (3): Conv2d(128, 512, kernel_size=(3, 3), stride=(1, 1), padding=(1, 1))\n",
            "    (4): MaxPool2d(kernel_size=2, stride=2, padding=0, dilation=1, ceil_mode=False)\n",
            "    (5): ReLU()\n",
            "    (6): Conv2d(512, 512, kernel_size=(3, 3), stride=(1, 1), padding=(1, 1))\n",
            "    (7): MaxPool2d(kernel_size=2, stride=2, padding=0, dilation=1, ceil_mode=False)\n",
            "    (8): ReLU()\n",
            "    (9): Conv2d(512, 512, kernel_size=(3, 3), stride=(1, 1), padding=(1, 1))\n",
            "    (10): MaxPool2d(kernel_size=2, stride=2, padding=0, dilation=1, ceil_mode=False)\n",
            "    (11): ReLU()\n",
            "    (12): Conv2d(512, 512, kernel_size=(3, 3), stride=(1, 1), padding=(1, 1))\n",
            "    (13): MaxPool2d(kernel_size=2, stride=2, padding=0, dilation=1, ceil_mode=False)\n",
            "    (14): ReLU()\n",
            "  )\n",
            "  (Dense): Sequential(\n",
            "    (0): Linear(in_features=512, out_features=10, bias=True)\n",
            "  )\n",
            ")\n"
          ]
        }
      ]
    },
    {
      "cell_type": "code",
      "metadata": {
        "id": "juo6_EjoWSIH"
      },
      "source": [
        "#-------------------------------------------------\n",
        "# Calculate the model size (Q1.b)\n",
        "# if disp is true, print the model parameters, otherwise, only return the number of parameters.\n",
        "#-------------------------------------------------\n",
        "def PrintModelSize(model, disp=True):\n",
        "    #################################################################################\n",
        "    # TODO: Implement the function to count the number of trainable parameters in   #\n",
        "    # the input model. This useful to track the capacity of the model you are       #\n",
        "    # training                                                                      #\n",
        "    #################################################################################\n",
        "    # *****START OF YOUR CODE (DO NOT DELETE/MODIFY THIS LINE)*****\n",
        "    model_sz = print(f\"The number of parameters for the described model: {sum(parameter.numel() for parameter in model.parameters())}\")\n",
        "\n",
        "\n",
        "    # *****END OF YOUR CODE (DO NOT DELETE/MODIFY THIS LINE)*****\n",
        "    return model_sz"
      ],
      "id": "juo6_EjoWSIH",
      "execution_count": null,
      "outputs": []
    },
    {
      "cell_type": "code",
      "metadata": {
        "colab": {
          "base_uri": "https://localhost:8080/"
        },
        "id": "Zg_bKjS0WSEJ",
        "outputId": "0da5e1da-2fa8-462f-d375-b14378bbb769"
      },
      "source": [
        "#======================================================================================\n",
        "# Q1.b: Implementing the function to count the number of trainable parameters in the model\n",
        "#======================================================================================\n",
        "PrintModelSize(model)"
      ],
      "id": "Zg_bKjS0WSEJ",
      "execution_count": null,
      "outputs": [
        {
          "output_type": "stream",
          "name": "stdout",
          "text": [
            "The number of parameters for the described model: 7678474\n"
          ]
        }
      ]
    },
    {
      "cell_type": "code",
      "metadata": {
        "id": "VzYIVZmpWSCP"
      },
      "source": [
        "def VisualizeFilter(model):\n",
        "    #################################################################################\n",
        "    # TODO: Implement the functiont to visualize the weights in the first conv layer#\n",
        "    # in the model. Visualize them as a single image of stacked filters.            #\n",
        "    # You can use matlplotlib.imshow to visualize an image in python                #\n",
        "    #################################################################################\n",
        "    # **START OF YOUR CODE (DO NOT DELETE/MODIFY THIS LINE)**\n",
        "    weight = model.conv_layer[0].weight.cpu().data.numpy()\n",
        "    filters = np.interp(weight, (weight.min(), weight.max()), (0, 1))\n",
        "\n",
        "    fig,axs=plt.subplots(8,16, figsize=(20,12),facecolor='black')\n",
        "    \n",
        "    axs=axs.ravel()\n",
        "    for i in range(len(filters)):\n",
        "        axs[i].imshow((filters[i]*255.0).astype(np.uint8))\n",
        "    \n",
        "    pass"
      ],
      "id": "VzYIVZmpWSCP",
      "execution_count": null,
      "outputs": []
    },
    {
      "cell_type": "code",
      "metadata": {
        "id": "ujzPoO-xOFG4"
      },
      "source": [
        "def VisualizeFilter(model):\n",
        "    #################################################################################\n",
        "    # TODO: Implement the functiont to visualize the weights in the first conv layer#\n",
        "    # in the model. Visualize them as a single image of stacked filters.            #\n",
        "    # You can use matlplotlib.imshow to visualize an image in python                #\n",
        "    #################################################################################\n",
        "    # *****START OF YOUR CODE (DO NOT DELETE/MODIFY THIS LINE)*****\n",
        "    kernel_map = np.zeros((7*4 + 3, 15*4 + 3, 3))\n",
        "\n",
        "    kernels = list(model.parameters())[0]\n",
        "    kernels = kernels.to(\"cpu\")\n",
        "    kernels = kernels.data.numpy()\n",
        "\n",
        "    kernels = (kernels - kernels.min()) / (kernels.max() - kernels.min())\n",
        "\n",
        "    cnt = 0\n",
        "    for i in range(0, 8*4,4):\n",
        "      for j in range(0, 16*4, 4):\n",
        "        kernel_map[i:i+3, j:j+3, :] = kernels[cnt]\n",
        "        cnt = cnt + 1\n",
        "\n",
        "    plt.figure(figsize=(20, 10))\n",
        "    plt.imshow(kernel_map)\n",
        "    plt.show()\n",
        "\n",
        "    pass\n"
      ],
      "id": "ujzPoO-xOFG4",
      "execution_count": null,
      "outputs": []
    },
    {
      "cell_type": "markdown",
      "metadata": {
        "id": "B6fhB1ReWxCr"
      },
      "source": [
        "Bafore training"
      ],
      "id": "B6fhB1ReWxCr"
    },
    {
      "cell_type": "code",
      "metadata": {
        "colab": {
          "base_uri": "https://localhost:8080/",
          "height": 668
        },
        "id": "EKz6jfCeWR_5",
        "outputId": "79f5f585-2286-4cdd-f063-458f649f868a"
      },
      "source": [
        "#======================================================================================\n",
        "# Q1.a: Implementing the function to visualize the filters in the first conv layers.\n",
        "# Visualize the filters before training\n",
        "#======================================================================================\n",
        "VisualizeFilter(model)"
      ],
      "id": "EKz6jfCeWR_5",
      "execution_count": null,
      "outputs": [
        {
          "output_type": "display_data",
          "data": {
            "image/png": "[encoded data removed]",
            "text/plain": [
              "<Figure size 1440x864 with 128 Axes>"
            ]
          },
          "metadata": {}
        }
      ]
    },
    {
      "cell_type": "code",
      "metadata": {
        "colab": {
          "base_uri": "https://localhost:8080/"
        },
        "id": "1f6aa282",
        "outputId": "865f31ea-239c-4c0b-9fba-be86531e638d"
      },
      "source": [
        "# Loss and optimizer\n",
        "criterion = nn.CrossEntropyLoss()\n",
        "optimizer = torch.optim.Adam(model.parameters(), lr=learning_rate, weight_decay=reg)\n",
        "\n",
        "# Train the model\n",
        "lr = learning_rate\n",
        "total_step = len(train_loader)\n",
        "loss_train = []\n",
        "loss_val = []\n",
        "best_accuracy = None\n",
        "accuracy_val = []\n",
        "best_model = type(model)(input_size, hidden_size, num_classes, norm_layer=norm_layer) # get a new instance\n",
        "#best_model = ConvNet(input_size, hidden_size, num_classes, norm_layer=norm_layer)\n",
        "for epoch in range(num_epochs):\n",
        "\n",
        "    model.train()\n",
        "\n",
        "    loss_iter = 0\n",
        "    for i, (images, labels) in enumerate(train_loader):\n",
        "        # Move tensors to the configured device\n",
        "        images = images.to(device)\n",
        "        labels = labels.to(device)\n",
        "\n",
        "        # Forward pass\n",
        "        outputs = model(images)\n",
        "        loss = criterion(outputs, labels)\n",
        "\n",
        "        # Backward and optimize\n",
        "        optimizer.zero_grad()\n",
        "        loss.backward()\n",
        "        optimizer.step()\n",
        "\n",
        "        loss_iter += loss.item()\n",
        "        \n",
        "        if (i+1) % 100 == 0:\n",
        "            print ('Epoch [{}/{}], Step [{}/{}], Loss: {:.4f}'\n",
        "                   .format(epoch+1, num_epochs, i+1, total_step, loss.item()))\n",
        "            \n",
        "    loss_train.append(loss_iter/(len(train_loader)*batch_size))\n",
        "\n",
        "    \n",
        "    # Code to update the lr\n",
        "    lr *= learning_rate_decay\n",
        "    update_lr(optimizer, lr)\n",
        "    \n",
        "        \n",
        "    model.eval()\n",
        "    with torch.no_grad():\n",
        "        correct = 0\n",
        "        total = 0\n",
        "        loss_iter = 0\n",
        "        for images, labels in val_loader:\n",
        "            images = images.to(device)\n",
        "            labels = labels.to(device)\n",
        "            \n",
        "            outputs = model(images)\n",
        "            _, predicted = torch.max(outputs.data, 1)\n",
        "            \n",
        "            total += labels.size(0)\n",
        "            correct += (predicted == labels).sum().item()\n",
        "            \n",
        "            loss = criterion(outputs, labels)\n",
        "            loss_iter += loss.item()\n",
        "        \n",
        "        loss_val.append(loss_iter/(len(val_loader)*batch_size))\n",
        "\n",
        "        accuracy = 100 * correct / total\n",
        "        accuracy_val.append(accuracy)\n",
        "        print('Validation accuracy is: {} %'.format(accuracy))\n",
        "        #################################################################################\n",
        "        # TODO: Q2.b Implement the early stopping mechanism to save the model which has #\n",
        "        # the model with the best validation accuracy so-far (use best_model).          #\n",
        "        #################################################################################\n",
        "\n",
        "        # *****START OF YOUR CODE (DO NOT DELETE/MODIFY THIS LINE)*****\n",
        "        \n",
        "        # checks if we have found a better model\n",
        "        #if epoch == 0 or accuracy >= np.max(accuracy_val):\n",
        "         #   best_model = model\n",
        "            # saves the model checkpoint\n",
        "          #  torch.save(best_model.state_dict(), 'model.ckpt')\n",
        "           # if epoch > 0:\n",
        "            #    print(f\"\\t The better model with {accuracy}% accuracy\")\n",
        "\n",
        "        # *****END OF YOUR CODE (DO NOT DELETE/MODIFY THIS LINE)*****"
      ],
      "id": "1f6aa282",
      "execution_count": null,
      "outputs": [
        {
          "output_type": "stream",
          "name": "stderr",
          "text": [
            "/usr/local/lib/python3.7/dist-packages/torch/nn/functional.py:718: UserWarning: Named tensors and all their associated APIs are an experimental feature and subject to change. Please do not use them for anything important until they are released as stable. (Triggered internally at  /pytorch/c10/core/TensorImpl.h:1156.)\n",
            "  return torch.max_pool2d(input, kernel_size, stride, padding, dilation, ceil_mode)\n"
          ]
        },
        {
          "output_type": "stream",
          "name": "stdout",
          "text": [
            "Epoch [1/20], Step [100/245], Loss: 1.8288\n",
            "Epoch [1/20], Step [200/245], Loss: 1.4479\n",
            "Validation accuracy is: 48.3 %\n",
            "Epoch [2/20], Step [100/245], Loss: 1.2674\n",
            "Epoch [2/20], Step [200/245], Loss: 1.0882\n",
            "Validation accuracy is: 59.7 %\n",
            "Epoch [3/20], Step [100/245], Loss: 1.1316\n",
            "Epoch [3/20], Step [200/245], Loss: 0.8886\n",
            "Validation accuracy is: 65.0 %\n",
            "Epoch [4/20], Step [100/245], Loss: 0.7743\n",
            "Epoch [4/20], Step [200/245], Loss: 0.8463\n",
            "Validation accuracy is: 71.8 %\n",
            "Epoch [5/20], Step [100/245], Loss: 0.6098\n",
            "Epoch [5/20], Step [200/245], Loss: 0.5414\n",
            "Validation accuracy is: 74.2 %\n",
            "Epoch [6/20], Step [100/245], Loss: 0.5991\n",
            "Epoch [6/20], Step [200/245], Loss: 0.7065\n",
            "Validation accuracy is: 77.2 %\n",
            "Epoch [7/20], Step [100/245], Loss: 0.5326\n",
            "Epoch [7/20], Step [200/245], Loss: 0.6303\n",
            "Validation accuracy is: 76.7 %\n",
            "Epoch [8/20], Step [100/245], Loss: 0.5023\n",
            "Epoch [8/20], Step [200/245], Loss: 0.4716\n",
            "Validation accuracy is: 77.5 %\n",
            "Epoch [9/20], Step [100/245], Loss: 0.4715\n",
            "Epoch [9/20], Step [200/245], Loss: 0.5571\n",
            "Validation accuracy is: 79.1 %\n",
            "Epoch [10/20], Step [100/245], Loss: 0.4836\n",
            "Epoch [10/20], Step [200/245], Loss: 0.5207\n",
            "Validation accuracy is: 79.7 %\n",
            "Epoch [11/20], Step [100/245], Loss: 0.3886\n",
            "Epoch [11/20], Step [200/245], Loss: 0.3289\n",
            "Validation accuracy is: 80.7 %\n",
            "Epoch [12/20], Step [100/245], Loss: 0.3644\n",
            "Epoch [12/20], Step [200/245], Loss: 0.4034\n",
            "Validation accuracy is: 81.6 %\n",
            "Epoch [13/20], Step [100/245], Loss: 0.3924\n",
            "Epoch [13/20], Step [200/245], Loss: 0.2761\n",
            "Validation accuracy is: 81.2 %\n",
            "Epoch [14/20], Step [100/245], Loss: 0.3121\n",
            "Epoch [14/20], Step [200/245], Loss: 0.3220\n",
            "Validation accuracy is: 80.8 %\n",
            "Epoch [15/20], Step [100/245], Loss: 0.2285\n",
            "Epoch [15/20], Step [200/245], Loss: 0.2949\n",
            "Validation accuracy is: 82.2 %\n",
            "Epoch [16/20], Step [100/245], Loss: 0.2624\n",
            "Epoch [16/20], Step [200/245], Loss: 0.2506\n",
            "Validation accuracy is: 81.9 %\n",
            "Epoch [17/20], Step [100/245], Loss: 0.2352\n",
            "Epoch [17/20], Step [200/245], Loss: 0.2181\n",
            "Validation accuracy is: 82.1 %\n",
            "Epoch [18/20], Step [100/245], Loss: 0.1775\n",
            "Epoch [18/20], Step [200/245], Loss: 0.2109\n",
            "Validation accuracy is: 81.6 %\n",
            "Epoch [19/20], Step [100/245], Loss: 0.1336\n",
            "Epoch [19/20], Step [200/245], Loss: 0.1297\n",
            "Validation accuracy is: 79.9 %\n",
            "Epoch [20/20], Step [100/245], Loss: 0.0845\n",
            "Epoch [20/20], Step [200/245], Loss: 0.1443\n",
            "Validation accuracy is: 81.3 %\n"
          ]
        }
      ]
    },
    {
      "cell_type": "code",
      "metadata": {
        "colab": {
          "base_uri": "https://localhost:8080/",
          "height": 513
        },
        "id": "nImQpI56ifN4",
        "outputId": "727078af-861d-4e65-f0f6-4739fe01c38d"
      },
      "source": [
        "# Test the model\n",
        "# In test phase, we don't need to compute gradients (for memory efficiency)\n",
        "model.eval()\n",
        "\n",
        "plt.figure(2)\n",
        "plt.plot(loss_train, 'r', label='Train loss')\n",
        "plt.plot(loss_val, 'g', label='Val loss')\n",
        "plt.legend()\n",
        "plt.show()\n",
        "\n",
        "plt.figure(3)\n",
        "plt.plot(accuracy_val, 'r', label='Val accuracy')\n",
        "plt.legend()\n",
        "plt.show()\n"
      ],
      "id": "nImQpI56ifN4",
      "execution_count": null,
      "outputs": [
        {
          "output_type": "display_data",
          "data": {
            "image/png": "[encoded data removed]",
            "text/plain": [
              "<Figure size 432x288 with 1 Axes>"
            ]
          },
          "metadata": {
            "needs_background": "light"
          }
        },
        {
          "output_type": "display_data",
          "data": {
            "image/png": "[encoded data removed]",
            "text/plain": [
              "<Figure size 432x288 with 1 Axes>"
            ]
          },
          "metadata": {
            "needs_background": "light"
          }
        }
      ]
    },
    {
      "cell_type": "markdown",
      "metadata": {
        "id": "k3yZ5qVnW-JD"
      },
      "source": [
        "After training"
      ],
      "id": "k3yZ5qVnW-JD"
    },
    {
      "cell_type": "code",
      "metadata": {
        "colab": {
          "base_uri": "https://localhost:8080/",
          "height": 668
        },
        "id": "YU5vi8BzJh1s",
        "outputId": "cef61486-27be-416d-d7ee-3cd039ec612f"
      },
      "source": [
        "#======================================================================================\n",
        "# Q1.a: Implementing the function to visualize the filters in the first conv layers.\n",
        "# Visualize the filters before training\n",
        "#======================================================================================\n",
        "VisualizeFilter(model)"
      ],
      "id": "YU5vi8BzJh1s",
      "execution_count": null,
      "outputs": [
        {
          "output_type": "display_data",
          "data": {
            "image/png": "[encoded data removed]",
            "text/plain": [
              "<Figure size 1440x864 with 128 Axes>"
            ]
          },
          "metadata": {}
        }
      ]
    },
    {
      "cell_type": "markdown",
      "metadata": {
        "id": "zzDMnv72-Xmk"
      },
      "source": [
        "### Question 2"
      ],
      "id": "zzDMnv72-Xmk"
    },
    {
      "cell_type": "code",
      "metadata": {
        "colab": {
          "base_uri": "https://localhost:8080/"
        },
        "id": "2_MFshXQIFH0",
        "outputId": "76bd803e-30b7-40fa-dbb5-1689aa099bea"
      },
      "source": [
        "#--------------------------------\n",
        "# Device configuration\n",
        "#--------------------------------\n",
        "device = torch.device('cuda' if torch.cuda.is_available() else 'cpu')\n",
        "print('Using device: %s'%device)\n",
        "\n",
        "#--------------------------------\n",
        "# Hyper-parameters\n",
        "#--------------------------------\n",
        "input_size = 3\n",
        "num_classes = 10\n",
        "hidden_size = [128, 512, 512, 512, 512]\n",
        "num_epochs = 50\n",
        "batch_size = 200\n",
        "learning_rate = 2e-3\n",
        "learning_rate_decay = 0.95\n",
        "reg=0.001\n",
        "num_training= 49000\n",
        "num_validation =1000\n",
        "norm_layer = None #norm_layer = 'BN'\n",
        "print(hidden_size)\n",
        "\n",
        "min_valid_loss = np.Inf\n",
        "n_epochs_stop = 6\n",
        "epochs_no_improve = 0\n",
        "early_stop = False\n"
      ],
      "id": "2_MFshXQIFH0",
      "execution_count": null,
      "outputs": [
        {
          "output_type": "stream",
          "name": "stdout",
          "text": [
            "Using device: cuda\n",
            "[128, 512, 512, 512, 512]\n"
          ]
        }
      ]
    },
    {
      "cell_type": "code",
      "metadata": {
        "id": "yb8kn9LpVwT7"
      },
      "source": [
        "#-------------------------------------------------\n",
        "# Convolutional neural network (Q1.a and Q2.a)\n",
        "# Set norm_layer for different networks whether using batch normalization\n",
        "#-------------------------------------------------\n",
        "class ConvNet(nn.Module):\n",
        "    def __init__(self, input_size, hidden_layers, num_classes, norm_layer=None):\n",
        "        super(ConvNet, self).__init__()\n",
        "        #################################################################################\n",
        "        # TODO: Initialize the modules required to implement the convolutional layer    #\n",
        "        # described in the exercise.                                                    #\n",
        "        # For Q1.a make use of conv2d and relu layers from the torch.nn module.         #\n",
        "        # For Q2.a make use of BatchNorm2d layer from the torch.nn module.              #\n",
        "        # For Q3.b Use Dropout layer from the torch.nn module.                          #\n",
        "        #################################################################################\n",
        "        layers = []\n",
        "        # *****START OF YOUR CODE (DO NOT DELETE/MODIFY THIS LINE)*****\n",
        "        \n",
        "            \n",
        "        # Convolutional layer block 1\n",
        "\n",
        "        layers.append(nn.Conv2d(input_size, hidden_size[0], kernel_size = 3, stride = 1, padding =1)),\n",
        "        #layers.append(nn.Dropout(0.2)),\n",
        "        layers.append(nn.BatchNorm2d(hidden_size[0])),\n",
        "        layers.append(nn.MaxPool2d(kernel_size = 2, stride = 2)),\n",
        "        layers.append(nn.ReLU()),\n",
        "\n",
        "        # Convolution layer block 2 \n",
        "\n",
        "        layers.append(nn.Conv2d(hidden_size[0], hidden_size[1], kernel_size = 3, stride = 1, padding =1)),\n",
        "        #layers.append(nn.Dropout(0.2)),\n",
        "        layers.append(nn.BatchNorm2d(hidden_size[1])),\n",
        "        layers.append(nn.MaxPool2d(kernel_size = 2, stride = 2)),\n",
        "        layers.append(nn.ReLU()),\n",
        "\n",
        "        # Convolution layer block 3 \n",
        "\n",
        "        layers.append(nn.Conv2d(hidden_size[1], hidden_size[2], kernel_size = 3, stride = 1, padding =1)),\n",
        "        #layers.append(nn.Dropout(0.2)),\n",
        "        layers.append(nn.BatchNorm2d(hidden_size[2])),\n",
        "        layers.append(nn.MaxPool2d(kernel_size = 2, stride = 2)),\n",
        "        layers.append(nn.ReLU()),\n",
        "\n",
        "        # Convolution layer block 4 \n",
        "\n",
        "        layers.append(nn.Conv2d(hidden_size[2], hidden_size[3], kernel_size = 3, stride = 1, padding =1)),\n",
        "        #layers.append(nn.Dropout(0.2)),\n",
        "        layers.append(nn.BatchNorm2d(hidden_size[3])),\n",
        "        layers.append(nn.MaxPool2d(kernel_size = 2, stride = 2)),\n",
        "        layers.append(nn.ReLU()),\n",
        "\n",
        "        # Convolution layer block 5\n",
        "\n",
        "        layers.append(nn.Conv2d(hidden_size[3], hidden_size[4], kernel_size = 3, stride = 1, padding =1)),\n",
        "        #layers.append(nn.Dropout(0.2)),\n",
        "        layers.append(nn.BatchNorm2d(hidden_size[4])),\n",
        "        layers.append(nn.MaxPool2d(kernel_size = 2, stride = 2))\n",
        "        layers.append(nn.ReLU()),\n",
        "\n",
        "        self.conv_layer = nn.Sequential(*layers)\n",
        "        \n",
        "        self.Dense = nn.Sequential(\n",
        "            nn.Linear(hidden_size[4], num_classes)\n",
        "        )\n",
        "\n",
        "        # *****END OF YOUR CODE (DO NOT DELETE/MODIFY THIS LINE)*****\n",
        "\n",
        "    def forward(self, x):\n",
        "        #################################################################################\n",
        "        # TODO: Implement the forward pass computations                                 #\n",
        "        #################################################################################\n",
        "        # *****START OF YOUR CODE (DO NOT DELETE/MODIFY THIS LINE)*****\n",
        "        \n",
        "        # conv layers\n",
        "        x = self.conv_layer(x)\n",
        "        \n",
        "        # flatten\n",
        "        x = x.view(x.size(0), -1)\n",
        "        \n",
        "        # fully connected layer\n",
        "        out = self.Dense(x)\n",
        "\n",
        "\n",
        "        # *****END OF YOUR CODE (DO NOT DELETE/MODIFY THIS LINE)*****\n",
        "        return out\n"
      ],
      "id": "yb8kn9LpVwT7",
      "execution_count": null,
      "outputs": []
    },
    {
      "cell_type": "code",
      "metadata": {
        "colab": {
          "base_uri": "https://localhost:8080/"
        },
        "id": "82TjIbl0_eZV",
        "outputId": "4f819fb3-4d5e-45ce-d6c3-bdc21f5fa9f8"
      },
      "source": [
        "#======================================================================================\n",
        "# Q1.a: Implementing convolutional neural net in PyTorch\n",
        "#======================================================================================\n",
        "# In this question we will implement a convolutional neural networks using the PyTorch\n",
        "# library.  Please complete the code for the ConvNet class evaluating the model\n",
        "#--------------------------------------------------------------------------------------\n",
        "model = ConvNet(input_size, hidden_size, num_classes, norm_layer=\"BN\").to(device)\n",
        "# Q2.a - Initialize the model with correct batch norm layer\n",
        "\n",
        "model.apply(weights_init)\n",
        "# Print the model\n",
        "print(model)"
      ],
      "id": "82TjIbl0_eZV",
      "execution_count": null,
      "outputs": [
        {
          "output_type": "stream",
          "name": "stdout",
          "text": [
            "ConvNet(\n",
            "  (conv_layer): Sequential(\n",
            "    (0): Conv2d(3, 128, kernel_size=(3, 3), stride=(1, 1), padding=(1, 1))\n",
            "    (1): BatchNorm2d(128, eps=1e-05, momentum=0.1, affine=True, track_running_stats=True)\n",
            "    (2): MaxPool2d(kernel_size=2, stride=2, padding=0, dilation=1, ceil_mode=False)\n",
            "    (3): ReLU()\n",
            "    (4): Conv2d(128, 512, kernel_size=(3, 3), stride=(1, 1), padding=(1, 1))\n",
            "    (5): BatchNorm2d(512, eps=1e-05, momentum=0.1, affine=True, track_running_stats=True)\n",
            "    (6): MaxPool2d(kernel_size=2, stride=2, padding=0, dilation=1, ceil_mode=False)\n",
            "    (7): ReLU()\n",
            "    (8): Conv2d(512, 512, kernel_size=(3, 3), stride=(1, 1), padding=(1, 1))\n",
            "    (9): BatchNorm2d(512, eps=1e-05, momentum=0.1, affine=True, track_running_stats=True)\n",
            "    (10): MaxPool2d(kernel_size=2, stride=2, padding=0, dilation=1, ceil_mode=False)\n",
            "    (11): ReLU()\n",
            "    (12): Conv2d(512, 512, kernel_size=(3, 3), stride=(1, 1), padding=(1, 1))\n",
            "    (13): BatchNorm2d(512, eps=1e-05, momentum=0.1, affine=True, track_running_stats=True)\n",
            "    (14): MaxPool2d(kernel_size=2, stride=2, padding=0, dilation=1, ceil_mode=False)\n",
            "    (15): ReLU()\n",
            "    (16): Conv2d(512, 512, kernel_size=(3, 3), stride=(1, 1), padding=(1, 1))\n",
            "    (17): BatchNorm2d(512, eps=1e-05, momentum=0.1, affine=True, track_running_stats=True)\n",
            "    (18): MaxPool2d(kernel_size=2, stride=2, padding=0, dilation=1, ceil_mode=False)\n",
            "    (19): ReLU()\n",
            "  )\n",
            "  (Dense): Sequential(\n",
            "    (0): Linear(in_features=512, out_features=10, bias=True)\n",
            "  )\n",
            ")\n"
          ]
        }
      ]
    },
    {
      "cell_type": "code",
      "metadata": {
        "colab": {
          "base_uri": "https://localhost:8080/"
        },
        "id": "lAQM3aCDCUHZ",
        "outputId": "f84240a9-2147-40be-dfd0-b4dfe8d5d6cf"
      },
      "source": [
        "# Loss and optimizer\n",
        "criterion = nn.CrossEntropyLoss()\n",
        "optimizer = torch.optim.Adam(model.parameters(), lr=learning_rate, weight_decay=reg)\n",
        "\n",
        "# Train the model\n",
        "lr = learning_rate\n",
        "total_step = len(train_loader)\n",
        "loss_train = []\n",
        "loss_val = []\n",
        "best_accuracy = 0\n",
        "accuracy_val = []\n",
        "best_model = type(model)(input_size, hidden_size, num_classes, norm_layer=norm_layer) # get a new instance\n",
        "#best_model = ConvNet(input_size, hidden_size, num_classes, norm_layer=norm_layer)\n",
        "for epoch in range(num_epochs):\n",
        "\n",
        "    model.train()\n",
        "\n",
        "    loss_iter = 0\n",
        "    for i, (images, labels) in enumerate(train_loader):\n",
        "        # Move tensors to the configured device\n",
        "        images = images.to(device)\n",
        "        labels = labels.to(device)\n",
        "\n",
        "        # Forward pass\n",
        "        outputs = model(images)\n",
        "        loss = criterion(outputs, labels)\n",
        "\n",
        "        # Backward and optimize\n",
        "        optimizer.zero_grad()\n",
        "        loss.backward()\n",
        "        optimizer.step()\n",
        "\n",
        "        loss_iter += loss.item()\n",
        "        \n",
        "        if (i+1) % 100 == 0:\n",
        "            print ('Epoch [{}/{}], Step [{}/{}], Loss: {:.4f}'\n",
        "                   .format(epoch+1, num_epochs, i+1, total_step, loss.item()))\n",
        "            \n",
        "    loss_train.append(loss_iter/(len(train_loader)*batch_size))\n",
        "\n",
        "    \n",
        "    \n",
        "    # Code to update the lr\n",
        "    lr *= learning_rate_decay\n",
        "    update_lr(optimizer, lr)\n",
        "    \n",
        "        \n",
        "    model.eval()\n",
        "    with torch.no_grad():\n",
        "        correct = 0\n",
        "        total = 0\n",
        "        loss_iter = 0\n",
        "        for images, labels in val_loader:\n",
        "            images = images.to(device)\n",
        "            labels = labels.to(device)\n",
        "            \n",
        "            outputs = model(images)\n",
        "            _, predicted = torch.max(outputs.data, 1)\n",
        "            \n",
        "            total += labels.size(0)\n",
        "            correct += (predicted == labels).sum().item()\n",
        "            \n",
        "            loss = criterion(outputs, labels)\n",
        "            loss_iter += loss.item()\n",
        "        \n",
        "        loss_val.append(loss_iter/(len(val_loader)*batch_size))\n",
        "\n",
        "        accuracy = 100 * correct / total\n",
        "        accuracy_val.append(accuracy)\n",
        "        print('Validation accuracy is: {} %'.format(accuracy))\n",
        "        #################################################################################\n",
        "        # TODO: Q2.b Implement the early stopping mechanism to save the model which has #\n",
        "        # the model with the best validation accuracy so-far (use best_model).          #\n",
        "        #################################################################################\n",
        "\n",
        "        # *****START OF YOUR CODE (DO NOT DELETE/MODIFY THIS LINE)*****\n",
        "        if epoch == 0 or accuracy >= np.max(accuracy_val):\n",
        "            best_model = model\n",
        "            # saves the model checkpoint\n",
        "            torch.save(best_model.state_dict(), 'model.ckpt')\n",
        "            if epoch > 0:\n",
        "                print(\n",
        "                    f\"\\tHigher validation accuracy at epoch {epoch+1} with acuracy {accuracy}%\")\n",
        "        # *****END OF YOUR CODE (DO NOT DELETE/MODIFY THIS LINE)*****"
      ],
      "id": "lAQM3aCDCUHZ",
      "execution_count": null,
      "outputs": [
        {
          "output_type": "stream",
          "name": "stdout",
          "text": [
            "Epoch [1/50], Step [100/245], Loss: 0.5183\n",
            "Epoch [1/50], Step [200/245], Loss: 0.6832\n",
            "Validation accuracy is: 71.2 %\n",
            "Epoch [2/50], Step [100/245], Loss: 0.6460\n",
            "Epoch [2/50], Step [200/245], Loss: 0.3351\n",
            "Validation accuracy is: 75.5 %\n",
            "\tHigher validation accuracy at epoch 2 with acuracy 75.5%\n",
            "Epoch [3/50], Step [100/245], Loss: 0.4680\n",
            "Epoch [3/50], Step [200/245], Loss: 0.4685\n",
            "Validation accuracy is: 77.1 %\n",
            "\tHigher validation accuracy at epoch 3 with acuracy 77.1%\n",
            "Epoch [4/50], Step [100/245], Loss: 0.3647\n",
            "Epoch [4/50], Step [200/245], Loss: 0.4326\n",
            "Validation accuracy is: 78.8 %\n",
            "\tHigher validation accuracy at epoch 4 with acuracy 78.8%\n",
            "Epoch [5/50], Step [100/245], Loss: 0.3637\n",
            "Epoch [5/50], Step [200/245], Loss: 0.3241\n",
            "Validation accuracy is: 78.4 %\n",
            "Epoch [6/50], Step [100/245], Loss: 0.2828\n",
            "Epoch [6/50], Step [200/245], Loss: 0.3509\n",
            "Validation accuracy is: 79.1 %\n",
            "\tHigher validation accuracy at epoch 6 with acuracy 79.1%\n",
            "Epoch [7/50], Step [100/245], Loss: 0.2700\n",
            "Epoch [7/50], Step [200/245], Loss: 0.2295\n",
            "Validation accuracy is: 79.3 %\n",
            "\tHigher validation accuracy at epoch 7 with acuracy 79.3%\n",
            "Epoch [8/50], Step [100/245], Loss: 0.1978\n",
            "Epoch [8/50], Step [200/245], Loss: 0.2763\n",
            "Validation accuracy is: 79.0 %\n",
            "Epoch [9/50], Step [100/245], Loss: 0.1986\n",
            "Epoch [9/50], Step [200/245], Loss: 0.2720\n",
            "Validation accuracy is: 75.9 %\n",
            "Epoch [10/50], Step [100/245], Loss: 0.1673\n",
            "Epoch [10/50], Step [200/245], Loss: 0.2251\n",
            "Validation accuracy is: 78.4 %\n",
            "Epoch [11/50], Step [100/245], Loss: 0.0864\n",
            "Epoch [11/50], Step [200/245], Loss: 0.2451\n",
            "Validation accuracy is: 81.7 %\n",
            "\tHigher validation accuracy at epoch 11 with acuracy 81.7%\n",
            "Epoch [12/50], Step [100/245], Loss: 0.0988\n",
            "Epoch [12/50], Step [200/245], Loss: 0.1450\n",
            "Validation accuracy is: 81.6 %\n",
            "Epoch [13/50], Step [100/245], Loss: 0.0754\n",
            "Epoch [13/50], Step [200/245], Loss: 0.1173\n",
            "Validation accuracy is: 82.3 %\n",
            "\tHigher validation accuracy at epoch 13 with acuracy 82.3%\n",
            "Epoch [14/50], Step [100/245], Loss: 0.0995\n",
            "Epoch [14/50], Step [200/245], Loss: 0.1029\n",
            "Validation accuracy is: 81.2 %\n",
            "Epoch [15/50], Step [100/245], Loss: 0.0750\n",
            "Epoch [15/50], Step [200/245], Loss: 0.1645\n",
            "Validation accuracy is: 80.5 %\n",
            "Epoch [16/50], Step [100/245], Loss: 0.0528\n",
            "Epoch [16/50], Step [200/245], Loss: 0.0780\n",
            "Validation accuracy is: 78.5 %\n",
            "Epoch [17/50], Step [100/245], Loss: 0.0810\n",
            "Epoch [17/50], Step [200/245], Loss: 0.0933\n",
            "Validation accuracy is: 81.1 %\n",
            "Epoch [18/50], Step [100/245], Loss: 0.0404\n",
            "Epoch [18/50], Step [200/245], Loss: 0.0635\n",
            "Validation accuracy is: 79.6 %\n",
            "Epoch [19/50], Step [100/245], Loss: 0.0352\n",
            "Epoch [19/50], Step [200/245], Loss: 0.0881\n",
            "Validation accuracy is: 82.3 %\n",
            "\tHigher validation accuracy at epoch 19 with acuracy 82.3%\n",
            "Epoch [20/50], Step [100/245], Loss: 0.0427\n",
            "Epoch [20/50], Step [200/245], Loss: 0.0344\n",
            "Validation accuracy is: 82.5 %\n",
            "\tHigher validation accuracy at epoch 20 with acuracy 82.5%\n",
            "Epoch [21/50], Step [100/245], Loss: 0.0222\n",
            "Epoch [21/50], Step [200/245], Loss: 0.0344\n",
            "Validation accuracy is: 81.0 %\n",
            "Epoch [22/50], Step [100/245], Loss: 0.0216\n",
            "Epoch [22/50], Step [200/245], Loss: 0.0532\n",
            "Validation accuracy is: 82.7 %\n",
            "\tHigher validation accuracy at epoch 22 with acuracy 82.7%\n",
            "Epoch [23/50], Step [100/245], Loss: 0.0379\n",
            "Epoch [23/50], Step [200/245], Loss: 0.0453\n",
            "Validation accuracy is: 83.5 %\n",
            "\tHigher validation accuracy at epoch 23 with acuracy 83.5%\n",
            "Epoch [24/50], Step [100/245], Loss: 0.0144\n",
            "Epoch [24/50], Step [200/245], Loss: 0.0178\n",
            "Validation accuracy is: 82.3 %\n",
            "Epoch [25/50], Step [100/245], Loss: 0.0412\n",
            "Epoch [25/50], Step [200/245], Loss: 0.0301\n",
            "Validation accuracy is: 82.9 %\n",
            "Epoch [26/50], Step [100/245], Loss: 0.0283\n",
            "Epoch [26/50], Step [200/245], Loss: 0.0304\n",
            "Validation accuracy is: 83.6 %\n",
            "\tHigher validation accuracy at epoch 26 with acuracy 83.6%\n",
            "Epoch [27/50], Step [100/245], Loss: 0.0323\n",
            "Epoch [27/50], Step [200/245], Loss: 0.0364\n",
            "Validation accuracy is: 82.7 %\n",
            "Epoch [28/50], Step [100/245], Loss: 0.0291\n",
            "Epoch [28/50], Step [200/245], Loss: 0.0260\n",
            "Validation accuracy is: 82.0 %\n",
            "Epoch [29/50], Step [100/245], Loss: 0.0218\n",
            "Epoch [29/50], Step [200/245], Loss: 0.0486\n",
            "Validation accuracy is: 82.6 %\n",
            "Epoch [30/50], Step [100/245], Loss: 0.0325\n",
            "Epoch [30/50], Step [200/245], Loss: 0.0097\n",
            "Validation accuracy is: 83.3 %\n",
            "Epoch [31/50], Step [100/245], Loss: 0.0042\n",
            "Epoch [31/50], Step [200/245], Loss: 0.0041\n",
            "Validation accuracy is: 84.4 %\n",
            "\tHigher validation accuracy at epoch 31 with acuracy 84.4%\n",
            "Epoch [32/50], Step [100/245], Loss: 0.0046\n",
            "Epoch [32/50], Step [200/245], Loss: 0.0026\n",
            "Validation accuracy is: 83.8 %\n",
            "Epoch [33/50], Step [100/245], Loss: 0.0026\n",
            "Epoch [33/50], Step [200/245], Loss: 0.0035\n",
            "Validation accuracy is: 84.1 %\n",
            "Epoch [34/50], Step [100/245], Loss: 0.0035\n",
            "Epoch [34/50], Step [200/245], Loss: 0.0041\n",
            "Validation accuracy is: 85.0 %\n",
            "\tHigher validation accuracy at epoch 34 with acuracy 85.0%\n",
            "Epoch [35/50], Step [100/245], Loss: 0.0046\n",
            "Epoch [35/50], Step [200/245], Loss: 0.0035\n",
            "Validation accuracy is: 84.3 %\n",
            "Epoch [36/50], Step [100/245], Loss: 0.0049\n",
            "Epoch [36/50], Step [200/245], Loss: 0.0038\n",
            "Validation accuracy is: 84.8 %\n",
            "Epoch [37/50], Step [100/245], Loss: 0.0031\n",
            "Epoch [37/50], Step [200/245], Loss: 0.0046\n",
            "Validation accuracy is: 84.5 %\n",
            "Epoch [38/50], Step [100/245], Loss: 0.0040\n",
            "Epoch [38/50], Step [200/245], Loss: 0.0114\n",
            "Validation accuracy is: 76.9 %\n",
            "Epoch [39/50], Step [100/245], Loss: 0.1426\n",
            "Epoch [39/50], Step [200/245], Loss: 0.0844\n",
            "Validation accuracy is: 82.3 %\n",
            "Epoch [40/50], Step [100/245], Loss: 0.0497\n",
            "Epoch [40/50], Step [200/245], Loss: 0.0225\n",
            "Validation accuracy is: 84.2 %\n",
            "Epoch [41/50], Step [100/245], Loss: 0.0063\n",
            "Epoch [41/50], Step [200/245], Loss: 0.0091\n",
            "Validation accuracy is: 84.0 %\n",
            "Epoch [42/50], Step [100/245], Loss: 0.0027\n",
            "Epoch [42/50], Step [200/245], Loss: 0.0038\n",
            "Validation accuracy is: 84.1 %\n",
            "Epoch [43/50], Step [100/245], Loss: 0.0030\n",
            "Epoch [43/50], Step [200/245], Loss: 0.0038\n",
            "Validation accuracy is: 84.4 %\n",
            "Epoch [44/50], Step [100/245], Loss: 0.0027\n",
            "Epoch [44/50], Step [200/245], Loss: 0.0031\n",
            "Validation accuracy is: 84.1 %\n",
            "Epoch [45/50], Step [100/245], Loss: 0.0031\n",
            "Epoch [45/50], Step [200/245], Loss: 0.0025\n",
            "Validation accuracy is: 84.7 %\n",
            "Epoch [46/50], Step [100/245], Loss: 0.0037\n",
            "Epoch [46/50], Step [200/245], Loss: 0.0035\n",
            "Validation accuracy is: 85.1 %\n",
            "\tHigher validation accuracy at epoch 46 with acuracy 85.1%\n",
            "Epoch [47/50], Step [100/245], Loss: 0.0029\n",
            "Epoch [47/50], Step [200/245], Loss: 0.0026\n",
            "Validation accuracy is: 84.6 %\n",
            "Epoch [48/50], Step [100/245], Loss: 0.0041\n",
            "Epoch [48/50], Step [200/245], Loss: 0.0033\n",
            "Validation accuracy is: 84.8 %\n",
            "Epoch [49/50], Step [100/245], Loss: 0.0026\n",
            "Epoch [49/50], Step [200/245], Loss: 0.0044\n",
            "Validation accuracy is: 83.9 %\n",
            "Epoch [50/50], Step [100/245], Loss: 0.0032\n",
            "Epoch [50/50], Step [200/245], Loss: 0.0028\n",
            "Validation accuracy is: 84.1 %\n"
          ]
        }
      ]
    },
    {
      "cell_type": "code",
      "metadata": {
        "colab": {
          "base_uri": "https://localhost:8080/",
          "height": 513
        },
        "id": "DgfSADaK-TxS",
        "outputId": "46942eda-73c9-45b9-c6d9-c9d5ef6a3fe9"
      },
      "source": [
        "# Test the model\n",
        "# In test phase, we don't need to compute gradients (for memory efficiency)\n",
        "model.eval()\n",
        "\n",
        "plt.figure(2)\n",
        "plt.plot(loss_train, 'r', label='Train loss')\n",
        "plt.plot(loss_val, 'g', label='Val loss')\n",
        "plt.legend()\n",
        "plt.show()\n",
        "\n",
        "plt.figure(3)\n",
        "plt.plot(accuracy_val, 'r', label='Val accuracy')\n",
        "plt.legend()\n",
        "plt.show()"
      ],
      "id": "DgfSADaK-TxS",
      "execution_count": null,
      "outputs": [
        {
          "output_type": "display_data",
          "data": {
            "image/png": "[encoded data removed]",
            "text/plain": [
              "<Figure size 432x288 with 1 Axes>"
            ]
          },
          "metadata": {
            "needs_background": "light"
          }
        },
        {
          "output_type": "display_data",
          "data": {
            "image/png": "[encoded data removed]",
            "text/plain": [
              "<Figure size 432x288 with 1 Axes>"
            ]
          },
          "metadata": {
            "needs_background": "light"
          }
        }
      ]
    },
    {
      "cell_type": "markdown",
      "metadata": {
        "id": "bRWqz6MNUu0p"
      },
      "source": [
        "### Question 3"
      ],
      "id": "bRWqz6MNUu0p"
    },
    {
      "cell_type": "code",
      "metadata": {
        "colab": {
          "base_uri": "https://localhost:8080/"
        },
        "id": "o9mQM4fNfxDR",
        "outputId": "0700e881-a185-4829-d5c7-884af2e0c5f3"
      },
      "source": [
        "import torch\n",
        "import torch.nn as nn\n",
        "import torchvision\n",
        "import torchvision.transforms as transforms\n",
        "import numpy as np\n",
        "\n",
        "import matplotlib.pyplot as plt\n",
        "\n",
        "\n",
        "def weights_init(m):\n",
        "    if type(m) == nn.Linear:\n",
        "        m.weight.data.normal_(0.0, 1e-3)\n",
        "        m.bias.data.fill_(0.)\n",
        "\n",
        "def update_lr(optimizer, lr):\n",
        "    for param_group in optimizer.param_groups:\n",
        "        param_group['lr'] = lr\n",
        "\n",
        "\n",
        "\n",
        "#--------------------------------\n",
        "# Device configuration\n",
        "#--------------------------------\n",
        "device = torch.device('cuda' if torch.cuda.is_available() else 'cpu')\n",
        "print('Using device: %s'%device)\n"
      ],
      "id": "o9mQM4fNfxDR",
      "execution_count": 19,
      "outputs": [
        {
          "output_type": "stream",
          "name": "stdout",
          "text": [
            "Using device: cuda\n"
          ]
        }
      ]
    },
    {
      "cell_type": "code",
      "metadata": {
        "colab": {
          "base_uri": "https://localhost:8080/"
        },
        "id": "9kgFxCV1UzNL",
        "outputId": "8d26bc9e-d3a3-411d-dbf2-761a1568e777"
      },
      "source": [
        "#--------------------------------\n",
        "# Hyper-parameters\n",
        "#--------------------------------\n",
        "input_size = 3\n",
        "num_classes = 10\n",
        "hidden_size = [128, 512, 512, 512, 512]\n",
        "num_epochs = 40\n",
        "batch_size = 200\n",
        "learning_rate = 2e-3\n",
        "learning_rate_decay = 0.95\n",
        "reg=0.001\n",
        "num_training= 49000\n",
        "num_validation =1000\n",
        "norm_layer = None #norm_layer = 'BN'\n",
        "print(hidden_size)\n",
        "\n",
        "p = 0.1"
      ],
      "id": "9kgFxCV1UzNL",
      "execution_count": 118,
      "outputs": [
        {
          "output_type": "stream",
          "name": "stdout",
          "text": [
            "[128, 512, 512, 512, 512]\n"
          ]
        }
      ]
    },
    {
      "cell_type": "code",
      "metadata": {
        "colab": {
          "base_uri": "https://localhost:8080/"
        },
        "id": "50azrKkHVGb8",
        "outputId": "7178897b-1378-404b-c704-675e2e9a4fed"
      },
      "source": [
        "#-------------------------------------------------\n",
        "# Load the CIFAR-10 dataset\n",
        "#-------------------------------------------------\n",
        "#################################################################################\n",
        "# TODO: Q3.a Choose the right data augmentation transforms with the right       #\n",
        "# hyper-parameters and put them in the data_aug_transforms variable             #\n",
        "#################################################################################\n",
        "data_aug_transforms = []\n",
        "# *****START OF YOUR CODE (DO NOT DELETE/MODIFY THIS LINE)*****\n",
        "data_aug_transforms += [transforms.RandomHorizontalFlip(0.5),\n",
        "                        transforms.RandomPerspective(distortion_scale=0.5, p=0.5, interpolation=3, fill=0),\n",
        "                        transforms.ColorJitter(brightness=0.1, contrast=0.05, saturation=0.1, hue=0.05)]\n",
        "\n",
        "# *****END OF YOUR CODE (DO NOT DELETE/MODIFY THIS LINE)*****\n",
        "norm_transform = transforms.Compose(data_aug_transforms+[transforms.ToTensor(),\n",
        "                                     transforms.Normalize((0.5, 0.5, 0.5), (0.5, 0.5, 0.5))\n",
        "                                     ])\n",
        "test_transform = transforms.Compose([transforms.ToTensor(),\n",
        "                                     transforms.Normalize((0.5, 0.5, 0.5), (0.5, 0.5, 0.5))\n",
        "                                     ])\n",
        "cifar_dataset = torchvision.datasets.CIFAR10(root='datasets/',\n",
        "                                           train=True,\n",
        "                                           transform=norm_transform,\n",
        "                                           download=True)\n",
        "\n",
        "test_dataset = torchvision.datasets.CIFAR10(root='datasets/',\n",
        "                                          train=False,\n",
        "                                          transform=test_transform\n",
        "                                          )"
      ],
      "id": "50azrKkHVGb8",
      "execution_count": 126,
      "outputs": [
        {
          "output_type": "stream",
          "name": "stderr",
          "text": [
            "/usr/local/lib/python3.7/dist-packages/torchvision/transforms/transforms.py:734: UserWarning: Argument interpolation should be of type InterpolationMode instead of int. Please, use InterpolationMode enum.\n",
            "  \"Argument interpolation should be of type InterpolationMode instead of int. \"\n"
          ]
        },
        {
          "output_type": "stream",
          "name": "stdout",
          "text": [
            "Files already downloaded and verified\n"
          ]
        }
      ]
    },
    {
      "cell_type": "code",
      "metadata": {
        "id": "p_a1cUASfCk9"
      },
      "source": [
        "#-------------------------------------------------\n",
        "# Prepare the training and validation splits\n",
        "#-------------------------------------------------\n",
        "mask = list(range(num_training))\n",
        "train_dataset = torch.utils.data.Subset(cifar_dataset, mask)\n",
        "mask = list(range(num_training, num_training + num_validation))\n",
        "val_dataset = torch.utils.data.Subset(cifar_dataset, mask)\n",
        "\n",
        "#-------------------------------------------------\n",
        "# Data loader\n",
        "#-------------------------------------------------\n",
        "train_loader = torch.utils.data.DataLoader(dataset=train_dataset,\n",
        "                                           batch_size=batch_size,\n",
        "                                           shuffle=True)\n",
        "\n",
        "val_loader = torch.utils.data.DataLoader(dataset=val_dataset,\n",
        "                                           batch_size=batch_size,\n",
        "                                           shuffle=False)\n",
        "\n",
        "test_loader = torch.utils.data.DataLoader(dataset=test_dataset,\n",
        "                                          batch_size=batch_size,\n",
        "                                          shuffle=False)\n"
      ],
      "id": "p_a1cUASfCk9",
      "execution_count": 127,
      "outputs": []
    },
    {
      "cell_type": "code",
      "metadata": {
        "id": "0suETgRwAcKR"
      },
      "source": [
        "#-------------------------------------------------\n",
        "# Convolutional neural network (Q1.a and Q2.a)\n",
        "# Set norm_layer for different networks whether using batch normalization\n",
        "#-------------------------------------------------\n",
        "class ConvNet(nn.Module):\n",
        "    def __init__(self, input_size, hidden_layers, num_classes, norm_layer=None):\n",
        "        super(ConvNet, self).__init__()\n",
        "        #################################################################################\n",
        "        # TODO: Initialize the modules required to implement the convolutional layer    #\n",
        "        # described in the exercise.                                                    #\n",
        "        # For Q1.a make use of conv2d and relu layers from the torch.nn module.         #\n",
        "        # For Q2.a make use of BatchNorm2d layer from the torch.nn module.              #\n",
        "        # For Q3.b Use Dropout layer from the torch.nn module.                          #\n",
        "        #################################################################################\n",
        "        layers = []\n",
        "        # *****START OF YOUR CODE (DO NOT DELETE/MODIFY THIS LINE)*****\n",
        "        \n",
        "            \n",
        "        # Convolutional layer block 1\n",
        "\n",
        "        layers.append(nn.Conv2d(input_size, hidden_size[0], kernel_size = 3, stride = 1, padding =1)),\n",
        "        #layers.append(nn.Dropout(p)),\n",
        "        layers.append(nn.BatchNorm2d(hidden_size[0])),\n",
        "        layers.append(nn.MaxPool2d(kernel_size = 2, stride = 2)),\n",
        "        layers.append(nn.ReLU()),\n",
        "\n",
        "        # Convolution layer block 2 \n",
        "\n",
        "        layers.append(nn.Conv2d(hidden_size[0], hidden_size[1], kernel_size = 3, stride = 1, padding =1)),\n",
        "        #layers.append(nn.Dropout(0.2)),\n",
        "        layers.append(nn.BatchNorm2d(hidden_size[1])),\n",
        "        layers.append(nn.MaxPool2d(kernel_size = 2, stride = 2)),\n",
        "        layers.append(nn.ReLU()),\n",
        "\n",
        "        # Convolution layer block 3 \n",
        "\n",
        "        layers.append(nn.Conv2d(hidden_size[1], hidden_size[2], kernel_size = 3, stride = 1, padding =1)),\n",
        "        #layers.append(nn.Dropout(0.2)),\n",
        "        layers.append(nn.BatchNorm2d(hidden_size[2])),\n",
        "        layers.append(nn.MaxPool2d(kernel_size = 2, stride = 2)),\n",
        "        layers.append(nn.ReLU()),\n",
        "\n",
        "        # Convolution layer block 4 \n",
        "\n",
        "        layers.append(nn.Conv2d(hidden_size[2], hidden_size[3], kernel_size = 3, stride = 1, padding =1)),\n",
        "        #layers.append(nn.Dropout(0.2)),\n",
        "        layers.append(nn.BatchNorm2d(hidden_size[3])),\n",
        "        layers.append(nn.MaxPool2d(kernel_size = 2, stride = 2)),\n",
        "        layers.append(nn.ReLU()),\n",
        "\n",
        "        # Convolution layer block 5\n",
        "\n",
        "        layers.append(nn.Conv2d(hidden_size[3], hidden_size[4], kernel_size = 3, stride = 1, padding =1)),\n",
        "        #layers.append(nn.Dropout(0.2)),\n",
        "        layers.append(nn.BatchNorm2d(hidden_size[4])),\n",
        "        layers.append(nn.MaxPool2d(kernel_size = 2, stride = 2))\n",
        "        layers.append(nn.ReLU()),\n",
        "\n",
        "        self.conv_layer = nn.Sequential(*layers)\n",
        "        \n",
        "        self.Dense = nn.Sequential(\n",
        "            nn.Linear(hidden_size[4], num_classes)\n",
        "        )\n",
        "\n",
        "        # *****END OF YOUR CODE (DO NOT DELETE/MODIFY THIS LINE)*****\n",
        "\n",
        "    def forward(self, x):\n",
        "        #################################################################################\n",
        "        # TODO: Implement the forward pass computations                                 #\n",
        "        #################################################################################\n",
        "        # *****START OF YOUR CODE (DO NOT DELETE/MODIFY THIS LINE)*****\n",
        "        \n",
        "        # conv layers\n",
        "        x = self.conv_layer(x)\n",
        "        \n",
        "        # flatten\n",
        "        x = x.view(x.size(0), -1)\n",
        "        \n",
        "        # fully connected layer\n",
        "        out = self.Dense(x)\n",
        "\n",
        "\n",
        "        # *****END OF YOUR CODE (DO NOT DELETE/MODIFY THIS LINE)*****\n",
        "        return out\n"
      ],
      "id": "0suETgRwAcKR",
      "execution_count": 128,
      "outputs": []
    },
    {
      "cell_type": "code",
      "metadata": {
        "colab": {
          "base_uri": "https://localhost:8080/"
        },
        "id": "sI_EdYipfem9",
        "outputId": "6d463aac-00d3-4429-99b9-37c25cebe473"
      },
      "source": [
        "#======================================================================================\n",
        "# Q1.a: Implementing convolutional neural net in PyTorch\n",
        "#======================================================================================\n",
        "# In this question we will implement a convolutional neural networks using the PyTorch\n",
        "# library.  Please complete the code for the ConvNet class evaluating the model\n",
        "#--------------------------------------------------------------------------------------\n",
        "model = ConvNet(input_size, hidden_size, num_classes, norm_layer=norm_layer).to(device)\n",
        "# Q2.a - Initialize the model with correct batch norm layer\n",
        "\n",
        "model.apply(weights_init)\n",
        "# Print the model\n",
        "print(model)"
      ],
      "id": "sI_EdYipfem9",
      "execution_count": 129,
      "outputs": [
        {
          "output_type": "stream",
          "name": "stdout",
          "text": [
            "ConvNet(\n",
            "  (conv_layer): Sequential(\n",
            "    (0): Conv2d(3, 128, kernel_size=(3, 3), stride=(1, 1), padding=(1, 1))\n",
            "    (1): BatchNorm2d(128, eps=1e-05, momentum=0.1, affine=True, track_running_stats=True)\n",
            "    (2): MaxPool2d(kernel_size=2, stride=2, padding=0, dilation=1, ceil_mode=False)\n",
            "    (3): ReLU()\n",
            "    (4): Conv2d(128, 512, kernel_size=(3, 3), stride=(1, 1), padding=(1, 1))\n",
            "    (5): BatchNorm2d(512, eps=1e-05, momentum=0.1, affine=True, track_running_stats=True)\n",
            "    (6): MaxPool2d(kernel_size=2, stride=2, padding=0, dilation=1, ceil_mode=False)\n",
            "    (7): ReLU()\n",
            "    (8): Conv2d(512, 512, kernel_size=(3, 3), stride=(1, 1), padding=(1, 1))\n",
            "    (9): BatchNorm2d(512, eps=1e-05, momentum=0.1, affine=True, track_running_stats=True)\n",
            "    (10): MaxPool2d(kernel_size=2, stride=2, padding=0, dilation=1, ceil_mode=False)\n",
            "    (11): ReLU()\n",
            "    (12): Conv2d(512, 512, kernel_size=(3, 3), stride=(1, 1), padding=(1, 1))\n",
            "    (13): BatchNorm2d(512, eps=1e-05, momentum=0.1, affine=True, track_running_stats=True)\n",
            "    (14): MaxPool2d(kernel_size=2, stride=2, padding=0, dilation=1, ceil_mode=False)\n",
            "    (15): ReLU()\n",
            "    (16): Conv2d(512, 512, kernel_size=(3, 3), stride=(1, 1), padding=(1, 1))\n",
            "    (17): BatchNorm2d(512, eps=1e-05, momentum=0.1, affine=True, track_running_stats=True)\n",
            "    (18): MaxPool2d(kernel_size=2, stride=2, padding=0, dilation=1, ceil_mode=False)\n",
            "    (19): ReLU()\n",
            "  )\n",
            "  (Dense): Sequential(\n",
            "    (0): Linear(in_features=512, out_features=10, bias=True)\n",
            "  )\n",
            ")\n"
          ]
        }
      ]
    },
    {
      "cell_type": "code",
      "metadata": {
        "id": "oFagpFI9M50X",
        "colab": {
          "base_uri": "https://localhost:8080/"
        },
        "outputId": "d26faa0d-9fad-423d-eb17-80a88220f71d"
      },
      "source": [
        "# Loss and optimizer\n",
        "criterion = nn.CrossEntropyLoss()\n",
        "optimizer = torch.optim.Adam(model.parameters(), lr=learning_rate, weight_decay=reg)\n",
        "\n",
        "# Train the model\n",
        "lr = learning_rate\n",
        "total_step = len(train_loader)\n",
        "loss_train = []\n",
        "loss_val = []\n",
        "best_accuracy = None\n",
        "accuracy_val = []\n",
        "best_model = type(model)(input_size, hidden_size, num_classes, norm_layer=norm_layer) # get a new instance\n",
        "#best_model = ConvNet(input_size, hidden_size, num_classes, norm_layer=norm_layer)\n",
        "for epoch in range(num_epochs):\n",
        "\n",
        "    model.train()\n",
        "\n",
        "    loss_iter = 0\n",
        "    for i, (images, labels) in enumerate(train_loader):\n",
        "        # Move tensors to the configured device\n",
        "        images = images.to(device)\n",
        "        labels = labels.to(device)\n",
        "\n",
        "        # Forward pass\n",
        "        outputs = model(images)\n",
        "        loss = criterion(outputs, labels)\n",
        "\n",
        "        # Backward and optimize\n",
        "        optimizer.zero_grad()\n",
        "        loss.backward()\n",
        "        optimizer.step()\n",
        "\n",
        "        loss_iter += loss.item()\n",
        "        \n",
        "        if (i+1) % 100 == 0:\n",
        "            print ('Epoch [{}/{}], Step [{}/{}], Loss: {:.4f}'\n",
        "                   .format(epoch+1, num_epochs, i+1, total_step, loss.item()))\n",
        "            \n",
        "    loss_train.append(loss_iter/(len(train_loader)*batch_size))\n",
        "\n",
        "    \n",
        "    # Code to update the lr\n",
        "    lr *= learning_rate_decay\n",
        "    update_lr(optimizer, lr)\n",
        "    \n",
        "        \n",
        "    model.eval()\n",
        "    with torch.no_grad():\n",
        "        correct = 0\n",
        "        total = 0\n",
        "        loss_iter = 0\n",
        "        for images, labels in val_loader:\n",
        "            images = images.to(device)\n",
        "            labels = labels.to(device)\n",
        "            \n",
        "            outputs = model(images)\n",
        "            _, predicted = torch.max(outputs.data, 1)\n",
        "            \n",
        "            total += labels.size(0)\n",
        "            correct += (predicted == labels).sum().item()\n",
        "            \n",
        "            loss = criterion(outputs, labels)\n",
        "            loss_iter += loss.item()\n",
        "        \n",
        "        loss_val.append(loss_iter/(len(val_loader)*batch_size))\n",
        "\n",
        "        accuracy = 100 * correct / total\n",
        "        accuracy_val.append(accuracy)\n",
        "        print('Validation accuracy is: {} %'.format(accuracy))\n",
        "        #################################################################################\n",
        "        # TODO: Q2.b Implement the early stopping mechanism to save the model which has #\n",
        "        # the model with the best validation accuracy so-far (use best_model).          #\n",
        "        #################################################################################\n",
        "\n",
        "        # *****START OF YOUR CODE (DO NOT DELETE/MODIFY THIS LINE)*****\n",
        "\n",
        "        \n",
        "\n",
        "        # *****END OF YOUR CODE (DO NOT DELETE/MODIFY THIS LINE)*****\n"
      ],
      "id": "oFagpFI9M50X",
      "execution_count": 130,
      "outputs": [
        {
          "output_type": "stream",
          "name": "stdout",
          "text": [
            "Epoch [1/40], Step [100/245], Loss: 1.5392\n",
            "Epoch [1/40], Step [200/245], Loss: 1.3199\n",
            "Validation accuracy is: 44.3 %\n",
            "Epoch [2/40], Step [100/245], Loss: 1.3189\n",
            "Epoch [2/40], Step [200/245], Loss: 1.1952\n",
            "Validation accuracy is: 49.7 %\n",
            "Epoch [3/40], Step [100/245], Loss: 0.9307\n",
            "Epoch [3/40], Step [200/245], Loss: 1.0659\n",
            "Validation accuracy is: 61.3 %\n",
            "Epoch [4/40], Step [100/245], Loss: 0.9974\n",
            "Epoch [4/40], Step [200/245], Loss: 0.8006\n",
            "Validation accuracy is: 64.6 %\n",
            "Epoch [5/40], Step [100/245], Loss: 0.8745\n",
            "Epoch [5/40], Step [200/245], Loss: 0.8401\n",
            "Validation accuracy is: 68.4 %\n",
            "Epoch [6/40], Step [100/245], Loss: 0.6380\n",
            "Epoch [6/40], Step [200/245], Loss: 0.8212\n",
            "Validation accuracy is: 71.5 %\n",
            "Epoch [7/40], Step [100/245], Loss: 0.6912\n",
            "Epoch [7/40], Step [200/245], Loss: 0.7718\n",
            "Validation accuracy is: 72.6 %\n",
            "Epoch [8/40], Step [100/245], Loss: 0.8034\n",
            "Epoch [8/40], Step [200/245], Loss: 0.6701\n",
            "Validation accuracy is: 70.7 %\n",
            "Epoch [9/40], Step [100/245], Loss: 0.7185\n",
            "Epoch [9/40], Step [200/245], Loss: 0.7931\n",
            "Validation accuracy is: 75.5 %\n",
            "Epoch [10/40], Step [100/245], Loss: 0.5663\n",
            "Epoch [10/40], Step [200/245], Loss: 0.7649\n",
            "Validation accuracy is: 73.8 %\n",
            "Epoch [11/40], Step [100/245], Loss: 0.6179\n",
            "Epoch [11/40], Step [200/245], Loss: 0.7010\n",
            "Validation accuracy is: 75.9 %\n",
            "Epoch [12/40], Step [100/245], Loss: 0.6638\n",
            "Epoch [12/40], Step [200/245], Loss: 0.4420\n",
            "Validation accuracy is: 74.1 %\n",
            "Epoch [13/40], Step [100/245], Loss: 0.5644\n",
            "Epoch [13/40], Step [200/245], Loss: 0.4653\n",
            "Validation accuracy is: 75.5 %\n",
            "Epoch [14/40], Step [100/245], Loss: 0.5852\n",
            "Epoch [14/40], Step [200/245], Loss: 0.5386\n",
            "Validation accuracy is: 74.5 %\n",
            "Epoch [15/40], Step [100/245], Loss: 0.4845\n",
            "Epoch [15/40], Step [200/245], Loss: 0.5622\n",
            "Validation accuracy is: 79.3 %\n",
            "Epoch [16/40], Step [100/245], Loss: 0.5580\n",
            "Epoch [16/40], Step [200/245], Loss: 0.6051\n",
            "Validation accuracy is: 80.6 %\n",
            "Epoch [17/40], Step [100/245], Loss: 0.4666\n",
            "Epoch [17/40], Step [200/245], Loss: 0.4732\n",
            "Validation accuracy is: 77.4 %\n",
            "Epoch [18/40], Step [100/245], Loss: 0.4507\n",
            "Epoch [18/40], Step [200/245], Loss: 0.4083\n",
            "Validation accuracy is: 79.9 %\n",
            "Epoch [19/40], Step [100/245], Loss: 0.4549\n",
            "Epoch [19/40], Step [200/245], Loss: 0.3888\n",
            "Validation accuracy is: 80.2 %\n",
            "Epoch [20/40], Step [100/245], Loss: 0.4626\n",
            "Epoch [20/40], Step [200/245], Loss: 0.3901\n",
            "Validation accuracy is: 79.8 %\n",
            "Epoch [21/40], Step [100/245], Loss: 0.4974\n",
            "Epoch [21/40], Step [200/245], Loss: 0.4311\n",
            "Validation accuracy is: 80.9 %\n",
            "Epoch [22/40], Step [100/245], Loss: 0.4644\n",
            "Epoch [22/40], Step [200/245], Loss: 0.4558\n",
            "Validation accuracy is: 81.0 %\n",
            "Epoch [23/40], Step [100/245], Loss: 0.3579\n",
            "Epoch [23/40], Step [200/245], Loss: 0.3086\n",
            "Validation accuracy is: 78.0 %\n",
            "Epoch [24/40], Step [100/245], Loss: 0.3211\n",
            "Epoch [24/40], Step [200/245], Loss: 0.4060\n",
            "Validation accuracy is: 81.9 %\n",
            "Epoch [25/40], Step [100/245], Loss: 0.4658\n",
            "Epoch [25/40], Step [200/245], Loss: 0.3969\n",
            "Validation accuracy is: 83.2 %\n",
            "Epoch [26/40], Step [100/245], Loss: 0.3495\n",
            "Epoch [26/40], Step [200/245], Loss: 0.4132\n",
            "Validation accuracy is: 84.0 %\n",
            "Epoch [27/40], Step [100/245], Loss: 0.3755\n",
            "Epoch [27/40], Step [200/245], Loss: 0.4535\n",
            "Validation accuracy is: 80.6 %\n",
            "Epoch [28/40], Step [100/245], Loss: 0.3521\n",
            "Epoch [28/40], Step [200/245], Loss: 0.3962\n",
            "Validation accuracy is: 82.7 %\n",
            "Epoch [29/40], Step [100/245], Loss: 0.3026\n",
            "Epoch [29/40], Step [200/245], Loss: 0.3351\n",
            "Validation accuracy is: 82.0 %\n",
            "Epoch [30/40], Step [100/245], Loss: 0.2699\n",
            "Epoch [30/40], Step [200/245], Loss: 0.3009\n",
            "Validation accuracy is: 83.1 %\n",
            "Epoch [31/40], Step [100/245], Loss: 0.2944\n",
            "Epoch [31/40], Step [200/245], Loss: 0.4201\n",
            "Validation accuracy is: 83.5 %\n",
            "Epoch [32/40], Step [100/245], Loss: 0.2408\n",
            "Epoch [32/40], Step [200/245], Loss: 0.3877\n",
            "Validation accuracy is: 81.5 %\n",
            "Epoch [33/40], Step [100/245], Loss: 0.3492\n",
            "Epoch [33/40], Step [200/245], Loss: 0.3861\n",
            "Validation accuracy is: 82.9 %\n",
            "Epoch [34/40], Step [100/245], Loss: 0.2458\n",
            "Epoch [34/40], Step [200/245], Loss: 0.3391\n",
            "Validation accuracy is: 82.2 %\n",
            "Epoch [35/40], Step [100/245], Loss: 0.3849\n",
            "Epoch [35/40], Step [200/245], Loss: 0.2733\n",
            "Validation accuracy is: 84.5 %\n",
            "Epoch [36/40], Step [100/245], Loss: 0.2272\n",
            "Epoch [36/40], Step [200/245], Loss: 0.3793\n",
            "Validation accuracy is: 86.1 %\n",
            "Epoch [37/40], Step [100/245], Loss: 0.3361\n",
            "Epoch [37/40], Step [200/245], Loss: 0.3115\n",
            "Validation accuracy is: 83.4 %\n",
            "Epoch [38/40], Step [100/245], Loss: 0.3910\n",
            "Epoch [38/40], Step [200/245], Loss: 0.2910\n",
            "Validation accuracy is: 83.6 %\n",
            "Epoch [39/40], Step [100/245], Loss: 0.2310\n",
            "Epoch [39/40], Step [200/245], Loss: 0.2614\n",
            "Validation accuracy is: 84.0 %\n",
            "Epoch [40/40], Step [100/245], Loss: 0.2752\n",
            "Epoch [40/40], Step [200/245], Loss: 0.2269\n",
            "Validation accuracy is: 83.8 %\n"
          ]
        }
      ]
    },
    {
      "cell_type": "code",
      "metadata": {
        "colab": {
          "base_uri": "https://localhost:8080/"
        },
        "id": "o3foGtE4fdNS",
        "outputId": "3d5b6530-1c74-4518-f56e-7a148217f5ec"
      },
      "source": [
        "np.max(accuracy_val)"
      ],
      "id": "o3foGtE4fdNS",
      "execution_count": 131,
      "outputs": [
        {
          "output_type": "execute_result",
          "data": {
            "text/plain": [
              "86.1"
            ]
          },
          "metadata": {},
          "execution_count": 131
        }
      ]
    },
    {
      "cell_type": "code",
      "metadata": {
        "colab": {
          "base_uri": "https://localhost:8080/",
          "height": 513
        },
        "id": "6Av8ITZHsmku",
        "outputId": "4b1a199f-9a0e-4376-f31c-c765d1aba754"
      },
      "source": [
        "# Test the model\n",
        "# In test phase, we don't need to compute gradients (for memory efficiency)\n",
        "model.eval()\n",
        "\n",
        "\n",
        "\n",
        "plt.figure(2)\n",
        "plt.plot(loss_train, 'r', label='Train loss')\n",
        "plt.plot(loss_val, 'g', label='Val loss')\n",
        "plt.legend()\n",
        "plt.show()\n",
        "\n",
        "plt.figure(3)\n",
        "plt.plot(accuracy_val, 'r', label='Val accuracy')\n",
        "plt.legend()\n",
        "plt.show()"
      ],
      "id": "6Av8ITZHsmku",
      "execution_count": 132,
      "outputs": [
        {
          "output_type": "display_data",
          "data": {
            "image/png": "[encoded data removed]",
            "text/plain": [
              "<Figure size 432x288 with 1 Axes>"
            ]
          },
          "metadata": {
            "needs_background": "light"
          }
        },
        {
          "output_type": "display_data",
          "data": {
            "image/png": "[encoded data removed]",
            "text/plain": [
              "<Figure size 432x288 with 1 Axes>"
            ]
          },
          "metadata": {
            "needs_background": "light"
          }
        }
      ]
    },
    {
      "cell_type": "markdown",
      "metadata": {
        "id": "j228aU6usIMu"
      },
      "source": [
        "data_aug_transforms += [transforms.RandomCrop(32, padding=4),\n",
        "                        transforms.RandomHorizontalFlip(),\n",
        "                        transforms.RandomVerticalFlip(),\n",
        "                        transforms.RandomPerspective(distortion_scale=0.5, p=0.5, interpolation=3, fill=0),\n",
        "                        transforms.RandomAffine(0, translate=[0.2,0.2]),\n",
        "                        transforms.RandomRotation(degrees=(-180,180)),\n",
        "                        transforms.ColorJitter(brightness=0.1, contrast=0.05, saturation=0.1, hue=0.05)]\n",
        "\n",
        "Highest validation accuracy : 58.8%\n"
      ],
      "id": "j228aU6usIMu"
    },
    {
      "cell_type": "markdown",
      "metadata": {
        "id": "t-4FDaeKuk8T"
      },
      "source": [
        "data_aug_transforms += [transforms.RandomHorizontalFlip(),\n",
        "                        transforms.RandomPerspective(distortion_scale=0.5, p=0.5, interpolation=3, fill=0),\n",
        "                        transforms.RandomAffine(0, translate=[0.2,0.2]),\n",
        "                        transforms.RandomRotation(degrees=(-180,180)),\n",
        "                        transforms.ColorJitter(brightness=0.1, contrast=0.05, saturation=0.1, hue=0.05)]\n",
        "\n",
        "Highest Validation accuracy : 62.4"
      ],
      "id": "t-4FDaeKuk8T"
    },
    {
      "cell_type": "markdown",
      "metadata": {
        "id": "qhKLnAtYADxm"
      },
      "source": [
        "data_aug_transforms += [transforms.RandomHorizontalFlip(0.5),\n",
        "                        transforms.RandomPerspective(distortion_scale=0.5, p=0.5, interpolation=3, fill=0),\n",
        "                        transforms.RandomAffine(0, translate=[0.2,0.2]),\n",
        "                        transforms.ColorJitter(brightness=0.1, contrast=0.05, saturation=0.1, hue=0.05)]\n",
        "\n",
        "Highest Validation accuarcy: 84.3"
      ],
      "id": "qhKLnAtYADxm"
    },
    {
      "cell_type": "markdown",
      "metadata": {
        "id": "ftZlvF0HJJoS"
      },
      "source": [
        "data_aug_transforms += [transforms.RandomHorizontalFlip(0.5),\n",
        "                        transforms.RandomPerspective(distortion_scale=0.5, p=0.5, interpolation=3, fill=0),\n",
        "                        transforms.ColorJitter(brightness=0.1, contrast=0.05, saturation=0.1, hue=0.05)]\n",
        "\n",
        "Highest validation accuracy : 86.1"
      ],
      "id": "ftZlvF0HJJoS"
    },
    {
      "cell_type": "markdown",
      "metadata": {
        "id": "RZobzEM9Jmg9"
      },
      "source": [
        "Question 3 b"
      ],
      "id": "RZobzEM9Jmg9"
    },
    {
      "cell_type": "code",
      "metadata": {
        "colab": {
          "base_uri": "https://localhost:8080/"
        },
        "id": "f9YIEBp3Lhb7",
        "outputId": "fe5405f3-2525-4bcc-b9c8-36768d2f6600"
      },
      "source": [
        "#--------------------------------\n",
        "# Hyper-parameters\n",
        "#--------------------------------\n",
        "input_size = 3\n",
        "num_classes = 10\n",
        "hidden_size = [128, 512, 512, 512, 512]\n",
        "num_epochs = 30\n",
        "batch_size = 200\n",
        "learning_rate = 2e-3\n",
        "learning_rate_decay = 0.95\n",
        "reg=0.001\n",
        "num_training= 49000\n",
        "num_validation =1000\n",
        "norm_layer = None #norm_layer = 'BN'\n",
        "print(hidden_size)\n",
        "\n",
        "p = 0.2"
      ],
      "id": "f9YIEBp3Lhb7",
      "execution_count": 144,
      "outputs": [
        {
          "output_type": "stream",
          "name": "stdout",
          "text": [
            "[128, 512, 512, 512, 512]\n"
          ]
        }
      ]
    },
    {
      "cell_type": "code",
      "metadata": {
        "colab": {
          "base_uri": "https://localhost:8080/"
        },
        "id": "asYcBrI1JqQY",
        "outputId": "c4d2dd1f-8a13-4612-c221-b4423196aec7"
      },
      "source": [
        "#-------------------------------------------------\n",
        "# Load the CIFAR-10 dataset\n",
        "#-------------------------------------------------\n",
        "#################################################################################\n",
        "# TODO: Q3.a Choose the right data augmentation transforms with the right       #\n",
        "# hyper-parameters and put them in the data_aug_transforms variable             #\n",
        "#################################################################################\n",
        "data_aug_transforms = []\n",
        "# *****START OF YOUR CODE (DO NOT DELETE/MODIFY THIS LINE)*****\n",
        "\n",
        "# *****END OF YOUR CODE (DO NOT DELETE/MODIFY THIS LINE)*****\n",
        "norm_transform = transforms.Compose(data_aug_transforms+[transforms.ToTensor(),\n",
        "                                     transforms.Normalize((0.5, 0.5, 0.5), (0.5, 0.5, 0.5))\n",
        "                                     ])\n",
        "test_transform = transforms.Compose([transforms.ToTensor(),\n",
        "                                     transforms.Normalize((0.5, 0.5, 0.5), (0.5, 0.5, 0.5))\n",
        "                                     ])\n",
        "cifar_dataset = torchvision.datasets.CIFAR10(root='datasets/',\n",
        "                                           train=True,\n",
        "                                           transform=norm_transform,\n",
        "                                           download=True)\n",
        "\n",
        "test_dataset = torchvision.datasets.CIFAR10(root='datasets/',\n",
        "                                          train=False,\n",
        "                                          transform=test_transform\n",
        "                                          )"
      ],
      "id": "asYcBrI1JqQY",
      "execution_count": 133,
      "outputs": [
        {
          "output_type": "stream",
          "name": "stdout",
          "text": [
            "Files already downloaded and verified\n"
          ]
        }
      ]
    },
    {
      "cell_type": "code",
      "metadata": {
        "id": "9BC0OybIJqCc"
      },
      "source": [
        "#-------------------------------------------------\n",
        "# Prepare the training and validation splits\n",
        "#-------------------------------------------------\n",
        "mask = list(range(num_training))\n",
        "train_dataset = torch.utils.data.Subset(cifar_dataset, mask)\n",
        "mask = list(range(num_training, num_training + num_validation))\n",
        "val_dataset = torch.utils.data.Subset(cifar_dataset, mask)\n",
        "\n",
        "#-------------------------------------------------\n",
        "# Data loader\n",
        "#-------------------------------------------------\n",
        "train_loader = torch.utils.data.DataLoader(dataset=train_dataset,\n",
        "                                           batch_size=batch_size,\n",
        "                                           shuffle=True)\n",
        "\n",
        "val_loader = torch.utils.data.DataLoader(dataset=val_dataset,\n",
        "                                           batch_size=batch_size,\n",
        "                                           shuffle=False)\n",
        "\n",
        "test_loader = torch.utils.data.DataLoader(dataset=test_dataset,\n",
        "                                          batch_size=batch_size,\n",
        "                                          shuffle=False)\n"
      ],
      "id": "9BC0OybIJqCc",
      "execution_count": 134,
      "outputs": []
    },
    {
      "cell_type": "code",
      "metadata": {
        "id": "UtGzPAy3sR7k"
      },
      "source": [
        "#-------------------------------------------------\n",
        "# Convolutional neural network (Q1.a and Q2.a)\n",
        "# Set norm_layer for different networks whether using batch normalization\n",
        "#-------------------------------------------------\n",
        "class ConvNet(nn.Module):\n",
        "    def __init__(self, input_size, hidden_layers, num_classes, norm_layer=None):\n",
        "        super(ConvNet, self).__init__()\n",
        "        #################################################################################\n",
        "        # TODO: Initialize the modules required to implement the convolutional layer    #\n",
        "        # described in the exercise.                                                    #\n",
        "        # For Q1.a make use of conv2d and relu layers from the torch.nn module.         #\n",
        "        # For Q2.a make use of BatchNorm2d layer from the torch.nn module.              #\n",
        "        # For Q3.b Use Dropout layer from the torch.nn module.                          #\n",
        "        #################################################################################\n",
        "        layers = []\n",
        "        # *****START OF YOUR CODE (DO NOT DELETE/MODIFY THIS LINE)*****\n",
        "        \n",
        "            \n",
        "        # Convolutional layer block 1\n",
        "\n",
        "        layers.append(nn.Conv2d(input_size, hidden_size[0], kernel_size = 3, stride = 1, padding =1)),\n",
        "        layers.append(nn.Dropout(p)),\n",
        "        layers.append(nn.BatchNorm2d(hidden_size[0])),\n",
        "        layers.append(nn.MaxPool2d(kernel_size = 2, stride = 2)),\n",
        "        layers.append(nn.ReLU()),\n",
        "\n",
        "        # Convolution layer block 2 \n",
        "\n",
        "        layers.append(nn.Conv2d(hidden_size[0], hidden_size[1], kernel_size = 3, stride = 1, padding =1)),\n",
        "        layers.append(nn.Dropout(p)),\n",
        "        layers.append(nn.BatchNorm2d(hidden_size[1])),\n",
        "        layers.append(nn.MaxPool2d(kernel_size = 2, stride = 2)),\n",
        "        layers.append(nn.ReLU()),\n",
        "\n",
        "        # Convolution layer block 3 \n",
        "\n",
        "        layers.append(nn.Conv2d(hidden_size[1], hidden_size[2], kernel_size = 3, stride = 1, padding =1)),\n",
        "        layers.append(nn.Dropout(p)),\n",
        "        layers.append(nn.BatchNorm2d(hidden_size[2])),\n",
        "        layers.append(nn.MaxPool2d(kernel_size = 2, stride = 2)),\n",
        "        layers.append(nn.ReLU()),\n",
        "\n",
        "        # Convolution layer block 4 \n",
        "\n",
        "        layers.append(nn.Conv2d(hidden_size[2], hidden_size[3], kernel_size = 3, stride = 1, padding =1)),\n",
        "        layers.append(nn.Dropout(p)),\n",
        "        layers.append(nn.BatchNorm2d(hidden_size[3])),\n",
        "        layers.append(nn.MaxPool2d(kernel_size = 2, stride = 2)),\n",
        "        layers.append(nn.ReLU()),\n",
        "\n",
        "        # Convolution layer block 5\n",
        "\n",
        "        layers.append(nn.Conv2d(hidden_size[3], hidden_size[4], kernel_size = 3, stride = 1, padding =1)),\n",
        "        layers.append(nn.Dropout(p)),\n",
        "        layers.append(nn.BatchNorm2d(hidden_size[4])),\n",
        "        layers.append(nn.MaxPool2d(kernel_size = 2, stride = 2))\n",
        "        layers.append(nn.ReLU()),\n",
        "\n",
        "        self.conv_layer = nn.Sequential(*layers)\n",
        "        \n",
        "        self.Dense = nn.Sequential(\n",
        "            nn.Linear(hidden_size[4], num_classes)\n",
        "        )\n",
        "\n",
        "        # *****END OF YOUR CODE (DO NOT DELETE/MODIFY THIS LINE)*****\n",
        "\n",
        "    def forward(self, x):\n",
        "        #################################################################################\n",
        "        # TODO: Implement the forward pass computations                                 #\n",
        "        #################################################################################\n",
        "        # *****START OF YOUR CODE (DO NOT DELETE/MODIFY THIS LINE)*****\n",
        "        \n",
        "        # conv layers\n",
        "        x = self.conv_layer(x)\n",
        "        \n",
        "        # flatten\n",
        "        x = x.view(x.size(0), -1)\n",
        "        \n",
        "        # fully connected layer\n",
        "        out = self.Dense(x)\n",
        "\n",
        "\n",
        "        # *****END OF YOUR CODE (DO NOT DELETE/MODIFY THIS LINE)*****\n",
        "        return out\n"
      ],
      "id": "UtGzPAy3sR7k",
      "execution_count": 145,
      "outputs": []
    },
    {
      "cell_type": "code",
      "metadata": {
        "colab": {
          "base_uri": "https://localhost:8080/"
        },
        "id": "frCY8yrXKNvI",
        "outputId": "e9c0e8e8-11f1-40b4-8c74-18d7bd0ec06b"
      },
      "source": [
        "#======================================================================================\n",
        "# Q1.a: Implementing convolutional neural net in PyTorch\n",
        "#======================================================================================\n",
        "# In this question we will implement a convolutional neural networks using the PyTorch\n",
        "# library.  Please complete the code for the ConvNet class evaluating the model\n",
        "#--------------------------------------------------------------------------------------\n",
        "model = ConvNet(input_size, hidden_size, num_classes, norm_layer=norm_layer).to(device)\n",
        "# Q2.a - Initialize the model with correct batch norm layer\n",
        "\n",
        "model.apply(weights_init)\n",
        "# Print the model\n",
        "print(model)"
      ],
      "id": "frCY8yrXKNvI",
      "execution_count": 146,
      "outputs": [
        {
          "output_type": "stream",
          "name": "stdout",
          "text": [
            "ConvNet(\n",
            "  (conv_layer): Sequential(\n",
            "    (0): Conv2d(3, 128, kernel_size=(3, 3), stride=(1, 1), padding=(1, 1))\n",
            "    (1): Dropout(p=0.2, inplace=False)\n",
            "    (2): BatchNorm2d(128, eps=1e-05, momentum=0.1, affine=True, track_running_stats=True)\n",
            "    (3): MaxPool2d(kernel_size=2, stride=2, padding=0, dilation=1, ceil_mode=False)\n",
            "    (4): ReLU()\n",
            "    (5): Conv2d(128, 512, kernel_size=(3, 3), stride=(1, 1), padding=(1, 1))\n",
            "    (6): Dropout(p=0.2, inplace=False)\n",
            "    (7): BatchNorm2d(512, eps=1e-05, momentum=0.1, affine=True, track_running_stats=True)\n",
            "    (8): MaxPool2d(kernel_size=2, stride=2, padding=0, dilation=1, ceil_mode=False)\n",
            "    (9): ReLU()\n",
            "    (10): Conv2d(512, 512, kernel_size=(3, 3), stride=(1, 1), padding=(1, 1))\n",
            "    (11): Dropout(p=0.2, inplace=False)\n",
            "    (12): BatchNorm2d(512, eps=1e-05, momentum=0.1, affine=True, track_running_stats=True)\n",
            "    (13): MaxPool2d(kernel_size=2, stride=2, padding=0, dilation=1, ceil_mode=False)\n",
            "    (14): ReLU()\n",
            "    (15): Conv2d(512, 512, kernel_size=(3, 3), stride=(1, 1), padding=(1, 1))\n",
            "    (16): Dropout(p=0.2, inplace=False)\n",
            "    (17): BatchNorm2d(512, eps=1e-05, momentum=0.1, affine=True, track_running_stats=True)\n",
            "    (18): MaxPool2d(kernel_size=2, stride=2, padding=0, dilation=1, ceil_mode=False)\n",
            "    (19): ReLU()\n",
            "    (20): Conv2d(512, 512, kernel_size=(3, 3), stride=(1, 1), padding=(1, 1))\n",
            "    (21): Dropout(p=0.2, inplace=False)\n",
            "    (22): BatchNorm2d(512, eps=1e-05, momentum=0.1, affine=True, track_running_stats=True)\n",
            "    (23): MaxPool2d(kernel_size=2, stride=2, padding=0, dilation=1, ceil_mode=False)\n",
            "    (24): ReLU()\n",
            "  )\n",
            "  (Dense): Sequential(\n",
            "    (0): Linear(in_features=512, out_features=10, bias=True)\n",
            "  )\n",
            ")\n"
          ]
        }
      ]
    },
    {
      "cell_type": "code",
      "metadata": {
        "colab": {
          "base_uri": "https://localhost:8080/"
        },
        "id": "VyRMMF9yKcW2",
        "outputId": "3d0a4e3b-4bb7-40b6-998a-cc5220e4e0e4"
      },
      "source": [
        "# Loss and optimizer\n",
        "criterion = nn.CrossEntropyLoss()\n",
        "optimizer = torch.optim.Adam(model.parameters(), lr=learning_rate, weight_decay=reg)\n",
        "\n",
        "# Train the model\n",
        "lr = learning_rate\n",
        "total_step = len(train_loader)\n",
        "loss_train = []\n",
        "loss_val = []\n",
        "best_accuracy = None\n",
        "accuracy_val = []\n",
        "best_model = type(model)(input_size, hidden_size, num_classes, norm_layer=norm_layer) # get a new instance\n",
        "#best_model = ConvNet(input_size, hidden_size, num_classes, norm_layer=norm_layer)\n",
        "for epoch in range(num_epochs):\n",
        "\n",
        "    model.train()\n",
        "\n",
        "    loss_iter = 0\n",
        "    for i, (images, labels) in enumerate(train_loader):\n",
        "        # Move tensors to the configured device\n",
        "        images = images.to(device)\n",
        "        labels = labels.to(device)\n",
        "\n",
        "        # Forward pass\n",
        "        outputs = model(images)\n",
        "        loss = criterion(outputs, labels)\n",
        "\n",
        "        # Backward and optimize\n",
        "        optimizer.zero_grad()\n",
        "        loss.backward()\n",
        "        optimizer.step()\n",
        "\n",
        "        loss_iter += loss.item()\n",
        "        \n",
        "        if (i+1) % 100 == 0:\n",
        "            print ('Epoch [{}/{}], Step [{}/{}], Loss: {:.4f}'\n",
        "                   .format(epoch+1, num_epochs, i+1, total_step, loss.item()))\n",
        "            \n",
        "    loss_train.append(loss_iter/(len(train_loader)*batch_size))\n",
        "\n",
        "    \n",
        "    # Code to update the lr\n",
        "    lr *= learning_rate_decay\n",
        "    update_lr(optimizer, lr)\n",
        "    \n",
        "        \n",
        "    model.eval()\n",
        "    with torch.no_grad():\n",
        "        correct = 0\n",
        "        total = 0\n",
        "        loss_iter = 0\n",
        "        for images, labels in val_loader:\n",
        "            images = images.to(device)\n",
        "            labels = labels.to(device)\n",
        "            \n",
        "            outputs = model(images)\n",
        "            _, predicted = torch.max(outputs.data, 1)\n",
        "            \n",
        "            total += labels.size(0)\n",
        "            correct += (predicted == labels).sum().item()\n",
        "            \n",
        "            loss = criterion(outputs, labels)\n",
        "            loss_iter += loss.item()\n",
        "        \n",
        "        loss_val.append(loss_iter/(len(val_loader)*batch_size))\n",
        "\n",
        "        accuracy = 100 * correct / total\n",
        "        accuracy_val.append(accuracy)\n",
        "        print('Validation accuracy is: {} %'.format(accuracy))\n",
        "        #################################################################################\n",
        "        # TODO: Q2.b Implement the early stopping mechanism to save the model which has #\n",
        "        # the model with the best validation accuracy so-far (use best_model).          #\n",
        "        #################################################################################\n",
        "\n",
        "        # *****START OF YOUR CODE (DO NOT DELETE/MODIFY THIS LINE)*****\n",
        "\n",
        "        \n",
        "\n",
        "        # *****END OF YOUR CODE (DO NOT DELETE/MODIFY THIS LINE)*****\n"
      ],
      "id": "VyRMMF9yKcW2",
      "execution_count": 147,
      "outputs": [
        {
          "output_type": "stream",
          "name": "stdout",
          "text": [
            "Epoch [1/30], Step [100/245], Loss: 1.3094\n",
            "Epoch [1/30], Step [200/245], Loss: 1.1333\n",
            "Validation accuracy is: 16.4 %\n",
            "Epoch [2/30], Step [100/245], Loss: 1.0523\n",
            "Epoch [2/30], Step [200/245], Loss: 0.9044\n",
            "Validation accuracy is: 32.6 %\n",
            "Epoch [3/30], Step [100/245], Loss: 0.8009\n",
            "Epoch [3/30], Step [200/245], Loss: 0.8129\n",
            "Validation accuracy is: 50.7 %\n",
            "Epoch [4/30], Step [100/245], Loss: 0.7338\n",
            "Epoch [4/30], Step [200/245], Loss: 0.7536\n",
            "Validation accuracy is: 43.3 %\n",
            "Epoch [5/30], Step [100/245], Loss: 0.5921\n",
            "Epoch [5/30], Step [200/245], Loss: 0.6146\n",
            "Validation accuracy is: 45.5 %\n",
            "Epoch [6/30], Step [100/245], Loss: 0.5864\n",
            "Epoch [6/30], Step [200/245], Loss: 0.6144\n",
            "Validation accuracy is: 52.8 %\n",
            "Epoch [7/30], Step [100/245], Loss: 0.6622\n",
            "Epoch [7/30], Step [200/245], Loss: 0.6184\n",
            "Validation accuracy is: 49.5 %\n",
            "Epoch [8/30], Step [100/245], Loss: 0.4541\n",
            "Epoch [8/30], Step [200/245], Loss: 0.5645\n",
            "Validation accuracy is: 42.7 %\n",
            "Epoch [9/30], Step [100/245], Loss: 0.5099\n",
            "Epoch [9/30], Step [200/245], Loss: 0.4251\n",
            "Validation accuracy is: 55.0 %\n",
            "Epoch [10/30], Step [100/245], Loss: 0.5893\n",
            "Epoch [10/30], Step [200/245], Loss: 0.4827\n",
            "Validation accuracy is: 65.1 %\n",
            "Epoch [11/30], Step [100/245], Loss: 0.4378\n",
            "Epoch [11/30], Step [200/245], Loss: 0.5142\n",
            "Validation accuracy is: 57.5 %\n",
            "Epoch [12/30], Step [100/245], Loss: 0.3984\n",
            "Epoch [12/30], Step [200/245], Loss: 0.4713\n",
            "Validation accuracy is: 48.7 %\n",
            "Epoch [13/30], Step [100/245], Loss: 0.4028\n",
            "Epoch [13/30], Step [200/245], Loss: 0.3612\n",
            "Validation accuracy is: 68.6 %\n",
            "Epoch [14/30], Step [100/245], Loss: 0.3210\n",
            "Epoch [14/30], Step [200/245], Loss: 0.4230\n",
            "Validation accuracy is: 65.8 %\n",
            "Epoch [15/30], Step [100/245], Loss: 0.4330\n",
            "Epoch [15/30], Step [200/245], Loss: 0.4282\n",
            "Validation accuracy is: 67.7 %\n",
            "Epoch [16/30], Step [100/245], Loss: 0.2372\n",
            "Epoch [16/30], Step [200/245], Loss: 0.4188\n",
            "Validation accuracy is: 68.4 %\n",
            "Epoch [17/30], Step [100/245], Loss: 0.3152\n",
            "Epoch [17/30], Step [200/245], Loss: 0.3194\n",
            "Validation accuracy is: 70.0 %\n",
            "Epoch [18/30], Step [100/245], Loss: 0.2793\n",
            "Epoch [18/30], Step [200/245], Loss: 0.3727\n",
            "Validation accuracy is: 70.2 %\n",
            "Epoch [19/30], Step [100/245], Loss: 0.2637\n",
            "Epoch [19/30], Step [200/245], Loss: 0.2740\n",
            "Validation accuracy is: 71.0 %\n",
            "Epoch [20/30], Step [100/245], Loss: 0.1826\n",
            "Epoch [20/30], Step [200/245], Loss: 0.4217\n",
            "Validation accuracy is: 75.1 %\n",
            "Epoch [21/30], Step [100/245], Loss: 0.2576\n",
            "Epoch [21/30], Step [200/245], Loss: 0.2082\n",
            "Validation accuracy is: 74.1 %\n",
            "Epoch [22/30], Step [100/245], Loss: 0.1886\n",
            "Epoch [22/30], Step [200/245], Loss: 0.2243\n",
            "Validation accuracy is: 71.5 %\n",
            "Epoch [23/30], Step [100/245], Loss: 0.2199\n",
            "Epoch [23/30], Step [200/245], Loss: 0.2316\n",
            "Validation accuracy is: 78.7 %\n",
            "Epoch [24/30], Step [100/245], Loss: 0.1855\n",
            "Epoch [24/30], Step [200/245], Loss: 0.2353\n",
            "Validation accuracy is: 75.9 %\n",
            "Epoch [25/30], Step [100/245], Loss: 0.2173\n",
            "Epoch [25/30], Step [200/245], Loss: 0.1869\n",
            "Validation accuracy is: 73.8 %\n",
            "Epoch [26/30], Step [100/245], Loss: 0.1708\n",
            "Epoch [26/30], Step [200/245], Loss: 0.2040\n",
            "Validation accuracy is: 70.3 %\n",
            "Epoch [27/30], Step [100/245], Loss: 0.1309\n",
            "Epoch [27/30], Step [200/245], Loss: 0.2599\n",
            "Validation accuracy is: 74.5 %\n",
            "Epoch [28/30], Step [100/245], Loss: 0.1550\n",
            "Epoch [28/30], Step [200/245], Loss: 0.1606\n",
            "Validation accuracy is: 78.0 %\n",
            "Epoch [29/30], Step [100/245], Loss: 0.1642\n",
            "Epoch [29/30], Step [200/245], Loss: 0.2092\n",
            "Validation accuracy is: 75.8 %\n",
            "Epoch [30/30], Step [100/245], Loss: 0.1458\n",
            "Epoch [30/30], Step [200/245], Loss: 0.1466\n",
            "Validation accuracy is: 75.5 %\n"
          ]
        }
      ]
    },
    {
      "cell_type": "code",
      "metadata": {
        "id": "fKN49fhhLkPE"
      },
      "source": [
        "loss_train_p1 = loss_train\n",
        "loss_val_p1 = loss_val\n",
        "val_acc_p1 = accuracy_val"
      ],
      "id": "fKN49fhhLkPE",
      "execution_count": 140,
      "outputs": []
    },
    {
      "cell_type": "code",
      "metadata": {
        "id": "eAbEHvbRRaqx"
      },
      "source": [
        "loss_train_p2 = loss_train\n",
        "loss_val_p2 = loss_val\n",
        "val_acc_p2 = accuracy_val"
      ],
      "id": "eAbEHvbRRaqx",
      "execution_count": 148,
      "outputs": []
    },
    {
      "cell_type": "code",
      "metadata": {
        "id": "hczuL60BT_9t"
      },
      "source": [
        "def saveList(myList,filename):\n",
        "    # the filename should mention the extension 'npy'\n",
        "    np.save(filename,myList)\n",
        "    print(\"Saved successfully!\")"
      ],
      "id": "hczuL60BT_9t",
      "execution_count": 158,
      "outputs": []
    },
    {
      "cell_type": "code",
      "metadata": {
        "id": "2KzDoWJrT_64"
      },
      "source": [
        "def loadList(filename):\n",
        "    # the filename should mention the extension 'npy'\n",
        "    tempNumpyArray=np.load(filename)\n",
        "    return tempNumpyArray.tolist()"
      ],
      "id": "2KzDoWJrT_64",
      "execution_count": 159,
      "outputs": []
    },
    {
      "cell_type": "code",
      "metadata": {
        "colab": {
          "base_uri": "https://localhost:8080/"
        },
        "id": "jP2IH5H1Th78",
        "outputId": "c36fb3de-fb5c-4c55-a2b4-0ce5426a58b1"
      },
      "source": [
        "saveList(val_acc_p2, 'val_acc_p2.npy')  "
      ],
      "id": "jP2IH5H1Th78",
      "execution_count": 165,
      "outputs": [
        {
          "output_type": "stream",
          "name": "stdout",
          "text": [
            "Saved successfully!\n"
          ]
        }
      ]
    },
    {
      "cell_type": "code",
      "metadata": {
        "id": "u6lZpV7xUUA-"
      },
      "source": [
        "l1 = loadList('val_acc_p1.npy')"
      ],
      "id": "u6lZpV7xUUA-",
      "execution_count": 166,
      "outputs": []
    },
    {
      "cell_type": "code",
      "metadata": {
        "id": "FDqqd5f_UzyK"
      },
      "source": [
        "l2 = loadList('val_acc_p2.npy')"
      ],
      "id": "FDqqd5f_UzyK",
      "execution_count": 167,
      "outputs": []
    },
    {
      "cell_type": "code",
      "metadata": {
        "colab": {
          "base_uri": "https://localhost:8080/",
          "height": 513
        },
        "id": "TqkGVNZ6OZDE",
        "outputId": "75382b41-3320-49e8-9c9b-5fc2224276db"
      },
      "source": [
        "# Test the model\n",
        "# In test phase, we don't need to compute gradients (for memory efficiency)\n",
        "model.eval()\n",
        "\n",
        "\n",
        "\n",
        "plt.figure(2)\n",
        "plt.plot(loss_train, 'r', label='Train loss')\n",
        "plt.plot(loss_val, 'g', label='Val loss')\n",
        "plt.legend()\n",
        "plt.show()\n",
        "\n",
        "plt.figure(3)\n",
        "plt.plot(accuracy_val, 'r', label='Val accuracy')\n",
        "plt.legend()\n",
        "plt.show()"
      ],
      "id": "TqkGVNZ6OZDE",
      "execution_count": 149,
      "outputs": [
        {
          "output_type": "display_data",
          "data": {
            "image/png": "[encoded data removed]",
            "text/plain": [
              "<Figure size 432x288 with 1 Axes>"
            ]
          },
          "metadata": {
            "needs_background": "light"
          }
        },
        {
          "output_type": "display_data",
          "data": {
            "image/png": "[encoded data removed]",
            "text/plain": [
              "<Figure size 432x288 with 1 Axes>"
            ]
          },
          "metadata": {
            "needs_background": "light"
          }
        }
      ]
    },
    {
      "cell_type": "code",
      "metadata": {
        "colab": {
          "base_uri": "https://localhost:8080/"
        },
        "id": "2ArdaTZuOaED",
        "outputId": "176e1980-e2f9-4ed3-d76a-acc65fe91b1c"
      },
      "source": [
        "#################################################################################\n",
        "# TODO: Q2.b Implement the early stopping mechanism to load the weights from the#\n",
        "# best model so far and perform testing with this model.                        #\n",
        "#################################################################################\n",
        "# *****START OF YOUR CODE (DO NOT DELETE/MODIFY THIS LINE)*****\n",
        "\n",
        "\n",
        "# *****END OF YOUR CODE (DO NOT DELETE/MODIFY THIS LINE)*****\n",
        "\n",
        "#Compute accuracy on the test set\n",
        "with torch.no_grad():\n",
        "    correct = 0\n",
        "    total = 0\n",
        "    for images, labels in test_loader:\n",
        "        images = images.to(device)\n",
        "        labels = labels.to(device)\n",
        "        outputs = model(images)\n",
        "        _, predicted = torch.max(outputs.data, 1)\n",
        "        total += labels.size(0)\n",
        "        correct += (predicted == labels).sum().item()\n",
        "        if total == 1000:\n",
        "            break\n",
        "\n",
        "    print('Accuracy of the network on the {} test images: {} %'.format(total, 100 * correct / total))\n",
        "\n"
      ],
      "id": "2ArdaTZuOaED",
      "execution_count": 150,
      "outputs": [
        {
          "output_type": "stream",
          "name": "stdout",
          "text": [
            "Accuracy of the network on the 1000 test images: 75.4 %\n"
          ]
        }
      ]
    },
    {
      "cell_type": "markdown",
      "metadata": {
        "id": "fWT_6061O_MZ"
      },
      "source": [
        "p=0.1, test acc = 81.3%\\\n",
        "p=0.2, test acc = 75.4%\n"
      ],
      "id": "fWT_6061O_MZ"
    },
    {
      "cell_type": "code",
      "metadata": {
        "colab": {
          "base_uri": "https://localhost:8080/",
          "height": 282
        },
        "id": "qP_S2Y8wO6MX",
        "outputId": "27f05e39-f37c-4fd6-f808-45279ad53bdd"
      },
      "source": [
        "plt.figure(2)\n",
        "plt.plot(loss_train_p1, color='green', label = 'p=0.1')\n",
        "plt.plot(loss_train_p2, color='red', label = 'p=0.2')\n",
        "plt.legend()"
      ],
      "id": "qP_S2Y8wO6MX",
      "execution_count": 155,
      "outputs": [
        {
          "output_type": "execute_result",
          "data": {
            "text/plain": [
              "<matplotlib.legend.Legend at 0x7fc57c641a10>"
            ]
          },
          "metadata": {},
          "execution_count": 155
        },
        {
          "output_type": "display_data",
          "data": {
            "image/png": "[encoded data removed]",
            "text/plain": [
              "<Figure size 432x288 with 1 Axes>"
            ]
          },
          "metadata": {
            "needs_background": "light"
          }
        }
      ]
    },
    {
      "cell_type": "code",
      "metadata": {
        "colab": {
          "base_uri": "https://localhost:8080/",
          "height": 282
        },
        "id": "ATx8N4YwSkiF",
        "outputId": "fc07c7dc-0a07-4d2f-cb29-91ad78233948"
      },
      "source": [
        "plt.figure(3)\n",
        "plt.plot(loss_val_p1, color='green', label = 'p=0.1')\n",
        "plt.plot(loss_val_p2, color='red', label = 'p=0.2')\n",
        "plt.legend()"
      ],
      "id": "ATx8N4YwSkiF",
      "execution_count": 156,
      "outputs": [
        {
          "output_type": "execute_result",
          "data": {
            "text/plain": [
              "<matplotlib.legend.Legend at 0x7fc555007d50>"
            ]
          },
          "metadata": {},
          "execution_count": 156
        },
        {
          "output_type": "display_data",
          "data": {
            "image/png": "[encoded data removed]",
            "text/plain": [
              "<Figure size 432x288 with 1 Axes>"
            ]
          },
          "metadata": {
            "needs_background": "light"
          }
        }
      ]
    },
    {
      "cell_type": "code",
      "metadata": {
        "colab": {
          "base_uri": "https://localhost:8080/",
          "height": 282
        },
        "id": "Er6Mj7bOTTOD",
        "outputId": "622faffd-66b9-4bf2-8769-11360bb37efe"
      },
      "source": [
        "plt.figure(3)\n",
        "plt.plot(l1, color='green', label = 'p=0.1')\n",
        "plt.plot(l2, color='red', label = 'p=0.2')\n",
        "plt.legend()"
      ],
      "id": "Er6Mj7bOTTOD",
      "execution_count": 168,
      "outputs": [
        {
          "output_type": "execute_result",
          "data": {
            "text/plain": [
              "<matplotlib.legend.Legend at 0x7fc57a1d75d0>"
            ]
          },
          "metadata": {},
          "execution_count": 168
        },
        {
          "output_type": "display_data",
          "data": {
            "image/png": "[encoded data removed]",
            "text/plain": [
              "<Figure size 432x288 with 1 Axes>"
            ]
          },
          "metadata": {
            "needs_background": "light"
          }
        }
      ]
    },
    {
      "cell_type": "code",
      "metadata": {
        "id": "iA8Vr6kQTaL5"
      },
      "source": [
        ""
      ],
      "id": "iA8Vr6kQTaL5",
      "execution_count": null,
      "outputs": []
    }
  ]
}