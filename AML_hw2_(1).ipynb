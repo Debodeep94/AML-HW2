{
  "nbformat": 4,
  "nbformat_minor": 5,
  "metadata": {
    "accelerator": "GPU",
    "colab": {
      "name": "AML_hw2 (1).ipynb",
      "provenance": [],
      "collapsed_sections": [
        "nfrM-oXV-dUx",
        "zzDMnv72-Xmk",
        "bRWqz6MNUu0p",
        "-W9F28UH5yUd"
      ],
      "machine_shape": "hm"
    },
    "kernelspec": {
      "display_name": "Python 3",
      "language": "python",
      "name": "python3"
    },
    "language_info": {
      "codemirror_mode": {
        "name": "ipython",
        "version": 3
      },
      "file_extension": ".py",
      "mimetype": "text/x-python",
      "name": "python",
      "nbconvert_exporter": "python",
      "pygments_lexer": "ipython3",
      "version": "3.7.3"
    },
    "widgets": {
      "application/vnd.jupyter.widget-state+json": {
        "bb5f081902f34d1ea8e8ac8b26adffc4": {
          "model_module": "@jupyter-widgets/controls",
          "model_name": "HBoxModel",
          "model_module_version": "1.5.0",
          "state": {
            "_dom_classes": [],
            "_model_module": "@jupyter-widgets/controls",
            "_model_module_version": "1.5.0",
            "_model_name": "HBoxModel",
            "_view_count": null,
            "_view_module": "@jupyter-widgets/controls",
            "_view_module_version": "1.5.0",
            "_view_name": "HBoxView",
            "box_style": "",
            "children": [
              "IPY_MODEL_2e2b4ba74eb1481fbe9be1541669c199",
              "IPY_MODEL_cb7d351477624c3cb9d62a19269dc145",
              "IPY_MODEL_183a54f023914f53be1b85e4eb6abb4f"
            ],
            "layout": "IPY_MODEL_d7237681cd26449c9d8f23f05939c452"
          }
        },
        "2e2b4ba74eb1481fbe9be1541669c199": {
          "model_module": "@jupyter-widgets/controls",
          "model_name": "HTMLModel",
          "model_module_version": "1.5.0",
          "state": {
            "_dom_classes": [],
            "_model_module": "@jupyter-widgets/controls",
            "_model_module_version": "1.5.0",
            "_model_name": "HTMLModel",
            "_view_count": null,
            "_view_module": "@jupyter-widgets/controls",
            "_view_module_version": "1.5.0",
            "_view_name": "HTMLView",
            "description": "",
            "description_tooltip": null,
            "layout": "IPY_MODEL_48480f1b7af74358a026391cd2f37ecd",
            "placeholder": "​",
            "style": "IPY_MODEL_66f3fd4b5e994c26bdb561d6a4378e28",
            "value": ""
          }
        },
        "cb7d351477624c3cb9d62a19269dc145": {
          "model_module": "@jupyter-widgets/controls",
          "model_name": "FloatProgressModel",
          "model_module_version": "1.5.0",
          "state": {
            "_dom_classes": [],
            "_model_module": "@jupyter-widgets/controls",
            "_model_module_version": "1.5.0",
            "_model_name": "FloatProgressModel",
            "_view_count": null,
            "_view_module": "@jupyter-widgets/controls",
            "_view_module_version": "1.5.0",
            "_view_name": "ProgressView",
            "bar_style": "success",
            "description": "",
            "description_tooltip": null,
            "layout": "IPY_MODEL_2a5d677c48db4823a0fc4ff9cff5ea12",
            "max": 170498071,
            "min": 0,
            "orientation": "horizontal",
            "style": "IPY_MODEL_14cb9a399bc14454b2ca5e715778c620",
            "value": 170498071
          }
        },
        "183a54f023914f53be1b85e4eb6abb4f": {
          "model_module": "@jupyter-widgets/controls",
          "model_name": "HTMLModel",
          "model_module_version": "1.5.0",
          "state": {
            "_dom_classes": [],
            "_model_module": "@jupyter-widgets/controls",
            "_model_module_version": "1.5.0",
            "_model_name": "HTMLModel",
            "_view_count": null,
            "_view_module": "@jupyter-widgets/controls",
            "_view_module_version": "1.5.0",
            "_view_name": "HTMLView",
            "description": "",
            "description_tooltip": null,
            "layout": "IPY_MODEL_8226f6defb4b422f9f87fd6262350f90",
            "placeholder": "​",
            "style": "IPY_MODEL_06d98e4cf8a24fbc9a84d17981f85360",
            "value": " 170499072/? [00:10&lt;00:00, 17858840.05it/s]"
          }
        },
        "d7237681cd26449c9d8f23f05939c452": {
          "model_module": "@jupyter-widgets/base",
          "model_name": "LayoutModel",
          "model_module_version": "1.2.0",
          "state": {
            "_model_module": "@jupyter-widgets/base",
            "_model_module_version": "1.2.0",
            "_model_name": "LayoutModel",
            "_view_count": null,
            "_view_module": "@jupyter-widgets/base",
            "_view_module_version": "1.2.0",
            "_view_name": "LayoutView",
            "align_content": null,
            "align_items": null,
            "align_self": null,
            "border": null,
            "bottom": null,
            "display": null,
            "flex": null,
            "flex_flow": null,
            "grid_area": null,
            "grid_auto_columns": null,
            "grid_auto_flow": null,
            "grid_auto_rows": null,
            "grid_column": null,
            "grid_gap": null,
            "grid_row": null,
            "grid_template_areas": null,
            "grid_template_columns": null,
            "grid_template_rows": null,
            "height": null,
            "justify_content": null,
            "justify_items": null,
            "left": null,
            "margin": null,
            "max_height": null,
            "max_width": null,
            "min_height": null,
            "min_width": null,
            "object_fit": null,
            "object_position": null,
            "order": null,
            "overflow": null,
            "overflow_x": null,
            "overflow_y": null,
            "padding": null,
            "right": null,
            "top": null,
            "visibility": null,
            "width": null
          }
        },
        "48480f1b7af74358a026391cd2f37ecd": {
          "model_module": "@jupyter-widgets/base",
          "model_name": "LayoutModel",
          "model_module_version": "1.2.0",
          "state": {
            "_model_module": "@jupyter-widgets/base",
            "_model_module_version": "1.2.0",
            "_model_name": "LayoutModel",
            "_view_count": null,
            "_view_module": "@jupyter-widgets/base",
            "_view_module_version": "1.2.0",
            "_view_name": "LayoutView",
            "align_content": null,
            "align_items": null,
            "align_self": null,
            "border": null,
            "bottom": null,
            "display": null,
            "flex": null,
            "flex_flow": null,
            "grid_area": null,
            "grid_auto_columns": null,
            "grid_auto_flow": null,
            "grid_auto_rows": null,
            "grid_column": null,
            "grid_gap": null,
            "grid_row": null,
            "grid_template_areas": null,
            "grid_template_columns": null,
            "grid_template_rows": null,
            "height": null,
            "justify_content": null,
            "justify_items": null,
            "left": null,
            "margin": null,
            "max_height": null,
            "max_width": null,
            "min_height": null,
            "min_width": null,
            "object_fit": null,
            "object_position": null,
            "order": null,
            "overflow": null,
            "overflow_x": null,
            "overflow_y": null,
            "padding": null,
            "right": null,
            "top": null,
            "visibility": null,
            "width": null
          }
        },
        "66f3fd4b5e994c26bdb561d6a4378e28": {
          "model_module": "@jupyter-widgets/controls",
          "model_name": "DescriptionStyleModel",
          "model_module_version": "1.5.0",
          "state": {
            "_model_module": "@jupyter-widgets/controls",
            "_model_module_version": "1.5.0",
            "_model_name": "DescriptionStyleModel",
            "_view_count": null,
            "_view_module": "@jupyter-widgets/base",
            "_view_module_version": "1.2.0",
            "_view_name": "StyleView",
            "description_width": ""
          }
        },
        "2a5d677c48db4823a0fc4ff9cff5ea12": {
          "model_module": "@jupyter-widgets/base",
          "model_name": "LayoutModel",
          "model_module_version": "1.2.0",
          "state": {
            "_model_module": "@jupyter-widgets/base",
            "_model_module_version": "1.2.0",
            "_model_name": "LayoutModel",
            "_view_count": null,
            "_view_module": "@jupyter-widgets/base",
            "_view_module_version": "1.2.0",
            "_view_name": "LayoutView",
            "align_content": null,
            "align_items": null,
            "align_self": null,
            "border": null,
            "bottom": null,
            "display": null,
            "flex": null,
            "flex_flow": null,
            "grid_area": null,
            "grid_auto_columns": null,
            "grid_auto_flow": null,
            "grid_auto_rows": null,
            "grid_column": null,
            "grid_gap": null,
            "grid_row": null,
            "grid_template_areas": null,
            "grid_template_columns": null,
            "grid_template_rows": null,
            "height": null,
            "justify_content": null,
            "justify_items": null,
            "left": null,
            "margin": null,
            "max_height": null,
            "max_width": null,
            "min_height": null,
            "min_width": null,
            "object_fit": null,
            "object_position": null,
            "order": null,
            "overflow": null,
            "overflow_x": null,
            "overflow_y": null,
            "padding": null,
            "right": null,
            "top": null,
            "visibility": null,
            "width": null
          }
        },
        "14cb9a399bc14454b2ca5e715778c620": {
          "model_module": "@jupyter-widgets/controls",
          "model_name": "ProgressStyleModel",
          "model_module_version": "1.5.0",
          "state": {
            "_model_module": "@jupyter-widgets/controls",
            "_model_module_version": "1.5.0",
            "_model_name": "ProgressStyleModel",
            "_view_count": null,
            "_view_module": "@jupyter-widgets/base",
            "_view_module_version": "1.2.0",
            "_view_name": "StyleView",
            "bar_color": null,
            "description_width": ""
          }
        },
        "8226f6defb4b422f9f87fd6262350f90": {
          "model_module": "@jupyter-widgets/base",
          "model_name": "LayoutModel",
          "model_module_version": "1.2.0",
          "state": {
            "_model_module": "@jupyter-widgets/base",
            "_model_module_version": "1.2.0",
            "_model_name": "LayoutModel",
            "_view_count": null,
            "_view_module": "@jupyter-widgets/base",
            "_view_module_version": "1.2.0",
            "_view_name": "LayoutView",
            "align_content": null,
            "align_items": null,
            "align_self": null,
            "border": null,
            "bottom": null,
            "display": null,
            "flex": null,
            "flex_flow": null,
            "grid_area": null,
            "grid_auto_columns": null,
            "grid_auto_flow": null,
            "grid_auto_rows": null,
            "grid_column": null,
            "grid_gap": null,
            "grid_row": null,
            "grid_template_areas": null,
            "grid_template_columns": null,
            "grid_template_rows": null,
            "height": null,
            "justify_content": null,
            "justify_items": null,
            "left": null,
            "margin": null,
            "max_height": null,
            "max_width": null,
            "min_height": null,
            "min_width": null,
            "object_fit": null,
            "object_position": null,
            "order": null,
            "overflow": null,
            "overflow_x": null,
            "overflow_y": null,
            "padding": null,
            "right": null,
            "top": null,
            "visibility": null,
            "width": null
          }
        },
        "06d98e4cf8a24fbc9a84d17981f85360": {
          "model_module": "@jupyter-widgets/controls",
          "model_name": "DescriptionStyleModel",
          "model_module_version": "1.5.0",
          "state": {
            "_model_module": "@jupyter-widgets/controls",
            "_model_module_version": "1.5.0",
            "_model_name": "DescriptionStyleModel",
            "_view_count": null,
            "_view_module": "@jupyter-widgets/base",
            "_view_module_version": "1.2.0",
            "_view_name": "StyleView",
            "description_width": ""
          }
        },
        "82555844ea4c40bc87ce7f2709ccffcc": {
          "model_module": "@jupyter-widgets/controls",
          "model_name": "HBoxModel",
          "model_module_version": "1.5.0",
          "state": {
            "_dom_classes": [],
            "_model_module": "@jupyter-widgets/controls",
            "_model_module_version": "1.5.0",
            "_model_name": "HBoxModel",
            "_view_count": null,
            "_view_module": "@jupyter-widgets/controls",
            "_view_module_version": "1.5.0",
            "_view_name": "HBoxView",
            "box_style": "",
            "children": [
              "IPY_MODEL_c3aac31e6a774cf9b04f094c0cbb2137",
              "IPY_MODEL_52a0537cb9164e389e52a5f84b9d4b66",
              "IPY_MODEL_6671a8383606483c982cc4414d7605f6"
            ],
            "layout": "IPY_MODEL_03b8fef02bea4699b5d2e73ab662aa18"
          }
        },
        "c3aac31e6a774cf9b04f094c0cbb2137": {
          "model_module": "@jupyter-widgets/controls",
          "model_name": "HTMLModel",
          "model_module_version": "1.5.0",
          "state": {
            "_dom_classes": [],
            "_model_module": "@jupyter-widgets/controls",
            "_model_module_version": "1.5.0",
            "_model_name": "HTMLModel",
            "_view_count": null,
            "_view_module": "@jupyter-widgets/controls",
            "_view_module_version": "1.5.0",
            "_view_name": "HTMLView",
            "description": "",
            "description_tooltip": null,
            "layout": "IPY_MODEL_538c5ee7b73548cab2a3cab4377523ef",
            "placeholder": "​",
            "style": "IPY_MODEL_eac5ac6e4a5d420b8496a3cca73d1862",
            "value": ""
          }
        },
        "52a0537cb9164e389e52a5f84b9d4b66": {
          "model_module": "@jupyter-widgets/controls",
          "model_name": "FloatProgressModel",
          "model_module_version": "1.5.0",
          "state": {
            "_dom_classes": [],
            "_model_module": "@jupyter-widgets/controls",
            "_model_module_version": "1.5.0",
            "_model_name": "FloatProgressModel",
            "_view_count": null,
            "_view_module": "@jupyter-widgets/controls",
            "_view_module_version": "1.5.0",
            "_view_name": "ProgressView",
            "bar_style": "success",
            "description": "",
            "description_tooltip": null,
            "layout": "IPY_MODEL_1e606acfabda41a787780e0ea2609d13",
            "max": 170498071,
            "min": 0,
            "orientation": "horizontal",
            "style": "IPY_MODEL_44d03483eceb48e1a8cc4c228baa473b",
            "value": 170498071
          }
        },
        "6671a8383606483c982cc4414d7605f6": {
          "model_module": "@jupyter-widgets/controls",
          "model_name": "HTMLModel",
          "model_module_version": "1.5.0",
          "state": {
            "_dom_classes": [],
            "_model_module": "@jupyter-widgets/controls",
            "_model_module_version": "1.5.0",
            "_model_name": "HTMLModel",
            "_view_count": null,
            "_view_module": "@jupyter-widgets/controls",
            "_view_module_version": "1.5.0",
            "_view_name": "HTMLView",
            "description": "",
            "description_tooltip": null,
            "layout": "IPY_MODEL_301bd658e9d74cd691ae9596988091ba",
            "placeholder": "​",
            "style": "IPY_MODEL_727b34832f45423e8285415d3ab4cacb",
            "value": " 170499072/? [00:03&lt;00:00, 53553444.21it/s]"
          }
        },
        "03b8fef02bea4699b5d2e73ab662aa18": {
          "model_module": "@jupyter-widgets/base",
          "model_name": "LayoutModel",
          "model_module_version": "1.2.0",
          "state": {
            "_model_module": "@jupyter-widgets/base",
            "_model_module_version": "1.2.0",
            "_model_name": "LayoutModel",
            "_view_count": null,
            "_view_module": "@jupyter-widgets/base",
            "_view_module_version": "1.2.0",
            "_view_name": "LayoutView",
            "align_content": null,
            "align_items": null,
            "align_self": null,
            "border": null,
            "bottom": null,
            "display": null,
            "flex": null,
            "flex_flow": null,
            "grid_area": null,
            "grid_auto_columns": null,
            "grid_auto_flow": null,
            "grid_auto_rows": null,
            "grid_column": null,
            "grid_gap": null,
            "grid_row": null,
            "grid_template_areas": null,
            "grid_template_columns": null,
            "grid_template_rows": null,
            "height": null,
            "justify_content": null,
            "justify_items": null,
            "left": null,
            "margin": null,
            "max_height": null,
            "max_width": null,
            "min_height": null,
            "min_width": null,
            "object_fit": null,
            "object_position": null,
            "order": null,
            "overflow": null,
            "overflow_x": null,
            "overflow_y": null,
            "padding": null,
            "right": null,
            "top": null,
            "visibility": null,
            "width": null
          }
        },
        "538c5ee7b73548cab2a3cab4377523ef": {
          "model_module": "@jupyter-widgets/base",
          "model_name": "LayoutModel",
          "model_module_version": "1.2.0",
          "state": {
            "_model_module": "@jupyter-widgets/base",
            "_model_module_version": "1.2.0",
            "_model_name": "LayoutModel",
            "_view_count": null,
            "_view_module": "@jupyter-widgets/base",
            "_view_module_version": "1.2.0",
            "_view_name": "LayoutView",
            "align_content": null,
            "align_items": null,
            "align_self": null,
            "border": null,
            "bottom": null,
            "display": null,
            "flex": null,
            "flex_flow": null,
            "grid_area": null,
            "grid_auto_columns": null,
            "grid_auto_flow": null,
            "grid_auto_rows": null,
            "grid_column": null,
            "grid_gap": null,
            "grid_row": null,
            "grid_template_areas": null,
            "grid_template_columns": null,
            "grid_template_rows": null,
            "height": null,
            "justify_content": null,
            "justify_items": null,
            "left": null,
            "margin": null,
            "max_height": null,
            "max_width": null,
            "min_height": null,
            "min_width": null,
            "object_fit": null,
            "object_position": null,
            "order": null,
            "overflow": null,
            "overflow_x": null,
            "overflow_y": null,
            "padding": null,
            "right": null,
            "top": null,
            "visibility": null,
            "width": null
          }
        },
        "eac5ac6e4a5d420b8496a3cca73d1862": {
          "model_module": "@jupyter-widgets/controls",
          "model_name": "DescriptionStyleModel",
          "model_module_version": "1.5.0",
          "state": {
            "_model_module": "@jupyter-widgets/controls",
            "_model_module_version": "1.5.0",
            "_model_name": "DescriptionStyleModel",
            "_view_count": null,
            "_view_module": "@jupyter-widgets/base",
            "_view_module_version": "1.2.0",
            "_view_name": "StyleView",
            "description_width": ""
          }
        },
        "1e606acfabda41a787780e0ea2609d13": {
          "model_module": "@jupyter-widgets/base",
          "model_name": "LayoutModel",
          "model_module_version": "1.2.0",
          "state": {
            "_model_module": "@jupyter-widgets/base",
            "_model_module_version": "1.2.0",
            "_model_name": "LayoutModel",
            "_view_count": null,
            "_view_module": "@jupyter-widgets/base",
            "_view_module_version": "1.2.0",
            "_view_name": "LayoutView",
            "align_content": null,
            "align_items": null,
            "align_self": null,
            "border": null,
            "bottom": null,
            "display": null,
            "flex": null,
            "flex_flow": null,
            "grid_area": null,
            "grid_auto_columns": null,
            "grid_auto_flow": null,
            "grid_auto_rows": null,
            "grid_column": null,
            "grid_gap": null,
            "grid_row": null,
            "grid_template_areas": null,
            "grid_template_columns": null,
            "grid_template_rows": null,
            "height": null,
            "justify_content": null,
            "justify_items": null,
            "left": null,
            "margin": null,
            "max_height": null,
            "max_width": null,
            "min_height": null,
            "min_width": null,
            "object_fit": null,
            "object_position": null,
            "order": null,
            "overflow": null,
            "overflow_x": null,
            "overflow_y": null,
            "padding": null,
            "right": null,
            "top": null,
            "visibility": null,
            "width": null
          }
        },
        "44d03483eceb48e1a8cc4c228baa473b": {
          "model_module": "@jupyter-widgets/controls",
          "model_name": "ProgressStyleModel",
          "model_module_version": "1.5.0",
          "state": {
            "_model_module": "@jupyter-widgets/controls",
            "_model_module_version": "1.5.0",
            "_model_name": "ProgressStyleModel",
            "_view_count": null,
            "_view_module": "@jupyter-widgets/base",
            "_view_module_version": "1.2.0",
            "_view_name": "StyleView",
            "bar_color": null,
            "description_width": ""
          }
        },
        "301bd658e9d74cd691ae9596988091ba": {
          "model_module": "@jupyter-widgets/base",
          "model_name": "LayoutModel",
          "model_module_version": "1.2.0",
          "state": {
            "_model_module": "@jupyter-widgets/base",
            "_model_module_version": "1.2.0",
            "_model_name": "LayoutModel",
            "_view_count": null,
            "_view_module": "@jupyter-widgets/base",
            "_view_module_version": "1.2.0",
            "_view_name": "LayoutView",
            "align_content": null,
            "align_items": null,
            "align_self": null,
            "border": null,
            "bottom": null,
            "display": null,
            "flex": null,
            "flex_flow": null,
            "grid_area": null,
            "grid_auto_columns": null,
            "grid_auto_flow": null,
            "grid_auto_rows": null,
            "grid_column": null,
            "grid_gap": null,
            "grid_row": null,
            "grid_template_areas": null,
            "grid_template_columns": null,
            "grid_template_rows": null,
            "height": null,
            "justify_content": null,
            "justify_items": null,
            "left": null,
            "margin": null,
            "max_height": null,
            "max_width": null,
            "min_height": null,
            "min_width": null,
            "object_fit": null,
            "object_position": null,
            "order": null,
            "overflow": null,
            "overflow_x": null,
            "overflow_y": null,
            "padding": null,
            "right": null,
            "top": null,
            "visibility": null,
            "width": null
          }
        },
        "727b34832f45423e8285415d3ab4cacb": {
          "model_module": "@jupyter-widgets/controls",
          "model_name": "DescriptionStyleModel",
          "model_module_version": "1.5.0",
          "state": {
            "_model_module": "@jupyter-widgets/controls",
            "_model_module_version": "1.5.0",
            "_model_name": "DescriptionStyleModel",
            "_view_count": null,
            "_view_module": "@jupyter-widgets/base",
            "_view_module_version": "1.2.0",
            "_view_name": "StyleView",
            "description_width": ""
          }
        },
        "ab2e4575434f47ada2b49cbdc2c40c1e": {
          "model_module": "@jupyter-widgets/controls",
          "model_name": "HBoxModel",
          "model_module_version": "1.5.0",
          "state": {
            "_dom_classes": [],
            "_model_module": "@jupyter-widgets/controls",
            "_model_module_version": "1.5.0",
            "_model_name": "HBoxModel",
            "_view_count": null,
            "_view_module": "@jupyter-widgets/controls",
            "_view_module_version": "1.5.0",
            "_view_name": "HBoxView",
            "box_style": "",
            "children": [
              "IPY_MODEL_ee508e1675434ca7958b116f619a6831",
              "IPY_MODEL_2255c8fb596d425ea1f6ac71fb0bcf60",
              "IPY_MODEL_b276a4c06a8f4def8cbfd61b719b103e"
            ],
            "layout": "IPY_MODEL_a767206fdfbc4b7db0e3096f43a5331d"
          }
        },
        "ee508e1675434ca7958b116f619a6831": {
          "model_module": "@jupyter-widgets/controls",
          "model_name": "HTMLModel",
          "model_module_version": "1.5.0",
          "state": {
            "_dom_classes": [],
            "_model_module": "@jupyter-widgets/controls",
            "_model_module_version": "1.5.0",
            "_model_name": "HTMLModel",
            "_view_count": null,
            "_view_module": "@jupyter-widgets/controls",
            "_view_module_version": "1.5.0",
            "_view_name": "HTMLView",
            "description": "",
            "description_tooltip": null,
            "layout": "IPY_MODEL_16531ae1404f414ab35ef4de65bab275",
            "placeholder": "​",
            "style": "IPY_MODEL_0cca7f162ea040b483e6c35335a5afb2",
            "value": "100%"
          }
        },
        "2255c8fb596d425ea1f6ac71fb0bcf60": {
          "model_module": "@jupyter-widgets/controls",
          "model_name": "FloatProgressModel",
          "model_module_version": "1.5.0",
          "state": {
            "_dom_classes": [],
            "_model_module": "@jupyter-widgets/controls",
            "_model_module_version": "1.5.0",
            "_model_name": "FloatProgressModel",
            "_view_count": null,
            "_view_module": "@jupyter-widgets/controls",
            "_view_module_version": "1.5.0",
            "_view_name": "ProgressView",
            "bar_style": "success",
            "description": "",
            "description_tooltip": null,
            "layout": "IPY_MODEL_9f9d9e0de4e147399243fe3115d001f1",
            "max": 531503671,
            "min": 0,
            "orientation": "horizontal",
            "style": "IPY_MODEL_92c475dc16334a0696ccbc8df9570db6",
            "value": 531503671
          }
        },
        "b276a4c06a8f4def8cbfd61b719b103e": {
          "model_module": "@jupyter-widgets/controls",
          "model_name": "HTMLModel",
          "model_module_version": "1.5.0",
          "state": {
            "_dom_classes": [],
            "_model_module": "@jupyter-widgets/controls",
            "_model_module_version": "1.5.0",
            "_model_name": "HTMLModel",
            "_view_count": null,
            "_view_module": "@jupyter-widgets/controls",
            "_view_module_version": "1.5.0",
            "_view_name": "HTMLView",
            "description": "",
            "description_tooltip": null,
            "layout": "IPY_MODEL_c7ee8c8401764e6fa95de3512b68188e",
            "placeholder": "​",
            "style": "IPY_MODEL_b107747cf5b44107912439966d9c5d6f",
            "value": " 507M/507M [00:11&lt;00:00, 39.8MB/s]"
          }
        },
        "a767206fdfbc4b7db0e3096f43a5331d": {
          "model_module": "@jupyter-widgets/base",
          "model_name": "LayoutModel",
          "model_module_version": "1.2.0",
          "state": {
            "_model_module": "@jupyter-widgets/base",
            "_model_module_version": "1.2.0",
            "_model_name": "LayoutModel",
            "_view_count": null,
            "_view_module": "@jupyter-widgets/base",
            "_view_module_version": "1.2.0",
            "_view_name": "LayoutView",
            "align_content": null,
            "align_items": null,
            "align_self": null,
            "border": null,
            "bottom": null,
            "display": null,
            "flex": null,
            "flex_flow": null,
            "grid_area": null,
            "grid_auto_columns": null,
            "grid_auto_flow": null,
            "grid_auto_rows": null,
            "grid_column": null,
            "grid_gap": null,
            "grid_row": null,
            "grid_template_areas": null,
            "grid_template_columns": null,
            "grid_template_rows": null,
            "height": null,
            "justify_content": null,
            "justify_items": null,
            "left": null,
            "margin": null,
            "max_height": null,
            "max_width": null,
            "min_height": null,
            "min_width": null,
            "object_fit": null,
            "object_position": null,
            "order": null,
            "overflow": null,
            "overflow_x": null,
            "overflow_y": null,
            "padding": null,
            "right": null,
            "top": null,
            "visibility": null,
            "width": null
          }
        },
        "16531ae1404f414ab35ef4de65bab275": {
          "model_module": "@jupyter-widgets/base",
          "model_name": "LayoutModel",
          "model_module_version": "1.2.0",
          "state": {
            "_model_module": "@jupyter-widgets/base",
            "_model_module_version": "1.2.0",
            "_model_name": "LayoutModel",
            "_view_count": null,
            "_view_module": "@jupyter-widgets/base",
            "_view_module_version": "1.2.0",
            "_view_name": "LayoutView",
            "align_content": null,
            "align_items": null,
            "align_self": null,
            "border": null,
            "bottom": null,
            "display": null,
            "flex": null,
            "flex_flow": null,
            "grid_area": null,
            "grid_auto_columns": null,
            "grid_auto_flow": null,
            "grid_auto_rows": null,
            "grid_column": null,
            "grid_gap": null,
            "grid_row": null,
            "grid_template_areas": null,
            "grid_template_columns": null,
            "grid_template_rows": null,
            "height": null,
            "justify_content": null,
            "justify_items": null,
            "left": null,
            "margin": null,
            "max_height": null,
            "max_width": null,
            "min_height": null,
            "min_width": null,
            "object_fit": null,
            "object_position": null,
            "order": null,
            "overflow": null,
            "overflow_x": null,
            "overflow_y": null,
            "padding": null,
            "right": null,
            "top": null,
            "visibility": null,
            "width": null
          }
        },
        "0cca7f162ea040b483e6c35335a5afb2": {
          "model_module": "@jupyter-widgets/controls",
          "model_name": "DescriptionStyleModel",
          "model_module_version": "1.5.0",
          "state": {
            "_model_module": "@jupyter-widgets/controls",
            "_model_module_version": "1.5.0",
            "_model_name": "DescriptionStyleModel",
            "_view_count": null,
            "_view_module": "@jupyter-widgets/base",
            "_view_module_version": "1.2.0",
            "_view_name": "StyleView",
            "description_width": ""
          }
        },
        "9f9d9e0de4e147399243fe3115d001f1": {
          "model_module": "@jupyter-widgets/base",
          "model_name": "LayoutModel",
          "model_module_version": "1.2.0",
          "state": {
            "_model_module": "@jupyter-widgets/base",
            "_model_module_version": "1.2.0",
            "_model_name": "LayoutModel",
            "_view_count": null,
            "_view_module": "@jupyter-widgets/base",
            "_view_module_version": "1.2.0",
            "_view_name": "LayoutView",
            "align_content": null,
            "align_items": null,
            "align_self": null,
            "border": null,
            "bottom": null,
            "display": null,
            "flex": null,
            "flex_flow": null,
            "grid_area": null,
            "grid_auto_columns": null,
            "grid_auto_flow": null,
            "grid_auto_rows": null,
            "grid_column": null,
            "grid_gap": null,
            "grid_row": null,
            "grid_template_areas": null,
            "grid_template_columns": null,
            "grid_template_rows": null,
            "height": null,
            "justify_content": null,
            "justify_items": null,
            "left": null,
            "margin": null,
            "max_height": null,
            "max_width": null,
            "min_height": null,
            "min_width": null,
            "object_fit": null,
            "object_position": null,
            "order": null,
            "overflow": null,
            "overflow_x": null,
            "overflow_y": null,
            "padding": null,
            "right": null,
            "top": null,
            "visibility": null,
            "width": null
          }
        },
        "92c475dc16334a0696ccbc8df9570db6": {
          "model_module": "@jupyter-widgets/controls",
          "model_name": "ProgressStyleModel",
          "model_module_version": "1.5.0",
          "state": {
            "_model_module": "@jupyter-widgets/controls",
            "_model_module_version": "1.5.0",
            "_model_name": "ProgressStyleModel",
            "_view_count": null,
            "_view_module": "@jupyter-widgets/base",
            "_view_module_version": "1.2.0",
            "_view_name": "StyleView",
            "bar_color": null,
            "description_width": ""
          }
        },
        "c7ee8c8401764e6fa95de3512b68188e": {
          "model_module": "@jupyter-widgets/base",
          "model_name": "LayoutModel",
          "model_module_version": "1.2.0",
          "state": {
            "_model_module": "@jupyter-widgets/base",
            "_model_module_version": "1.2.0",
            "_model_name": "LayoutModel",
            "_view_count": null,
            "_view_module": "@jupyter-widgets/base",
            "_view_module_version": "1.2.0",
            "_view_name": "LayoutView",
            "align_content": null,
            "align_items": null,
            "align_self": null,
            "border": null,
            "bottom": null,
            "display": null,
            "flex": null,
            "flex_flow": null,
            "grid_area": null,
            "grid_auto_columns": null,
            "grid_auto_flow": null,
            "grid_auto_rows": null,
            "grid_column": null,
            "grid_gap": null,
            "grid_row": null,
            "grid_template_areas": null,
            "grid_template_columns": null,
            "grid_template_rows": null,
            "height": null,
            "justify_content": null,
            "justify_items": null,
            "left": null,
            "margin": null,
            "max_height": null,
            "max_width": null,
            "min_height": null,
            "min_width": null,
            "object_fit": null,
            "object_position": null,
            "order": null,
            "overflow": null,
            "overflow_x": null,
            "overflow_y": null,
            "padding": null,
            "right": null,
            "top": null,
            "visibility": null,
            "width": null
          }
        },
        "b107747cf5b44107912439966d9c5d6f": {
          "model_module": "@jupyter-widgets/controls",
          "model_name": "DescriptionStyleModel",
          "model_module_version": "1.5.0",
          "state": {
            "_model_module": "@jupyter-widgets/controls",
            "_model_module_version": "1.5.0",
            "_model_name": "DescriptionStyleModel",
            "_view_count": null,
            "_view_module": "@jupyter-widgets/base",
            "_view_module_version": "1.2.0",
            "_view_name": "StyleView",
            "description_width": ""
          }
        }
      }
    }
  },
  "cells": [
    {
      "cell_type": "code",
      "metadata": {
        "id": "b6c7ae1e"
      },
      "source": [
        "import torch\n",
        "import torch.nn as nn\n",
        "import torchvision\n",
        "import torchvision.transforms as transforms\n",
        "import numpy as np\n",
        "\n",
        "import matplotlib.pyplot as plt\n",
        "\n",
        "\n",
        "def weights_init(m):\n",
        "    if type(m) == nn.Linear:\n",
        "        m.weight.data.normal_(0.0, 1e-3)\n",
        "        m.bias.data.fill_(0.)\n",
        "\n",
        "def update_lr(optimizer, lr):\n",
        "    for param_group in optimizer.param_groups:\n",
        "        param_group['lr'] = lr\n"
      ],
      "id": "b6c7ae1e",
      "execution_count": null,
      "outputs": []
    },
    {
      "cell_type": "code",
      "metadata": {
        "colab": {
          "base_uri": "https://localhost:8080/"
        },
        "id": "2cfad626",
        "outputId": "bc1827e9-c655-404f-cea4-adeb636d6448"
      },
      "source": [
        "#--------------------------------\n",
        "# Device configuration\n",
        "#--------------------------------\n",
        "device = torch.device('cuda' if torch.cuda.is_available() else 'cpu')\n",
        "print('Using device: %s'%device)\n",
        "\n",
        "#--------------------------------\n",
        "# Hyper-parameters\n",
        "#--------------------------------\n",
        "input_size = 3\n",
        "num_classes = 10\n",
        "hidden_size = [128, 512, 512, 512, 512]\n",
        "num_epochs = 20\n",
        "batch_size = 200\n",
        "learning_rate = 2e-3\n",
        "learning_rate_decay = 0.95\n",
        "reg=0.001\n",
        "num_training= 49000\n",
        "num_validation =1000\n",
        "norm_layer = None #norm_layer = 'BN'\n",
        "print(hidden_size)\n"
      ],
      "id": "2cfad626",
      "execution_count": null,
      "outputs": [
        {
          "name": "stdout",
          "output_type": "stream",
          "text": [
            "Using device: cuda\n",
            "[128, 512, 512, 512, 512]\n"
          ]
        }
      ]
    },
    {
      "cell_type": "code",
      "metadata": {
        "colab": {
          "base_uri": "https://localhost:8080/",
          "height": 82,
          "referenced_widgets": [
            "bb5f081902f34d1ea8e8ac8b26adffc4",
            "2e2b4ba74eb1481fbe9be1541669c199",
            "cb7d351477624c3cb9d62a19269dc145",
            "183a54f023914f53be1b85e4eb6abb4f",
            "d7237681cd26449c9d8f23f05939c452",
            "48480f1b7af74358a026391cd2f37ecd",
            "66f3fd4b5e994c26bdb561d6a4378e28",
            "2a5d677c48db4823a0fc4ff9cff5ea12",
            "14cb9a399bc14454b2ca5e715778c620",
            "8226f6defb4b422f9f87fd6262350f90",
            "06d98e4cf8a24fbc9a84d17981f85360"
          ]
        },
        "id": "79435830",
        "outputId": "84af364a-1a96-4de5-c4e1-ae552a74547d"
      },
      "source": [
        "#-------------------------------------------------\n",
        "# Load the CIFAR-10 dataset\n",
        "#-------------------------------------------------\n",
        "#################################################################################\n",
        "# TODO: Q3.a Choose the right data augmentation transforms with the right       #\n",
        "# hyper-parameters and put them in the data_aug_transforms variable             #\n",
        "#################################################################################\n",
        "data_aug_transforms = []\n",
        "# *****START OF YOUR CODE (DO NOT DELETE/MODIFY THIS LINE)*****\n",
        "#data_aug_transforms += [transforms.RandomCrop(32, padding = 4),\n",
        "#                        transforms.RandomHorizontalFlip()]\n",
        "\n",
        "# *****END OF YOUR CODE (DO NOT DELETE/MODIFY THIS LINE)***** \n",
        "norm_transform = transforms.Compose(data_aug_transforms+[transforms.ToTensor(),\n",
        "                                     transforms.Normalize((0.5, 0.5, 0.5), (0.5, 0.5, 0.5))\n",
        "                                     ])\n",
        "test_transform = transforms.Compose([transforms.ToTensor(),\n",
        "                                     transforms.Normalize((0.5, 0.5, 0.5), (0.5, 0.5, 0.5))\n",
        "                                     ])\n",
        "cifar_dataset = torchvision.datasets.CIFAR10(root='datasets/',\n",
        "                                           train=True,\n",
        "                                           transform=norm_transform,\n",
        "                                           download=True)\n",
        "\n",
        "test_dataset = torchvision.datasets.CIFAR10(root='datasets/',\n",
        "                                          train=False,\n",
        "                                          transform=test_transform\n",
        "                                          )\n"
      ],
      "id": "79435830",
      "execution_count": null,
      "outputs": [
        {
          "name": "stdout",
          "output_type": "stream",
          "text": [
            "Downloading https://www.cs.toronto.edu/~kriz/cifar-10-python.tar.gz to datasets/cifar-10-python.tar.gz\n"
          ]
        },
        {
          "data": {
            "application/vnd.jupyter.widget-view+json": {
              "model_id": "bb5f081902f34d1ea8e8ac8b26adffc4",
              "version_major": 2,
              "version_minor": 0
            },
            "text/plain": [
              "  0%|          | 0/170498071 [00:00<?, ?it/s]"
            ]
          },
          "metadata": {},
          "output_type": "display_data"
        },
        {
          "name": "stdout",
          "output_type": "stream",
          "text": [
            "Extracting datasets/cifar-10-python.tar.gz to datasets/\n"
          ]
        }
      ]
    },
    {
      "cell_type": "code",
      "metadata": {
        "id": "ae2c2ee0"
      },
      "source": [
        "#-------------------------------------------------\n",
        "# Prepare the training and validation splits\n",
        "#-------------------------------------------------\n",
        "mask = list(range(num_training))\n",
        "train_dataset = torch.utils.data.Subset(cifar_dataset, mask)\n",
        "mask = list(range(num_training, num_training + num_validation))\n",
        "val_dataset = torch.utils.data.Subset(cifar_dataset, mask)\n"
      ],
      "id": "ae2c2ee0",
      "execution_count": null,
      "outputs": []
    },
    {
      "cell_type": "code",
      "metadata": {
        "id": "64d421a1"
      },
      "source": [
        "#-------------------------------------------------\n",
        "# Data loader\n",
        "#-------------------------------------------------\n",
        "train_loader = torch.utils.data.DataLoader(dataset=train_dataset,\n",
        "                                           batch_size=batch_size,\n",
        "                                           shuffle=True)\n",
        "\n",
        "val_loader = torch.utils.data.DataLoader(dataset=val_dataset,\n",
        "                                           batch_size=batch_size,\n",
        "                                           shuffle=False)\n",
        "\n",
        "test_loader = torch.utils.data.DataLoader(dataset=test_dataset,\n",
        "                                          batch_size=batch_size,\n",
        "                                          shuffle=False)\n",
        "\n"
      ],
      "id": "64d421a1",
      "execution_count": null,
      "outputs": []
    },
    {
      "cell_type": "markdown",
      "metadata": {
        "id": "nfrM-oXV-dUx"
      },
      "source": [
        "### Question 1"
      ],
      "id": "nfrM-oXV-dUx"
    },
    {
      "cell_type": "code",
      "metadata": {
        "id": "f4e55b28"
      },
      "source": [
        "#-------------------------------------------------\n",
        "# Convolutional neural network (Q1.a and Q2.a)\n",
        "# Set norm_layer for different networks whether using batch normalization\n",
        "#-------------------------------------------------\n",
        "class ConvNet(nn.Module):\n",
        "    def __init__(self, input_size, hidden_layers, num_classes, norm_layer=None):\n",
        "        super(ConvNet, self).__init__()\n",
        "        #################################################################################\n",
        "        # TODO: Initialize the modules required to implement the convolutional layer    #\n",
        "        # described in the exercise.                                                    #\n",
        "        # For Q1.a make use of conv2d and relu layers from the torch.nn module.         #\n",
        "        # For Q2.a make use of BatchNorm2d layer from the torch.nn module.              #\n",
        "        # For Q3.b Use Dropout layer from the torch.nn module.                          #\n",
        "        #################################################################################\n",
        "        layers = []\n",
        "        # *****START OF YOUR CODE (DO NOT DELETE/MODIFY THIS LINE)*****\n",
        "        \n",
        "            \n",
        "        # Convolutional layer block 1\n",
        "\n",
        "        layers.append(nn.Conv2d(input_size, hidden_layers[0], kernel_size = 3, stride = 1, padding =1)),\n",
        "        layers.append(nn.MaxPool2d(kernel_size = 2, stride = 2)),\n",
        "        layers.append(nn.ReLU()),\n",
        "\n",
        "        # Convolution layer block 2 \n",
        "\n",
        "        layers.append(nn.Conv2d(hidden_layers[0], hidden_layers[1], kernel_size = 3, stride = 1, padding =1)),\n",
        "        layers.append(nn.MaxPool2d(kernel_size = 2, stride = 2)),\n",
        "        layers.append(nn.ReLU()),\n",
        "\n",
        "        # Convolution layer block 3 \n",
        "\n",
        "        layers.append(nn.Conv2d(hidden_layers[1], hidden_layers[2], kernel_size = 3, stride = 1, padding =1)),\n",
        "        layers.append(nn.MaxPool2d(kernel_size = 2, stride = 2)),\n",
        "        layers.append(nn.ReLU()),\n",
        "\n",
        "        # Convolution layer block 4 \n",
        "\n",
        "        layers.append(nn.Conv2d(hidden_layers[2], hidden_layers[3], kernel_size = 3, stride = 1, padding =1)),\n",
        "        layers.append(nn.MaxPool2d(kernel_size = 2, stride = 2)),\n",
        "        layers.append(nn.ReLU()),\n",
        "\n",
        "        # Convolution layer block 5\n",
        "\n",
        "        layers.append(nn.Conv2d(hidden_layers[3], hidden_layers[4], kernel_size = 3, stride = 1, padding =1)),\n",
        "        layers.append(nn.MaxPool2d(kernel_size = 2, stride = 2))\n",
        "        layers.append(nn.ReLU()),\n",
        "\n",
        "        self.conv_layer = nn.Sequential(*layers)\n",
        "        \n",
        "        self.Dense = nn.Sequential(\n",
        "            nn.Linear(512, 10)\n",
        "        )\n",
        "\n",
        "        # *****END OF YOUR CODE (DO NOT DELETE/MODIFY THIS LINE)*****\n",
        "\n",
        "    def forward(self, x):\n",
        "        #################################################################################\n",
        "        # TODO: Implement the forward pass computations                                 #\n",
        "        #################################################################################\n",
        "        # *****START OF YOUR CODE (DO NOT DELETE/MODIFY THIS LINE)*****\n",
        "        \n",
        "        # conv layers\n",
        "        x = self.conv_layer(x)\n",
        "        \n",
        "        # flatten\n",
        "        x = x.view(x.size(0), -1)\n",
        "        \n",
        "        # fully connected layer\n",
        "        out = self.Dense(x)\n",
        "\n",
        "\n",
        "        # *****END OF YOUR CODE (DO NOT DELETE/MODIFY THIS LINE)*****\n",
        "        return out\n"
      ],
      "id": "f4e55b28",
      "execution_count": null,
      "outputs": []
    },
    {
      "cell_type": "code",
      "metadata": {
        "colab": {
          "base_uri": "https://localhost:8080/"
        },
        "id": "f6b96f75",
        "outputId": "78730ad0-54fc-4785-aed8-8d59d989fcbc"
      },
      "source": [
        "#======================================================================================\n",
        "# Q1.a: Implementing convolutional neural net in PyTorch\n",
        "#======================================================================================\n",
        "# In this question we will implement a convolutional neural networks using the PyTorch\n",
        "# library.  Please complete the code for the ConvNet class evaluating the model\n",
        "#--------------------------------------------------------------------------------------\n",
        "model = ConvNet(input_size, hidden_size, num_classes, norm_layer=norm_layer).to(device)\n",
        "# Q2.a - Initialize the model with correct batch norm layer\n",
        "\n",
        "model.apply(weights_init)\n",
        "# Print the model\n",
        "print(model)"
      ],
      "id": "f6b96f75",
      "execution_count": null,
      "outputs": [
        {
          "name": "stdout",
          "output_type": "stream",
          "text": [
            "ConvNet(\n",
            "  (conv_layer): Sequential(\n",
            "    (0): Conv2d(3, 128, kernel_size=(3, 3), stride=(1, 1), padding=(1, 1))\n",
            "    (1): MaxPool2d(kernel_size=2, stride=2, padding=0, dilation=1, ceil_mode=False)\n",
            "    (2): ReLU()\n",
            "    (3): Conv2d(128, 512, kernel_size=(3, 3), stride=(1, 1), padding=(1, 1))\n",
            "    (4): MaxPool2d(kernel_size=2, stride=2, padding=0, dilation=1, ceil_mode=False)\n",
            "    (5): ReLU()\n",
            "    (6): Conv2d(512, 512, kernel_size=(3, 3), stride=(1, 1), padding=(1, 1))\n",
            "    (7): MaxPool2d(kernel_size=2, stride=2, padding=0, dilation=1, ceil_mode=False)\n",
            "    (8): ReLU()\n",
            "    (9): Conv2d(512, 512, kernel_size=(3, 3), stride=(1, 1), padding=(1, 1))\n",
            "    (10): MaxPool2d(kernel_size=2, stride=2, padding=0, dilation=1, ceil_mode=False)\n",
            "    (11): ReLU()\n",
            "    (12): Conv2d(512, 512, kernel_size=(3, 3), stride=(1, 1), padding=(1, 1))\n",
            "    (13): MaxPool2d(kernel_size=2, stride=2, padding=0, dilation=1, ceil_mode=False)\n",
            "    (14): ReLU()\n",
            "  )\n",
            "  (Dense): Sequential(\n",
            "    (0): Linear(in_features=512, out_features=10, bias=True)\n",
            "  )\n",
            ")\n"
          ]
        }
      ]
    },
    {
      "cell_type": "code",
      "metadata": {
        "id": "juo6_EjoWSIH"
      },
      "source": [
        "#-------------------------------------------------\n",
        "# Calculate the model size (Q1.b)\n",
        "# if disp is true, print the model parameters, otherwise, only return the number of parameters.\n",
        "#-------------------------------------------------\n",
        "def PrintModelSize(model, disp=True):\n",
        "    #################################################################################\n",
        "    # TODO: Implement the function to count the number of trainable parameters in   #\n",
        "    # the input model. This useful to track the capacity of the model you are       #\n",
        "    # training                                                                      #\n",
        "    #################################################################################\n",
        "    # *****START OF YOUR CODE (DO NOT DELETE/MODIFY THIS LINE)*****\n",
        "    model_sz = print(f\"The number of parameters for the described model: {sum(parameter.numel() for parameter in model.parameters())}\")\n",
        "\n",
        "\n",
        "    # *****END OF YOUR CODE (DO NOT DELETE/MODIFY THIS LINE)*****\n",
        "    return model_sz"
      ],
      "id": "juo6_EjoWSIH",
      "execution_count": null,
      "outputs": []
    },
    {
      "cell_type": "code",
      "metadata": {
        "colab": {
          "base_uri": "https://localhost:8080/"
        },
        "id": "Zg_bKjS0WSEJ",
        "outputId": "6c1e41db-d22f-4759-cad3-3dfcd5b78f60"
      },
      "source": [
        "#======================================================================================\n",
        "# Q1.b: Implementing the function to count the number of trainable parameters in the model\n",
        "#======================================================================================\n",
        "PrintModelSize(model)"
      ],
      "id": "Zg_bKjS0WSEJ",
      "execution_count": null,
      "outputs": [
        {
          "name": "stdout",
          "output_type": "stream",
          "text": [
            "The number of parameters for the described model: 7682826\n"
          ]
        }
      ]
    },
    {
      "cell_type": "code",
      "metadata": {
        "id": "VzYIVZmpWSCP"
      },
      "source": [
        "def VisualizeFilter(model):\n",
        "    #################################################################################\n",
        "    # TODO: Implement the functiont to visualize the weights in the first conv layer#\n",
        "    # in the model. Visualize them as a single image of stacked filters.            #\n",
        "    # You can use matlplotlib.imshow to visualize an image in python                #\n",
        "    #################################################################################\n",
        "    # **START OF YOUR CODE (DO NOT DELETE/MODIFY THIS LINE)**\n",
        "    weight = model.conv_layer[0].weight.cpu().data.numpy()\n",
        "    filters = np.interp(weight, (weight.min(), weight.max()), (0, 1))\n",
        "\n",
        "    fig,axs=plt.subplots(8,16, figsize=(20,12),facecolor='black')\n",
        "    \n",
        "    axs=axs.ravel()\n",
        "    for i in range(len(filters)):\n",
        "        axs[i].imshow((filters[i]*255.0).astype(np.uint8))\n",
        "    \n",
        "    pass"
      ],
      "id": "VzYIVZmpWSCP",
      "execution_count": null,
      "outputs": []
    },
    {
      "cell_type": "code",
      "metadata": {
        "id": "ujzPoO-xOFG4"
      },
      "source": [
        "def VisualizeFilter(model):\n",
        "    #################################################################################\n",
        "    # TODO: Implement the functiont to visualize the weights in the first conv layer#\n",
        "    # in the model. Visualize them as a single image of stacked filters.            #\n",
        "    # You can use matlplotlib.imshow to visualize an image in python                #\n",
        "    #################################################################################\n",
        "    # *****START OF YOUR CODE (DO NOT DELETE/MODIFY THIS LINE)*****\n",
        "    kernel_map = np.zeros((7*4 + 3, 15*4 + 3, 3))\n",
        "\n",
        "    kernels = list(model.parameters())[0]\n",
        "    kernels = kernels.to(\"cpu\")\n",
        "    kernels = kernels.data.numpy()\n",
        "\n",
        "    kernels = (kernels - kernels.min()) / (kernels.max() - kernels.min())\n",
        "\n",
        "    cnt = 0\n",
        "    for i in range(0, 8*4,4):\n",
        "      for j in range(0, 16*4, 4):\n",
        "        kernel_map[i:i+3, j:j+3, :] = kernels[cnt]\n",
        "        cnt = cnt + 1\n",
        "\n",
        "    plt.figure(figsize=(20, 10))\n",
        "    plt.imshow(kernel_map)\n",
        "    plt.show()\n",
        "\n",
        "    pass\n"
      ],
      "id": "ujzPoO-xOFG4",
      "execution_count": null,
      "outputs": []
    },
    {
      "cell_type": "markdown",
      "metadata": {
        "id": "B6fhB1ReWxCr"
      },
      "source": [
        "Bafore training"
      ],
      "id": "B6fhB1ReWxCr"
    },
    {
      "cell_type": "code",
      "metadata": {
        "colab": {
          "base_uri": "https://localhost:8080/",
          "height": 668
        },
        "id": "EKz6jfCeWR_5",
        "outputId": "79f5f585-2286-4cdd-f063-458f649f868a"
      },
      "source": [
        "#======================================================================================\n",
        "# Q1.a: Implementing the function to visualize the filters in the first conv layers.\n",
        "# Visualize the filters before training\n",
        "#======================================================================================\n",
        "VisualizeFilter(model)"
      ],
      "id": "EKz6jfCeWR_5",
      "execution_count": null,
      "outputs": [
        {
          "data": {
            "image/png": "[encoded data removed]",
            "text/plain": [
              "<Figure size 1440x864 with 128 Axes>"
            ]
          },
          "metadata": {},
          "output_type": "display_data"
        }
      ]
    },
    {
      "cell_type": "code",
      "metadata": {
        "colab": {
          "base_uri": "https://localhost:8080/"
        },
        "id": "1f6aa282",
        "outputId": "865f31ea-239c-4c0b-9fba-be86531e638d"
      },
      "source": [
        "# Loss and optimizer\n",
        "criterion = nn.CrossEntropyLoss()\n",
        "optimizer = torch.optim.Adam(model.parameters(), lr=learning_rate, weight_decay=reg)\n",
        "\n",
        "# Train the model\n",
        "lr = learning_rate\n",
        "total_step = len(train_loader)\n",
        "loss_train = []\n",
        "loss_val = []\n",
        "best_accuracy = None\n",
        "accuracy_val = []\n",
        "best_model = type(model)(input_size, hidden_size, num_classes, norm_layer=norm_layer) # get a new instance\n",
        "#best_model = ConvNet(input_size, hidden_size, num_classes, norm_layer=norm_layer)\n",
        "for epoch in range(num_epochs):\n",
        "\n",
        "    model.train()\n",
        "\n",
        "    loss_iter = 0\n",
        "    for i, (images, labels) in enumerate(train_loader):\n",
        "        # Move tensors to the configured device\n",
        "        images = images.to(device)\n",
        "        labels = labels.to(device)\n",
        "\n",
        "        # Forward pass\n",
        "        outputs = model(images)\n",
        "        loss = criterion(outputs, labels)\n",
        "\n",
        "        # Backward and optimize\n",
        "        optimizer.zero_grad()\n",
        "        loss.backward()\n",
        "        optimizer.step()\n",
        "\n",
        "        loss_iter += loss.item()\n",
        "        \n",
        "        if (i+1) % 100 == 0:\n",
        "            print ('Epoch [{}/{}], Step [{}/{}], Loss: {:.4f}'\n",
        "                   .format(epoch+1, num_epochs, i+1, total_step, loss.item()))\n",
        "            \n",
        "    loss_train.append(loss_iter/(len(train_loader)*batch_size))\n",
        "\n",
        "    \n",
        "    # Code to update the lr\n",
        "    lr *= learning_rate_decay\n",
        "    update_lr(optimizer, lr)\n",
        "    \n",
        "        \n",
        "    model.eval()\n",
        "    with torch.no_grad():\n",
        "        correct = 0\n",
        "        total = 0\n",
        "        loss_iter = 0\n",
        "        for images, labels in val_loader:\n",
        "            images = images.to(device)\n",
        "            labels = labels.to(device)\n",
        "            \n",
        "            outputs = model(images)\n",
        "            _, predicted = torch.max(outputs.data, 1)\n",
        "            \n",
        "            total += labels.size(0)\n",
        "            correct += (predicted == labels).sum().item()\n",
        "            \n",
        "            loss = criterion(outputs, labels)\n",
        "            loss_iter += loss.item()\n",
        "        \n",
        "        loss_val.append(loss_iter/(len(val_loader)*batch_size))\n",
        "\n",
        "        accuracy = 100 * correct / total\n",
        "        accuracy_val.append(accuracy)\n",
        "        print('Validation accuracy is: {} %'.format(accuracy))\n",
        "        #################################################################################\n",
        "        # TODO: Q2.b Implement the early stopping mechanism to save the model which has #\n",
        "        # the model with the best validation accuracy so-far (use best_model).          #\n",
        "        #################################################################################\n",
        "\n",
        "        # *****START OF YOUR CODE (DO NOT DELETE/MODIFY THIS LINE)*****\n",
        "        \n",
        "        # checks if we have found a better model\n",
        "        #if epoch == 0 or accuracy >= np.max(accuracy_val):\n",
        "         #   best_model = model\n",
        "            # saves the model checkpoint\n",
        "          #  torch.save(best_model.state_dict(), 'model.ckpt')\n",
        "           # if epoch > 0:\n",
        "            #    print(f\"\\t The better model with {accuracy}% accuracy\")\n",
        "\n",
        "        # *****END OF YOUR CODE (DO NOT DELETE/MODIFY THIS LINE)*****"
      ],
      "id": "1f6aa282",
      "execution_count": null,
      "outputs": [
        {
          "name": "stderr",
          "output_type": "stream",
          "text": [
            "/usr/local/lib/python3.7/dist-packages/torch/nn/functional.py:718: UserWarning: Named tensors and all their associated APIs are an experimental feature and subject to change. Please do not use them for anything important until they are released as stable. (Triggered internally at  /pytorch/c10/core/TensorImpl.h:1156.)\n",
            "  return torch.max_pool2d(input, kernel_size, stride, padding, dilation, ceil_mode)\n"
          ]
        },
        {
          "name": "stdout",
          "output_type": "stream",
          "text": [
            "Epoch [1/20], Step [100/245], Loss: 1.8288\n",
            "Epoch [1/20], Step [200/245], Loss: 1.4479\n",
            "Validation accuracy is: 48.3 %\n",
            "Epoch [2/20], Step [100/245], Loss: 1.2674\n",
            "Epoch [2/20], Step [200/245], Loss: 1.0882\n",
            "Validation accuracy is: 59.7 %\n",
            "Epoch [3/20], Step [100/245], Loss: 1.1316\n",
            "Epoch [3/20], Step [200/245], Loss: 0.8886\n",
            "Validation accuracy is: 65.0 %\n",
            "Epoch [4/20], Step [100/245], Loss: 0.7743\n",
            "Epoch [4/20], Step [200/245], Loss: 0.8463\n",
            "Validation accuracy is: 71.8 %\n",
            "Epoch [5/20], Step [100/245], Loss: 0.6098\n",
            "Epoch [5/20], Step [200/245], Loss: 0.5414\n",
            "Validation accuracy is: 74.2 %\n",
            "Epoch [6/20], Step [100/245], Loss: 0.5991\n",
            "Epoch [6/20], Step [200/245], Loss: 0.7065\n",
            "Validation accuracy is: 77.2 %\n",
            "Epoch [7/20], Step [100/245], Loss: 0.5326\n",
            "Epoch [7/20], Step [200/245], Loss: 0.6303\n",
            "Validation accuracy is: 76.7 %\n",
            "Epoch [8/20], Step [100/245], Loss: 0.5023\n",
            "Epoch [8/20], Step [200/245], Loss: 0.4716\n",
            "Validation accuracy is: 77.5 %\n",
            "Epoch [9/20], Step [100/245], Loss: 0.4715\n",
            "Epoch [9/20], Step [200/245], Loss: 0.5571\n",
            "Validation accuracy is: 79.1 %\n",
            "Epoch [10/20], Step [100/245], Loss: 0.4836\n",
            "Epoch [10/20], Step [200/245], Loss: 0.5207\n",
            "Validation accuracy is: 79.7 %\n",
            "Epoch [11/20], Step [100/245], Loss: 0.3886\n",
            "Epoch [11/20], Step [200/245], Loss: 0.3289\n",
            "Validation accuracy is: 80.7 %\n",
            "Epoch [12/20], Step [100/245], Loss: 0.3644\n",
            "Epoch [12/20], Step [200/245], Loss: 0.4034\n",
            "Validation accuracy is: 81.6 %\n",
            "Epoch [13/20], Step [100/245], Loss: 0.3924\n",
            "Epoch [13/20], Step [200/245], Loss: 0.2761\n",
            "Validation accuracy is: 81.2 %\n",
            "Epoch [14/20], Step [100/245], Loss: 0.3121\n",
            "Epoch [14/20], Step [200/245], Loss: 0.3220\n",
            "Validation accuracy is: 80.8 %\n",
            "Epoch [15/20], Step [100/245], Loss: 0.2285\n",
            "Epoch [15/20], Step [200/245], Loss: 0.2949\n",
            "Validation accuracy is: 82.2 %\n",
            "Epoch [16/20], Step [100/245], Loss: 0.2624\n",
            "Epoch [16/20], Step [200/245], Loss: 0.2506\n",
            "Validation accuracy is: 81.9 %\n",
            "Epoch [17/20], Step [100/245], Loss: 0.2352\n",
            "Epoch [17/20], Step [200/245], Loss: 0.2181\n",
            "Validation accuracy is: 82.1 %\n",
            "Epoch [18/20], Step [100/245], Loss: 0.1775\n",
            "Epoch [18/20], Step [200/245], Loss: 0.2109\n",
            "Validation accuracy is: 81.6 %\n",
            "Epoch [19/20], Step [100/245], Loss: 0.1336\n",
            "Epoch [19/20], Step [200/245], Loss: 0.1297\n",
            "Validation accuracy is: 79.9 %\n",
            "Epoch [20/20], Step [100/245], Loss: 0.0845\n",
            "Epoch [20/20], Step [200/245], Loss: 0.1443\n",
            "Validation accuracy is: 81.3 %\n"
          ]
        }
      ]
    },
    {
      "cell_type": "code",
      "metadata": {
        "colab": {
          "base_uri": "https://localhost:8080/",
          "height": 513
        },
        "id": "nImQpI56ifN4",
        "outputId": "727078af-861d-4e65-f0f6-4739fe01c38d"
      },
      "source": [
        "# Test the model\n",
        "# In test phase, we don't need to compute gradients (for memory efficiency)\n",
        "model.eval()\n",
        "\n",
        "plt.figure(2)\n",
        "plt.plot(loss_train, 'r', label='Train loss')\n",
        "plt.plot(loss_val, 'g', label='Val loss')\n",
        "plt.legend()\n",
        "plt.show()\n",
        "\n",
        "plt.figure(3)\n",
        "plt.plot(accuracy_val, 'r', label='Val accuracy')\n",
        "plt.legend()\n",
        "plt.show()\n"
      ],
      "id": "nImQpI56ifN4",
      "execution_count": null,
      "outputs": [
        {
          "data": {
            "image/png": "[encoded data removed]",
            "text/plain": [
              "<Figure size 432x288 with 1 Axes>"
            ]
          },
          "metadata": {},
          "output_type": "display_data"
        },
        {
          "data": {
            "image/png": "[encoded data removed]",
            "text/plain": [
              "<Figure size 432x288 with 1 Axes>"
            ]
          },
          "metadata": {},
          "output_type": "display_data"
        }
      ]
    },
    {
      "cell_type": "markdown",
      "metadata": {
        "id": "k3yZ5qVnW-JD"
      },
      "source": [
        "After training"
      ],
      "id": "k3yZ5qVnW-JD"
    },
    {
      "cell_type": "code",
      "metadata": {
        "colab": {
          "base_uri": "https://localhost:8080/",
          "height": 668
        },
        "id": "YU5vi8BzJh1s",
        "outputId": "cef61486-27be-416d-d7ee-3cd039ec612f"
      },
      "source": [
        "#======================================================================================\n",
        "# Q1.a: Implementing the function to visualize the filters in the first conv layers.\n",
        "# Visualize the filters before training\n",
        "#======================================================================================\n",
        "VisualizeFilter(model)"
      ],
      "id": "YU5vi8BzJh1s",
      "execution_count": null,
      "outputs": [
        {
          "data": {
            "image/png": "[encoded data removed]",
            "text/plain": [
              "<Figure size 1440x864 with 128 Axes>"
            ]
          },
          "metadata": {},
          "output_type": "display_data"
        }
      ]
    },
    {
      "cell_type": "markdown",
      "metadata": {
        "id": "zzDMnv72-Xmk"
      },
      "source": [
        "### Question 2"
      ],
      "id": "zzDMnv72-Xmk"
    },
    {
      "cell_type": "code",
      "metadata": {
        "colab": {
          "base_uri": "https://localhost:8080/"
        },
        "id": "2_MFshXQIFH0",
        "outputId": "76bd803e-30b7-40fa-dbb5-1689aa099bea"
      },
      "source": [
        "#--------------------------------\n",
        "# Device configuration\n",
        "#--------------------------------\n",
        "device = torch.device('cuda' if torch.cuda.is_available() else 'cpu')\n",
        "print('Using device: %s'%device)\n",
        "\n",
        "#--------------------------------\n",
        "# Hyper-parameters\n",
        "#--------------------------------\n",
        "input_size = 3\n",
        "num_classes = 10\n",
        "hidden_size = [128, 512, 512, 512, 512]\n",
        "num_epochs = 50\n",
        "batch_size = 200\n",
        "learning_rate = 2e-3\n",
        "learning_rate_decay = 0.95\n",
        "reg=0.001\n",
        "num_training= 49000\n",
        "num_validation =1000\n",
        "norm_layer = None #norm_layer = 'BN'\n",
        "print(hidden_size)\n",
        "\n",
        "min_valid_loss = np.Inf\n",
        "n_epochs_stop = 6\n",
        "epochs_no_improve = 0\n",
        "early_stop = False\n"
      ],
      "id": "2_MFshXQIFH0",
      "execution_count": null,
      "outputs": [
        {
          "name": "stdout",
          "output_type": "stream",
          "text": [
            "Using device: cuda\n",
            "[128, 512, 512, 512, 512]\n"
          ]
        }
      ]
    },
    {
      "cell_type": "code",
      "metadata": {
        "id": "yb8kn9LpVwT7"
      },
      "source": [
        "#-------------------------------------------------\n",
        "# Convolutional neural network (Q1.a and Q2.a)\n",
        "# Set norm_layer for different networks whether using batch normalization\n",
        "#-------------------------------------------------\n",
        "class ConvNet(nn.Module):\n",
        "    def __init__(self, input_size, hidden_layers, num_classes, norm_layer=None):\n",
        "        super(ConvNet, self).__init__()\n",
        "        #################################################################################\n",
        "        # TODO: Initialize the modules required to implement the convolutional layer    #\n",
        "        # described in the exercise.                                                    #\n",
        "        # For Q1.a make use of conv2d and relu layers from the torch.nn module.         #\n",
        "        # For Q2.a make use of BatchNorm2d layer from the torch.nn module.              #\n",
        "        # For Q3.b Use Dropout layer from the torch.nn module.                          #\n",
        "        #################################################################################\n",
        "        layers = []\n",
        "        # *****START OF YOUR CODE (DO NOT DELETE/MODIFY THIS LINE)*****\n",
        "        \n",
        "            \n",
        "        # Convolutional layer block 1\n",
        "\n",
        "        layers.append(nn.Conv2d(input_size, hidden_size[0], kernel_size = 3, stride = 1, padding =1)),\n",
        "        #layers.append(nn.Dropout(0.2)),\n",
        "        layers.append(nn.BatchNorm2d(hidden_size[0])),\n",
        "        layers.append(nn.MaxPool2d(kernel_size = 2, stride = 2)),\n",
        "        layers.append(nn.ReLU()),\n",
        "\n",
        "        # Convolution layer block 2 \n",
        "\n",
        "        layers.append(nn.Conv2d(hidden_size[0], hidden_size[1], kernel_size = 3, stride = 1, padding =1)),\n",
        "        #layers.append(nn.Dropout(0.2)),\n",
        "        layers.append(nn.BatchNorm2d(hidden_size[1])),\n",
        "        layers.append(nn.MaxPool2d(kernel_size = 2, stride = 2)),\n",
        "        layers.append(nn.ReLU()),\n",
        "\n",
        "        # Convolution layer block 3 \n",
        "\n",
        "        layers.append(nn.Conv2d(hidden_size[1], hidden_size[2], kernel_size = 3, stride = 1, padding =1)),\n",
        "        #layers.append(nn.Dropout(0.2)),\n",
        "        layers.append(nn.BatchNorm2d(hidden_size[2])),\n",
        "        layers.append(nn.MaxPool2d(kernel_size = 2, stride = 2)),\n",
        "        layers.append(nn.ReLU()),\n",
        "\n",
        "        # Convolution layer block 4 \n",
        "\n",
        "        layers.append(nn.Conv2d(hidden_size[2], hidden_size[3], kernel_size = 3, stride = 1, padding =1)),\n",
        "        #layers.append(nn.Dropout(0.2)),\n",
        "        layers.append(nn.BatchNorm2d(hidden_size[3])),\n",
        "        layers.append(nn.MaxPool2d(kernel_size = 2, stride = 2)),\n",
        "        layers.append(nn.ReLU()),\n",
        "\n",
        "        # Convolution layer block 5\n",
        "\n",
        "        layers.append(nn.Conv2d(hidden_size[3], hidden_size[4], kernel_size = 3, stride = 1, padding =1)),\n",
        "        #layers.append(nn.Dropout(0.2)),\n",
        "        layers.append(nn.BatchNorm2d(hidden_size[4])),\n",
        "        layers.append(nn.MaxPool2d(kernel_size = 2, stride = 2))\n",
        "        layers.append(nn.ReLU()),\n",
        "\n",
        "        self.conv_layer = nn.Sequential(*layers)\n",
        "        \n",
        "        self.Dense = nn.Sequential(\n",
        "            nn.Linear(hidden_size[4], num_classes)\n",
        "        )\n",
        "\n",
        "        # *****END OF YOUR CODE (DO NOT DELETE/MODIFY THIS LINE)*****\n",
        "\n",
        "    def forward(self, x):\n",
        "        #################################################################################\n",
        "        # TODO: Implement the forward pass computations                                 #\n",
        "        #################################################################################\n",
        "        # *****START OF YOUR CODE (DO NOT DELETE/MODIFY THIS LINE)*****\n",
        "        \n",
        "        # conv layers\n",
        "        x = self.conv_layer(x)\n",
        "        \n",
        "        # flatten\n",
        "        x = x.view(x.size(0), -1)\n",
        "        \n",
        "        # fully connected layer\n",
        "        out = self.Dense(x)\n",
        "\n",
        "\n",
        "        # *****END OF YOUR CODE (DO NOT DELETE/MODIFY THIS LINE)*****\n",
        "        return out\n"
      ],
      "id": "yb8kn9LpVwT7",
      "execution_count": null,
      "outputs": []
    },
    {
      "cell_type": "code",
      "metadata": {
        "colab": {
          "base_uri": "https://localhost:8080/"
        },
        "id": "82TjIbl0_eZV",
        "outputId": "4f819fb3-4d5e-45ce-d6c3-bdc21f5fa9f8"
      },
      "source": [
        "#======================================================================================\n",
        "# Q1.a: Implementing convolutional neural net in PyTorch\n",
        "#======================================================================================\n",
        "# In this question we will implement a convolutional neural networks using the PyTorch\n",
        "# library.  Please complete the code for the ConvNet class evaluating the model\n",
        "#--------------------------------------------------------------------------------------\n",
        "model = ConvNet(input_size, hidden_size, num_classes, norm_layer=\"BN\").to(device)\n",
        "# Q2.a - Initialize the model with correct batch norm layer\n",
        "\n",
        "model.apply(weights_init)\n",
        "# Print the model\n",
        "print(model)"
      ],
      "id": "82TjIbl0_eZV",
      "execution_count": null,
      "outputs": [
        {
          "name": "stdout",
          "output_type": "stream",
          "text": [
            "ConvNet(\n",
            "  (conv_layer): Sequential(\n",
            "    (0): Conv2d(3, 128, kernel_size=(3, 3), stride=(1, 1), padding=(1, 1))\n",
            "    (1): BatchNorm2d(128, eps=1e-05, momentum=0.1, affine=True, track_running_stats=True)\n",
            "    (2): MaxPool2d(kernel_size=2, stride=2, padding=0, dilation=1, ceil_mode=False)\n",
            "    (3): ReLU()\n",
            "    (4): Conv2d(128, 512, kernel_size=(3, 3), stride=(1, 1), padding=(1, 1))\n",
            "    (5): BatchNorm2d(512, eps=1e-05, momentum=0.1, affine=True, track_running_stats=True)\n",
            "    (6): MaxPool2d(kernel_size=2, stride=2, padding=0, dilation=1, ceil_mode=False)\n",
            "    (7): ReLU()\n",
            "    (8): Conv2d(512, 512, kernel_size=(3, 3), stride=(1, 1), padding=(1, 1))\n",
            "    (9): BatchNorm2d(512, eps=1e-05, momentum=0.1, affine=True, track_running_stats=True)\n",
            "    (10): MaxPool2d(kernel_size=2, stride=2, padding=0, dilation=1, ceil_mode=False)\n",
            "    (11): ReLU()\n",
            "    (12): Conv2d(512, 512, kernel_size=(3, 3), stride=(1, 1), padding=(1, 1))\n",
            "    (13): BatchNorm2d(512, eps=1e-05, momentum=0.1, affine=True, track_running_stats=True)\n",
            "    (14): MaxPool2d(kernel_size=2, stride=2, padding=0, dilation=1, ceil_mode=False)\n",
            "    (15): ReLU()\n",
            "    (16): Conv2d(512, 512, kernel_size=(3, 3), stride=(1, 1), padding=(1, 1))\n",
            "    (17): BatchNorm2d(512, eps=1e-05, momentum=0.1, affine=True, track_running_stats=True)\n",
            "    (18): MaxPool2d(kernel_size=2, stride=2, padding=0, dilation=1, ceil_mode=False)\n",
            "    (19): ReLU()\n",
            "  )\n",
            "  (Dense): Sequential(\n",
            "    (0): Linear(in_features=512, out_features=10, bias=True)\n",
            "  )\n",
            ")\n"
          ]
        }
      ]
    },
    {
      "cell_type": "code",
      "metadata": {
        "colab": {
          "base_uri": "https://localhost:8080/"
        },
        "id": "lAQM3aCDCUHZ",
        "outputId": "f84240a9-2147-40be-dfd0-b4dfe8d5d6cf"
      },
      "source": [
        "# Loss and optimizer\n",
        "criterion = nn.CrossEntropyLoss()\n",
        "optimizer = torch.optim.Adam(model.parameters(), lr=learning_rate, weight_decay=reg)\n",
        "\n",
        "# Train the model\n",
        "lr = learning_rate\n",
        "total_step = len(train_loader)\n",
        "loss_train = []\n",
        "loss_val = []\n",
        "best_accuracy = 0\n",
        "accuracy_val = []\n",
        "best_model = type(model)(input_size, hidden_size, num_classes, norm_layer=norm_layer) # get a new instance\n",
        "#best_model = ConvNet(input_size, hidden_size, num_classes, norm_layer=norm_layer)\n",
        "for epoch in range(num_epochs):\n",
        "\n",
        "    model.train()\n",
        "\n",
        "    loss_iter = 0\n",
        "    for i, (images, labels) in enumerate(train_loader):\n",
        "        # Move tensors to the configured device\n",
        "        images = images.to(device)\n",
        "        labels = labels.to(device)\n",
        "\n",
        "        # Forward pass\n",
        "        outputs = model(images)\n",
        "        loss = criterion(outputs, labels)\n",
        "\n",
        "        # Backward and optimize\n",
        "        optimizer.zero_grad()\n",
        "        loss.backward()\n",
        "        optimizer.step()\n",
        "\n",
        "        loss_iter += loss.item()\n",
        "        \n",
        "        if (i+1) % 100 == 0:\n",
        "            print ('Epoch [{}/{}], Step [{}/{}], Loss: {:.4f}'\n",
        "                   .format(epoch+1, num_epochs, i+1, total_step, loss.item()))\n",
        "            \n",
        "    loss_train.append(loss_iter/(len(train_loader)*batch_size))\n",
        "\n",
        "    \n",
        "    \n",
        "    # Code to update the lr\n",
        "    lr *= learning_rate_decay\n",
        "    update_lr(optimizer, lr)\n",
        "    \n",
        "        \n",
        "    model.eval()\n",
        "    with torch.no_grad():\n",
        "        correct = 0\n",
        "        total = 0\n",
        "        loss_iter = 0\n",
        "        for images, labels in val_loader:\n",
        "            images = images.to(device)\n",
        "            labels = labels.to(device)\n",
        "            \n",
        "            outputs = model(images)\n",
        "            _, predicted = torch.max(outputs.data, 1)\n",
        "            \n",
        "            total += labels.size(0)\n",
        "            correct += (predicted == labels).sum().item()\n",
        "            \n",
        "            loss = criterion(outputs, labels)\n",
        "            loss_iter += loss.item()\n",
        "        \n",
        "        loss_val.append(loss_iter/(len(val_loader)*batch_size))\n",
        "\n",
        "        accuracy = 100 * correct / total\n",
        "        accuracy_val.append(accuracy)\n",
        "        print('Validation accuracy is: {} %'.format(accuracy))\n",
        "        #################################################################################\n",
        "        # TODO: Q2.b Implement the early stopping mechanism to save the model which has #\n",
        "        # the model with the best validation accuracy so-far (use best_model).          #\n",
        "        #################################################################################\n",
        "\n",
        "        # *****START OF YOUR CODE (DO NOT DELETE/MODIFY THIS LINE)*****\n",
        "        if epoch == 0 or accuracy >= np.max(accuracy_val):\n",
        "            best_model = model\n",
        "            # saves the model checkpoint\n",
        "            torch.save(best_model.state_dict(), 'model.ckpt')\n",
        "            if epoch > 0:\n",
        "                print(\n",
        "                    f\"\\tHigher validation accuracy at epoch {epoch+1} with acuracy {accuracy}%\")\n",
        "        # *****END OF YOUR CODE (DO NOT DELETE/MODIFY THIS LINE)*****"
      ],
      "id": "lAQM3aCDCUHZ",
      "execution_count": null,
      "outputs": [
        {
          "name": "stdout",
          "output_type": "stream",
          "text": [
            "Epoch [1/50], Step [100/245], Loss: 0.5183\n",
            "Epoch [1/50], Step [200/245], Loss: 0.6832\n",
            "Validation accuracy is: 71.2 %\n",
            "Epoch [2/50], Step [100/245], Loss: 0.6460\n",
            "Epoch [2/50], Step [200/245], Loss: 0.3351\n",
            "Validation accuracy is: 75.5 %\n",
            "\tHigher validation accuracy at epoch 2 with acuracy 75.5%\n",
            "Epoch [3/50], Step [100/245], Loss: 0.4680\n",
            "Epoch [3/50], Step [200/245], Loss: 0.4685\n",
            "Validation accuracy is: 77.1 %\n",
            "\tHigher validation accuracy at epoch 3 with acuracy 77.1%\n",
            "Epoch [4/50], Step [100/245], Loss: 0.3647\n",
            "Epoch [4/50], Step [200/245], Loss: 0.4326\n",
            "Validation accuracy is: 78.8 %\n",
            "\tHigher validation accuracy at epoch 4 with acuracy 78.8%\n",
            "Epoch [5/50], Step [100/245], Loss: 0.3637\n",
            "Epoch [5/50], Step [200/245], Loss: 0.3241\n",
            "Validation accuracy is: 78.4 %\n",
            "Epoch [6/50], Step [100/245], Loss: 0.2828\n",
            "Epoch [6/50], Step [200/245], Loss: 0.3509\n",
            "Validation accuracy is: 79.1 %\n",
            "\tHigher validation accuracy at epoch 6 with acuracy 79.1%\n",
            "Epoch [7/50], Step [100/245], Loss: 0.2700\n",
            "Epoch [7/50], Step [200/245], Loss: 0.2295\n",
            "Validation accuracy is: 79.3 %\n",
            "\tHigher validation accuracy at epoch 7 with acuracy 79.3%\n",
            "Epoch [8/50], Step [100/245], Loss: 0.1978\n",
            "Epoch [8/50], Step [200/245], Loss: 0.2763\n",
            "Validation accuracy is: 79.0 %\n",
            "Epoch [9/50], Step [100/245], Loss: 0.1986\n",
            "Epoch [9/50], Step [200/245], Loss: 0.2720\n",
            "Validation accuracy is: 75.9 %\n",
            "Epoch [10/50], Step [100/245], Loss: 0.1673\n",
            "Epoch [10/50], Step [200/245], Loss: 0.2251\n",
            "Validation accuracy is: 78.4 %\n",
            "Epoch [11/50], Step [100/245], Loss: 0.0864\n",
            "Epoch [11/50], Step [200/245], Loss: 0.2451\n",
            "Validation accuracy is: 81.7 %\n",
            "\tHigher validation accuracy at epoch 11 with acuracy 81.7%\n",
            "Epoch [12/50], Step [100/245], Loss: 0.0988\n",
            "Epoch [12/50], Step [200/245], Loss: 0.1450\n",
            "Validation accuracy is: 81.6 %\n",
            "Epoch [13/50], Step [100/245], Loss: 0.0754\n",
            "Epoch [13/50], Step [200/245], Loss: 0.1173\n",
            "Validation accuracy is: 82.3 %\n",
            "\tHigher validation accuracy at epoch 13 with acuracy 82.3%\n",
            "Epoch [14/50], Step [100/245], Loss: 0.0995\n",
            "Epoch [14/50], Step [200/245], Loss: 0.1029\n",
            "Validation accuracy is: 81.2 %\n",
            "Epoch [15/50], Step [100/245], Loss: 0.0750\n",
            "Epoch [15/50], Step [200/245], Loss: 0.1645\n",
            "Validation accuracy is: 80.5 %\n",
            "Epoch [16/50], Step [100/245], Loss: 0.0528\n",
            "Epoch [16/50], Step [200/245], Loss: 0.0780\n",
            "Validation accuracy is: 78.5 %\n",
            "Epoch [17/50], Step [100/245], Loss: 0.0810\n",
            "Epoch [17/50], Step [200/245], Loss: 0.0933\n",
            "Validation accuracy is: 81.1 %\n",
            "Epoch [18/50], Step [100/245], Loss: 0.0404\n",
            "Epoch [18/50], Step [200/245], Loss: 0.0635\n",
            "Validation accuracy is: 79.6 %\n",
            "Epoch [19/50], Step [100/245], Loss: 0.0352\n",
            "Epoch [19/50], Step [200/245], Loss: 0.0881\n",
            "Validation accuracy is: 82.3 %\n",
            "\tHigher validation accuracy at epoch 19 with acuracy 82.3%\n",
            "Epoch [20/50], Step [100/245], Loss: 0.0427\n",
            "Epoch [20/50], Step [200/245], Loss: 0.0344\n",
            "Validation accuracy is: 82.5 %\n",
            "\tHigher validation accuracy at epoch 20 with acuracy 82.5%\n",
            "Epoch [21/50], Step [100/245], Loss: 0.0222\n",
            "Epoch [21/50], Step [200/245], Loss: 0.0344\n",
            "Validation accuracy is: 81.0 %\n",
            "Epoch [22/50], Step [100/245], Loss: 0.0216\n",
            "Epoch [22/50], Step [200/245], Loss: 0.0532\n",
            "Validation accuracy is: 82.7 %\n",
            "\tHigher validation accuracy at epoch 22 with acuracy 82.7%\n",
            "Epoch [23/50], Step [100/245], Loss: 0.0379\n",
            "Epoch [23/50], Step [200/245], Loss: 0.0453\n",
            "Validation accuracy is: 83.5 %\n",
            "\tHigher validation accuracy at epoch 23 with acuracy 83.5%\n",
            "Epoch [24/50], Step [100/245], Loss: 0.0144\n",
            "Epoch [24/50], Step [200/245], Loss: 0.0178\n",
            "Validation accuracy is: 82.3 %\n",
            "Epoch [25/50], Step [100/245], Loss: 0.0412\n",
            "Epoch [25/50], Step [200/245], Loss: 0.0301\n",
            "Validation accuracy is: 82.9 %\n",
            "Epoch [26/50], Step [100/245], Loss: 0.0283\n",
            "Epoch [26/50], Step [200/245], Loss: 0.0304\n",
            "Validation accuracy is: 83.6 %\n",
            "\tHigher validation accuracy at epoch 26 with acuracy 83.6%\n",
            "Epoch [27/50], Step [100/245], Loss: 0.0323\n",
            "Epoch [27/50], Step [200/245], Loss: 0.0364\n",
            "Validation accuracy is: 82.7 %\n",
            "Epoch [28/50], Step [100/245], Loss: 0.0291\n",
            "Epoch [28/50], Step [200/245], Loss: 0.0260\n",
            "Validation accuracy is: 82.0 %\n",
            "Epoch [29/50], Step [100/245], Loss: 0.0218\n",
            "Epoch [29/50], Step [200/245], Loss: 0.0486\n",
            "Validation accuracy is: 82.6 %\n",
            "Epoch [30/50], Step [100/245], Loss: 0.0325\n",
            "Epoch [30/50], Step [200/245], Loss: 0.0097\n",
            "Validation accuracy is: 83.3 %\n",
            "Epoch [31/50], Step [100/245], Loss: 0.0042\n",
            "Epoch [31/50], Step [200/245], Loss: 0.0041\n",
            "Validation accuracy is: 84.4 %\n",
            "\tHigher validation accuracy at epoch 31 with acuracy 84.4%\n",
            "Epoch [32/50], Step [100/245], Loss: 0.0046\n",
            "Epoch [32/50], Step [200/245], Loss: 0.0026\n",
            "Validation accuracy is: 83.8 %\n",
            "Epoch [33/50], Step [100/245], Loss: 0.0026\n",
            "Epoch [33/50], Step [200/245], Loss: 0.0035\n",
            "Validation accuracy is: 84.1 %\n",
            "Epoch [34/50], Step [100/245], Loss: 0.0035\n",
            "Epoch [34/50], Step [200/245], Loss: 0.0041\n",
            "Validation accuracy is: 85.0 %\n",
            "\tHigher validation accuracy at epoch 34 with acuracy 85.0%\n",
            "Epoch [35/50], Step [100/245], Loss: 0.0046\n",
            "Epoch [35/50], Step [200/245], Loss: 0.0035\n",
            "Validation accuracy is: 84.3 %\n",
            "Epoch [36/50], Step [100/245], Loss: 0.0049\n",
            "Epoch [36/50], Step [200/245], Loss: 0.0038\n",
            "Validation accuracy is: 84.8 %\n",
            "Epoch [37/50], Step [100/245], Loss: 0.0031\n",
            "Epoch [37/50], Step [200/245], Loss: 0.0046\n",
            "Validation accuracy is: 84.5 %\n",
            "Epoch [38/50], Step [100/245], Loss: 0.0040\n",
            "Epoch [38/50], Step [200/245], Loss: 0.0114\n",
            "Validation accuracy is: 76.9 %\n",
            "Epoch [39/50], Step [100/245], Loss: 0.1426\n",
            "Epoch [39/50], Step [200/245], Loss: 0.0844\n",
            "Validation accuracy is: 82.3 %\n",
            "Epoch [40/50], Step [100/245], Loss: 0.0497\n",
            "Epoch [40/50], Step [200/245], Loss: 0.0225\n",
            "Validation accuracy is: 84.2 %\n",
            "Epoch [41/50], Step [100/245], Loss: 0.0063\n",
            "Epoch [41/50], Step [200/245], Loss: 0.0091\n",
            "Validation accuracy is: 84.0 %\n",
            "Epoch [42/50], Step [100/245], Loss: 0.0027\n",
            "Epoch [42/50], Step [200/245], Loss: 0.0038\n",
            "Validation accuracy is: 84.1 %\n",
            "Epoch [43/50], Step [100/245], Loss: 0.0030\n",
            "Epoch [43/50], Step [200/245], Loss: 0.0038\n",
            "Validation accuracy is: 84.4 %\n",
            "Epoch [44/50], Step [100/245], Loss: 0.0027\n",
            "Epoch [44/50], Step [200/245], Loss: 0.0031\n",
            "Validation accuracy is: 84.1 %\n",
            "Epoch [45/50], Step [100/245], Loss: 0.0031\n",
            "Epoch [45/50], Step [200/245], Loss: 0.0025\n",
            "Validation accuracy is: 84.7 %\n",
            "Epoch [46/50], Step [100/245], Loss: 0.0037\n",
            "Epoch [46/50], Step [200/245], Loss: 0.0035\n",
            "Validation accuracy is: 85.1 %\n",
            "\tHigher validation accuracy at epoch 46 with acuracy 85.1%\n",
            "Epoch [47/50], Step [100/245], Loss: 0.0029\n",
            "Epoch [47/50], Step [200/245], Loss: 0.0026\n",
            "Validation accuracy is: 84.6 %\n",
            "Epoch [48/50], Step [100/245], Loss: 0.0041\n",
            "Epoch [48/50], Step [200/245], Loss: 0.0033\n",
            "Validation accuracy is: 84.8 %\n",
            "Epoch [49/50], Step [100/245], Loss: 0.0026\n",
            "Epoch [49/50], Step [200/245], Loss: 0.0044\n",
            "Validation accuracy is: 83.9 %\n",
            "Epoch [50/50], Step [100/245], Loss: 0.0032\n",
            "Epoch [50/50], Step [200/245], Loss: 0.0028\n",
            "Validation accuracy is: 84.1 %\n"
          ]
        }
      ]
    },
    {
      "cell_type": "code",
      "metadata": {
        "colab": {
          "base_uri": "https://localhost:8080/",
          "height": 513
        },
        "id": "DgfSADaK-TxS",
        "outputId": "46942eda-73c9-45b9-c6d9-c9d5ef6a3fe9"
      },
      "source": [
        "# Test the model\n",
        "# In test phase, we don't need to compute gradients (for memory efficiency)\n",
        "model.eval()\n",
        "\n",
        "plt.figure(2)\n",
        "plt.plot(loss_train, 'r', label='Train loss')\n",
        "plt.plot(loss_val, 'g', label='Val loss')\n",
        "plt.legend()\n",
        "plt.show()\n",
        "\n",
        "plt.figure(3)\n",
        "plt.plot(accuracy_val, 'r', label='Val accuracy')\n",
        "plt.legend()\n",
        "plt.show()"
      ],
      "id": "DgfSADaK-TxS",
      "execution_count": null,
      "outputs": [
        {
          "data": {
            "image/png": "[encoded data removed]",
            "text/plain": [
              "<Figure size 432x288 with 1 Axes>"
            ]
          },
          "metadata": {},
          "output_type": "display_data"
        },
        {
          "data": {
            "image/png": "[encoded data removed]",
            "text/plain": [
              "<Figure size 432x288 with 1 Axes>"
            ]
          },
          "metadata": {},
          "output_type": "display_data"
        }
      ]
    },
    {
      "cell_type": "markdown",
      "metadata": {
        "id": "bRWqz6MNUu0p"
      },
      "source": [
        "### Question 3"
      ],
      "id": "bRWqz6MNUu0p"
    },
    {
      "cell_type": "code",
      "metadata": {
        "colab": {
          "base_uri": "https://localhost:8080/"
        },
        "id": "o9mQM4fNfxDR",
        "outputId": "1b15f106-d175-4232-ad24-4efe27a88548"
      },
      "source": [
        "import torch\n",
        "import torch.nn as nn\n",
        "import torchvision\n",
        "import torchvision.transforms as transforms\n",
        "import numpy as np\n",
        "\n",
        "import matplotlib.pyplot as plt\n",
        "\n",
        "\n",
        "def weights_init(m):\n",
        "    if type(m) == nn.Linear:\n",
        "        m.weight.data.normal_(0.0, 1e-3)\n",
        "        m.bias.data.fill_(0.)\n",
        "\n",
        "def update_lr(optimizer, lr):\n",
        "    for param_group in optimizer.param_groups:\n",
        "        param_group['lr'] = lr\n",
        "\n",
        "\n",
        "\n",
        "#--------------------------------\n",
        "# Device configuration\n",
        "#--------------------------------\n",
        "device = torch.device('cuda' if torch.cuda.is_available() else 'cpu')\n",
        "print('Using device: %s'%device)\n"
      ],
      "id": "o9mQM4fNfxDR",
      "execution_count": null,
      "outputs": [
        {
          "name": "stdout",
          "output_type": "stream",
          "text": [
            "Using device: cuda\n"
          ]
        }
      ]
    },
    {
      "cell_type": "code",
      "metadata": {
        "colab": {
          "base_uri": "https://localhost:8080/"
        },
        "id": "9kgFxCV1UzNL",
        "outputId": "a26eefe1-6b57-493a-ecd2-b5849af88dde"
      },
      "source": [
        "#--------------------------------\n",
        "# Hyper-parameters\n",
        "#--------------------------------\n",
        "input_size = 3\n",
        "num_classes = 10\n",
        "hidden_size = [128, 512, 512, 512, 512]\n",
        "num_epochs = 40\n",
        "batch_size = 200\n",
        "learning_rate = 2e-3\n",
        "learning_rate_decay = 0.95\n",
        "reg=0.001\n",
        "num_training= 49000\n",
        "num_validation =1000\n",
        "norm_layer = None #norm_layer = 'BN'\n",
        "print(hidden_size)\n"
      ],
      "id": "9kgFxCV1UzNL",
      "execution_count": null,
      "outputs": [
        {
          "name": "stdout",
          "output_type": "stream",
          "text": [
            "[128, 512, 512, 512, 512]\n"
          ]
        }
      ]
    },
    {
      "cell_type": "code",
      "metadata": {
        "colab": {
          "base_uri": "https://localhost:8080/"
        },
        "id": "50azrKkHVGb8",
        "outputId": "7178897b-1378-404b-c704-675e2e9a4fed"
      },
      "source": [
        "#-------------------------------------------------\n",
        "# Load the CIFAR-10 dataset\n",
        "#-------------------------------------------------\n",
        "#################################################################################\n",
        "# TODO: Q3.a Choose the right data augmentation transforms with the right       #\n",
        "# hyper-parameters and put them in the data_aug_transforms variable             #\n",
        "#################################################################################\n",
        "data_aug_transforms = []\n",
        "# *****START OF YOUR CODE (DO NOT DELETE/MODIFY THIS LINE)*****\n",
        "data_aug_transforms += [transforms.RandomHorizontalFlip(0.5),\n",
        "                        transforms.RandomPerspective(distortion_scale=0.5, p=0.5, interpolation=3, fill=0),\n",
        "                        transforms.ColorJitter(brightness=0.1, contrast=0.05, saturation=0.1, hue=0.05)]\n",
        "\n",
        "# *****END OF YOUR CODE (DO NOT DELETE/MODIFY THIS LINE)*****\n",
        "norm_transform = transforms.Compose(data_aug_transforms+[transforms.ToTensor(),\n",
        "                                     transforms.Normalize((0.5, 0.5, 0.5), (0.5, 0.5, 0.5))\n",
        "                                     ])\n",
        "test_transform = transforms.Compose([transforms.ToTensor(),\n",
        "                                     transforms.Normalize((0.5, 0.5, 0.5), (0.5, 0.5, 0.5))\n",
        "                                     ])\n",
        "cifar_dataset = torchvision.datasets.CIFAR10(root='datasets/',\n",
        "                                           train=True,\n",
        "                                           transform=norm_transform,\n",
        "                                           download=True)\n",
        "\n",
        "test_dataset = torchvision.datasets.CIFAR10(root='datasets/',\n",
        "                                          train=False,\n",
        "                                          transform=test_transform\n",
        "                                          )"
      ],
      "id": "50azrKkHVGb8",
      "execution_count": null,
      "outputs": [
        {
          "name": "stderr",
          "output_type": "stream",
          "text": [
            "/usr/local/lib/python3.7/dist-packages/torchvision/transforms/transforms.py:734: UserWarning: Argument interpolation should be of type InterpolationMode instead of int. Please, use InterpolationMode enum.\n",
            "  \"Argument interpolation should be of type InterpolationMode instead of int. \"\n"
          ]
        },
        {
          "name": "stdout",
          "output_type": "stream",
          "text": [
            "Files already downloaded and verified\n"
          ]
        }
      ]
    },
    {
      "cell_type": "code",
      "metadata": {
        "id": "p_a1cUASfCk9"
      },
      "source": [
        "#-------------------------------------------------\n",
        "# Prepare the training and validation splits\n",
        "#-------------------------------------------------\n",
        "mask = list(range(num_training))\n",
        "train_dataset = torch.utils.data.Subset(cifar_dataset, mask)\n",
        "mask = list(range(num_training, num_training + num_validation))\n",
        "val_dataset = torch.utils.data.Subset(cifar_dataset, mask)\n",
        "\n",
        "#-------------------------------------------------\n",
        "# Data loader\n",
        "#-------------------------------------------------\n",
        "train_loader = torch.utils.data.DataLoader(dataset=train_dataset,\n",
        "                                           batch_size=batch_size,\n",
        "                                           shuffle=True)\n",
        "\n",
        "val_loader = torch.utils.data.DataLoader(dataset=val_dataset,\n",
        "                                           batch_size=batch_size,\n",
        "                                           shuffle=False)\n",
        "\n",
        "test_loader = torch.utils.data.DataLoader(dataset=test_dataset,\n",
        "                                          batch_size=batch_size,\n",
        "                                          shuffle=False)\n"
      ],
      "id": "p_a1cUASfCk9",
      "execution_count": null,
      "outputs": []
    },
    {
      "cell_type": "code",
      "metadata": {
        "id": "0suETgRwAcKR"
      },
      "source": [
        "#-------------------------------------------------\n",
        "# Convolutional neural network (Q1.a and Q2.a)\n",
        "# Set norm_layer for different networks whether using batch normalization\n",
        "#-------------------------------------------------\n",
        "class ConvNet(nn.Module):\n",
        "    def __init__(self, input_size, hidden_layers, num_classes, norm_layer=None):\n",
        "        super(ConvNet, self).__init__()\n",
        "        #################################################################################\n",
        "        # TODO: Initialize the modules required to implement the convolutional layer    #\n",
        "        # described in the exercise.                                                    #\n",
        "        # For Q1.a make use of conv2d and relu layers from the torch.nn module.         #\n",
        "        # For Q2.a make use of BatchNorm2d layer from the torch.nn module.              #\n",
        "        # For Q3.b Use Dropout layer from the torch.nn module.                          #\n",
        "        #################################################################################\n",
        "        layers = []\n",
        "        # *****START OF YOUR CODE (DO NOT DELETE/MODIFY THIS LINE)*****\n",
        "        \n",
        "            \n",
        "        # Convolutional layer block 1\n",
        "\n",
        "        layers.append(nn.Conv2d(input_size, hidden_size[0], kernel_size = 3, stride = 1, padding =1)),\n",
        "        #layers.append(nn.Dropout(p)),\n",
        "        layers.append(nn.BatchNorm2d(hidden_size[0])),\n",
        "        layers.append(nn.MaxPool2d(kernel_size = 2, stride = 2)),\n",
        "        layers.append(nn.ReLU()),\n",
        "\n",
        "        # Convolution layer block 2 \n",
        "\n",
        "        layers.append(nn.Conv2d(hidden_size[0], hidden_size[1], kernel_size = 3, stride = 1, padding =1)),\n",
        "        #layers.append(nn.Dropout(0.2)),\n",
        "        layers.append(nn.BatchNorm2d(hidden_size[1])),\n",
        "        layers.append(nn.MaxPool2d(kernel_size = 2, stride = 2)),\n",
        "        layers.append(nn.ReLU()),\n",
        "\n",
        "        # Convolution layer block 3 \n",
        "\n",
        "        layers.append(nn.Conv2d(hidden_size[1], hidden_size[2], kernel_size = 3, stride = 1, padding =1)),\n",
        "        #layers.append(nn.Dropout(0.2)),\n",
        "        layers.append(nn.BatchNorm2d(hidden_size[2])),\n",
        "        layers.append(nn.MaxPool2d(kernel_size = 2, stride = 2)),\n",
        "        layers.append(nn.ReLU()),\n",
        "\n",
        "        # Convolution layer block 4 \n",
        "\n",
        "        layers.append(nn.Conv2d(hidden_size[2], hidden_size[3], kernel_size = 3, stride = 1, padding =1)),\n",
        "        #layers.append(nn.Dropout(0.2)),\n",
        "        layers.append(nn.BatchNorm2d(hidden_size[3])),\n",
        "        layers.append(nn.MaxPool2d(kernel_size = 2, stride = 2)),\n",
        "        layers.append(nn.ReLU()),\n",
        "\n",
        "        # Convolution layer block 5\n",
        "\n",
        "        layers.append(nn.Conv2d(hidden_size[3], hidden_size[4], kernel_size = 3, stride = 1, padding =1)),\n",
        "        #layers.append(nn.Dropout(0.2)),\n",
        "        layers.append(nn.BatchNorm2d(hidden_size[4])),\n",
        "        layers.append(nn.MaxPool2d(kernel_size = 2, stride = 2))\n",
        "        layers.append(nn.ReLU()),\n",
        "\n",
        "        self.conv_layer = nn.Sequential(*layers)\n",
        "        \n",
        "        self.Dense = nn.Sequential(\n",
        "            nn.Linear(hidden_size[4], num_classes)\n",
        "        )\n",
        "\n",
        "        # *****END OF YOUR CODE (DO NOT DELETE/MODIFY THIS LINE)*****\n",
        "\n",
        "    def forward(self, x):\n",
        "        #################################################################################\n",
        "        # TODO: Implement the forward pass computations                                 #\n",
        "        #################################################################################\n",
        "        # *****START OF YOUR CODE (DO NOT DELETE/MODIFY THIS LINE)*****\n",
        "        \n",
        "        # conv layers\n",
        "        x = self.conv_layer(x)\n",
        "        \n",
        "        # flatten\n",
        "        x = x.view(x.size(0), -1)\n",
        "        \n",
        "        # fully connected layer\n",
        "        out = self.Dense(x)\n",
        "\n",
        "\n",
        "        # *****END OF YOUR CODE (DO NOT DELETE/MODIFY THIS LINE)*****\n",
        "        return out\n"
      ],
      "id": "0suETgRwAcKR",
      "execution_count": null,
      "outputs": []
    },
    {
      "cell_type": "code",
      "metadata": {
        "colab": {
          "base_uri": "https://localhost:8080/"
        },
        "id": "sI_EdYipfem9",
        "outputId": "6d463aac-00d3-4429-99b9-37c25cebe473"
      },
      "source": [
        "#======================================================================================\n",
        "# Q1.a: Implementing convolutional neural net in PyTorch\n",
        "#======================================================================================\n",
        "# In this question we will implement a convolutional neural networks using the PyTorch\n",
        "# library.  Please complete the code for the ConvNet class evaluating the model\n",
        "#--------------------------------------------------------------------------------------\n",
        "model = ConvNet(input_size, hidden_size, num_classes, norm_layer=norm_layer).to(device)\n",
        "# Q2.a - Initialize the model with correct batch norm layer\n",
        "\n",
        "model.apply(weights_init)\n",
        "# Print the model\n",
        "print(model)"
      ],
      "id": "sI_EdYipfem9",
      "execution_count": null,
      "outputs": [
        {
          "name": "stdout",
          "output_type": "stream",
          "text": [
            "ConvNet(\n",
            "  (conv_layer): Sequential(\n",
            "    (0): Conv2d(3, 128, kernel_size=(3, 3), stride=(1, 1), padding=(1, 1))\n",
            "    (1): BatchNorm2d(128, eps=1e-05, momentum=0.1, affine=True, track_running_stats=True)\n",
            "    (2): MaxPool2d(kernel_size=2, stride=2, padding=0, dilation=1, ceil_mode=False)\n",
            "    (3): ReLU()\n",
            "    (4): Conv2d(128, 512, kernel_size=(3, 3), stride=(1, 1), padding=(1, 1))\n",
            "    (5): BatchNorm2d(512, eps=1e-05, momentum=0.1, affine=True, track_running_stats=True)\n",
            "    (6): MaxPool2d(kernel_size=2, stride=2, padding=0, dilation=1, ceil_mode=False)\n",
            "    (7): ReLU()\n",
            "    (8): Conv2d(512, 512, kernel_size=(3, 3), stride=(1, 1), padding=(1, 1))\n",
            "    (9): BatchNorm2d(512, eps=1e-05, momentum=0.1, affine=True, track_running_stats=True)\n",
            "    (10): MaxPool2d(kernel_size=2, stride=2, padding=0, dilation=1, ceil_mode=False)\n",
            "    (11): ReLU()\n",
            "    (12): Conv2d(512, 512, kernel_size=(3, 3), stride=(1, 1), padding=(1, 1))\n",
            "    (13): BatchNorm2d(512, eps=1e-05, momentum=0.1, affine=True, track_running_stats=True)\n",
            "    (14): MaxPool2d(kernel_size=2, stride=2, padding=0, dilation=1, ceil_mode=False)\n",
            "    (15): ReLU()\n",
            "    (16): Conv2d(512, 512, kernel_size=(3, 3), stride=(1, 1), padding=(1, 1))\n",
            "    (17): BatchNorm2d(512, eps=1e-05, momentum=0.1, affine=True, track_running_stats=True)\n",
            "    (18): MaxPool2d(kernel_size=2, stride=2, padding=0, dilation=1, ceil_mode=False)\n",
            "    (19): ReLU()\n",
            "  )\n",
            "  (Dense): Sequential(\n",
            "    (0): Linear(in_features=512, out_features=10, bias=True)\n",
            "  )\n",
            ")\n"
          ]
        }
      ]
    },
    {
      "cell_type": "code",
      "metadata": {
        "colab": {
          "base_uri": "https://localhost:8080/"
        },
        "id": "oFagpFI9M50X",
        "outputId": "d26faa0d-9fad-423d-eb17-80a88220f71d"
      },
      "source": [
        "# Loss and optimizer\n",
        "criterion = nn.CrossEntropyLoss()\n",
        "optimizer = torch.optim.Adam(model.parameters(), lr=learning_rate, weight_decay=reg)\n",
        "\n",
        "# Train the model\n",
        "lr = learning_rate\n",
        "total_step = len(train_loader)\n",
        "loss_train = []\n",
        "loss_val = []\n",
        "best_accuracy = None\n",
        "accuracy_val = []\n",
        "best_model = type(model)(input_size, hidden_size, num_classes, norm_layer=norm_layer) # get a new instance\n",
        "#best_model = ConvNet(input_size, hidden_size, num_classes, norm_layer=norm_layer)\n",
        "for epoch in range(num_epochs):\n",
        "\n",
        "    model.train()\n",
        "\n",
        "    loss_iter = 0\n",
        "    for i, (images, labels) in enumerate(train_loader):\n",
        "        # Move tensors to the configured device\n",
        "        images = images.to(device)\n",
        "        labels = labels.to(device)\n",
        "\n",
        "        # Forward pass\n",
        "        outputs = model(images)\n",
        "        loss = criterion(outputs, labels)\n",
        "\n",
        "        # Backward and optimize\n",
        "        optimizer.zero_grad()\n",
        "        loss.backward()\n",
        "        optimizer.step()\n",
        "\n",
        "        loss_iter += loss.item()\n",
        "        \n",
        "        if (i+1) % 100 == 0:\n",
        "            print ('Epoch [{}/{}], Step [{}/{}], Loss: {:.4f}'\n",
        "                   .format(epoch+1, num_epochs, i+1, total_step, loss.item()))\n",
        "            \n",
        "    loss_train.append(loss_iter/(len(train_loader)*batch_size))\n",
        "\n",
        "    \n",
        "    # Code to update the lr\n",
        "    lr *= learning_rate_decay\n",
        "    update_lr(optimizer, lr)\n",
        "    \n",
        "        \n",
        "    model.eval()\n",
        "    with torch.no_grad():\n",
        "        correct = 0\n",
        "        total = 0\n",
        "        loss_iter = 0\n",
        "        for images, labels in val_loader:\n",
        "            images = images.to(device)\n",
        "            labels = labels.to(device)\n",
        "            \n",
        "            outputs = model(images)\n",
        "            _, predicted = torch.max(outputs.data, 1)\n",
        "            \n",
        "            total += labels.size(0)\n",
        "            correct += (predicted == labels).sum().item()\n",
        "            \n",
        "            loss = criterion(outputs, labels)\n",
        "            loss_iter += loss.item()\n",
        "        \n",
        "        loss_val.append(loss_iter/(len(val_loader)*batch_size))\n",
        "\n",
        "        accuracy = 100 * correct / total\n",
        "        accuracy_val.append(accuracy)\n",
        "        print('Validation accuracy is: {} %'.format(accuracy))\n",
        "        #################################################################################\n",
        "        # TODO: Q2.b Implement the early stopping mechanism to save the model which has #\n",
        "        # the model with the best validation accuracy so-far (use best_model).          #\n",
        "        #################################################################################\n",
        "\n",
        "        # *****START OF YOUR CODE (DO NOT DELETE/MODIFY THIS LINE)*****\n",
        "\n",
        "        \n",
        "\n",
        "        # *****END OF YOUR CODE (DO NOT DELETE/MODIFY THIS LINE)*****\n"
      ],
      "id": "oFagpFI9M50X",
      "execution_count": null,
      "outputs": [
        {
          "name": "stdout",
          "output_type": "stream",
          "text": [
            "Epoch [1/40], Step [100/245], Loss: 1.5392\n",
            "Epoch [1/40], Step [200/245], Loss: 1.3199\n",
            "Validation accuracy is: 44.3 %\n",
            "Epoch [2/40], Step [100/245], Loss: 1.3189\n",
            "Epoch [2/40], Step [200/245], Loss: 1.1952\n",
            "Validation accuracy is: 49.7 %\n",
            "Epoch [3/40], Step [100/245], Loss: 0.9307\n",
            "Epoch [3/40], Step [200/245], Loss: 1.0659\n",
            "Validation accuracy is: 61.3 %\n",
            "Epoch [4/40], Step [100/245], Loss: 0.9974\n",
            "Epoch [4/40], Step [200/245], Loss: 0.8006\n",
            "Validation accuracy is: 64.6 %\n",
            "Epoch [5/40], Step [100/245], Loss: 0.8745\n",
            "Epoch [5/40], Step [200/245], Loss: 0.8401\n",
            "Validation accuracy is: 68.4 %\n",
            "Epoch [6/40], Step [100/245], Loss: 0.6380\n",
            "Epoch [6/40], Step [200/245], Loss: 0.8212\n",
            "Validation accuracy is: 71.5 %\n",
            "Epoch [7/40], Step [100/245], Loss: 0.6912\n",
            "Epoch [7/40], Step [200/245], Loss: 0.7718\n",
            "Validation accuracy is: 72.6 %\n",
            "Epoch [8/40], Step [100/245], Loss: 0.8034\n",
            "Epoch [8/40], Step [200/245], Loss: 0.6701\n",
            "Validation accuracy is: 70.7 %\n",
            "Epoch [9/40], Step [100/245], Loss: 0.7185\n",
            "Epoch [9/40], Step [200/245], Loss: 0.7931\n",
            "Validation accuracy is: 75.5 %\n",
            "Epoch [10/40], Step [100/245], Loss: 0.5663\n",
            "Epoch [10/40], Step [200/245], Loss: 0.7649\n",
            "Validation accuracy is: 73.8 %\n",
            "Epoch [11/40], Step [100/245], Loss: 0.6179\n",
            "Epoch [11/40], Step [200/245], Loss: 0.7010\n",
            "Validation accuracy is: 75.9 %\n",
            "Epoch [12/40], Step [100/245], Loss: 0.6638\n",
            "Epoch [12/40], Step [200/245], Loss: 0.4420\n",
            "Validation accuracy is: 74.1 %\n",
            "Epoch [13/40], Step [100/245], Loss: 0.5644\n",
            "Epoch [13/40], Step [200/245], Loss: 0.4653\n",
            "Validation accuracy is: 75.5 %\n",
            "Epoch [14/40], Step [100/245], Loss: 0.5852\n",
            "Epoch [14/40], Step [200/245], Loss: 0.5386\n",
            "Validation accuracy is: 74.5 %\n",
            "Epoch [15/40], Step [100/245], Loss: 0.4845\n",
            "Epoch [15/40], Step [200/245], Loss: 0.5622\n",
            "Validation accuracy is: 79.3 %\n",
            "Epoch [16/40], Step [100/245], Loss: 0.5580\n",
            "Epoch [16/40], Step [200/245], Loss: 0.6051\n",
            "Validation accuracy is: 80.6 %\n",
            "Epoch [17/40], Step [100/245], Loss: 0.4666\n",
            "Epoch [17/40], Step [200/245], Loss: 0.4732\n",
            "Validation accuracy is: 77.4 %\n",
            "Epoch [18/40], Step [100/245], Loss: 0.4507\n",
            "Epoch [18/40], Step [200/245], Loss: 0.4083\n",
            "Validation accuracy is: 79.9 %\n",
            "Epoch [19/40], Step [100/245], Loss: 0.4549\n",
            "Epoch [19/40], Step [200/245], Loss: 0.3888\n",
            "Validation accuracy is: 80.2 %\n",
            "Epoch [20/40], Step [100/245], Loss: 0.4626\n",
            "Epoch [20/40], Step [200/245], Loss: 0.3901\n",
            "Validation accuracy is: 79.8 %\n",
            "Epoch [21/40], Step [100/245], Loss: 0.4974\n",
            "Epoch [21/40], Step [200/245], Loss: 0.4311\n",
            "Validation accuracy is: 80.9 %\n",
            "Epoch [22/40], Step [100/245], Loss: 0.4644\n",
            "Epoch [22/40], Step [200/245], Loss: 0.4558\n",
            "Validation accuracy is: 81.0 %\n",
            "Epoch [23/40], Step [100/245], Loss: 0.3579\n",
            "Epoch [23/40], Step [200/245], Loss: 0.3086\n",
            "Validation accuracy is: 78.0 %\n",
            "Epoch [24/40], Step [100/245], Loss: 0.3211\n",
            "Epoch [24/40], Step [200/245], Loss: 0.4060\n",
            "Validation accuracy is: 81.9 %\n",
            "Epoch [25/40], Step [100/245], Loss: 0.4658\n",
            "Epoch [25/40], Step [200/245], Loss: 0.3969\n",
            "Validation accuracy is: 83.2 %\n",
            "Epoch [26/40], Step [100/245], Loss: 0.3495\n",
            "Epoch [26/40], Step [200/245], Loss: 0.4132\n",
            "Validation accuracy is: 84.0 %\n",
            "Epoch [27/40], Step [100/245], Loss: 0.3755\n",
            "Epoch [27/40], Step [200/245], Loss: 0.4535\n",
            "Validation accuracy is: 80.6 %\n",
            "Epoch [28/40], Step [100/245], Loss: 0.3521\n",
            "Epoch [28/40], Step [200/245], Loss: 0.3962\n",
            "Validation accuracy is: 82.7 %\n",
            "Epoch [29/40], Step [100/245], Loss: 0.3026\n",
            "Epoch [29/40], Step [200/245], Loss: 0.3351\n",
            "Validation accuracy is: 82.0 %\n",
            "Epoch [30/40], Step [100/245], Loss: 0.2699\n",
            "Epoch [30/40], Step [200/245], Loss: 0.3009\n",
            "Validation accuracy is: 83.1 %\n",
            "Epoch [31/40], Step [100/245], Loss: 0.2944\n",
            "Epoch [31/40], Step [200/245], Loss: 0.4201\n",
            "Validation accuracy is: 83.5 %\n",
            "Epoch [32/40], Step [100/245], Loss: 0.2408\n",
            "Epoch [32/40], Step [200/245], Loss: 0.3877\n",
            "Validation accuracy is: 81.5 %\n",
            "Epoch [33/40], Step [100/245], Loss: 0.3492\n",
            "Epoch [33/40], Step [200/245], Loss: 0.3861\n",
            "Validation accuracy is: 82.9 %\n",
            "Epoch [34/40], Step [100/245], Loss: 0.2458\n",
            "Epoch [34/40], Step [200/245], Loss: 0.3391\n",
            "Validation accuracy is: 82.2 %\n",
            "Epoch [35/40], Step [100/245], Loss: 0.3849\n",
            "Epoch [35/40], Step [200/245], Loss: 0.2733\n",
            "Validation accuracy is: 84.5 %\n",
            "Epoch [36/40], Step [100/245], Loss: 0.2272\n",
            "Epoch [36/40], Step [200/245], Loss: 0.3793\n",
            "Validation accuracy is: 86.1 %\n",
            "Epoch [37/40], Step [100/245], Loss: 0.3361\n",
            "Epoch [37/40], Step [200/245], Loss: 0.3115\n",
            "Validation accuracy is: 83.4 %\n",
            "Epoch [38/40], Step [100/245], Loss: 0.3910\n",
            "Epoch [38/40], Step [200/245], Loss: 0.2910\n",
            "Validation accuracy is: 83.6 %\n",
            "Epoch [39/40], Step [100/245], Loss: 0.2310\n",
            "Epoch [39/40], Step [200/245], Loss: 0.2614\n",
            "Validation accuracy is: 84.0 %\n",
            "Epoch [40/40], Step [100/245], Loss: 0.2752\n",
            "Epoch [40/40], Step [200/245], Loss: 0.2269\n",
            "Validation accuracy is: 83.8 %\n"
          ]
        }
      ]
    },
    {
      "cell_type": "code",
      "metadata": {
        "colab": {
          "base_uri": "https://localhost:8080/"
        },
        "id": "o3foGtE4fdNS",
        "outputId": "3d5b6530-1c74-4518-f56e-7a148217f5ec"
      },
      "source": [
        "np.max(accuracy_val)"
      ],
      "id": "o3foGtE4fdNS",
      "execution_count": null,
      "outputs": [
        {
          "data": {
            "text/plain": [
              "86.1"
            ]
          },
          "execution_count": 131,
          "metadata": {},
          "output_type": "execute_result"
        }
      ]
    },
    {
      "cell_type": "code",
      "metadata": {
        "colab": {
          "base_uri": "https://localhost:8080/",
          "height": 513
        },
        "id": "6Av8ITZHsmku",
        "outputId": "4b1a199f-9a0e-4376-f31c-c765d1aba754"
      },
      "source": [
        "# Test the model\n",
        "# In test phase, we don't need to compute gradients (for memory efficiency)\n",
        "model.eval()\n",
        "\n",
        "\n",
        "\n",
        "plt.figure(2)\n",
        "plt.plot(loss_train, 'r', label='Train loss')\n",
        "plt.plot(loss_val, 'g', label='Val loss')\n",
        "plt.legend()\n",
        "plt.show()\n",
        "\n",
        "plt.figure(3)\n",
        "plt.plot(accuracy_val, 'r', label='Val accuracy')\n",
        "plt.legend()\n",
        "plt.show()"
      ],
      "id": "6Av8ITZHsmku",
      "execution_count": null,
      "outputs": [
        {
          "data": {
            "image/png": "[encoded data removed]",
            "text/plain": [
              "<Figure size 432x288 with 1 Axes>"
            ]
          },
          "metadata": {},
          "output_type": "display_data"
        },
        {
          "data": {
            "image/png": "[encoded data removed]",
            "text/plain": [
              "<Figure size 432x288 with 1 Axes>"
            ]
          },
          "metadata": {},
          "output_type": "display_data"
        }
      ]
    },
    {
      "cell_type": "markdown",
      "metadata": {
        "id": "j228aU6usIMu"
      },
      "source": [
        "data_aug_transforms += [transforms.RandomCrop(32, padding=4),\n",
        "                        transforms.RandomHorizontalFlip(),\n",
        "                        transforms.RandomVerticalFlip(),\n",
        "                        transforms.RandomPerspective(distortion_scale=0.5, p=0.5, interpolation=3, fill=0),\n",
        "                        transforms.RandomAffine(0, translate=[0.2,0.2]),\n",
        "                        transforms.RandomRotation(degrees=(-180,180)),\n",
        "                        transforms.ColorJitter(brightness=0.1, contrast=0.05, saturation=0.1, hue=0.05)]\n",
        "\n",
        "Highest validation accuracy : 58.8%\n"
      ],
      "id": "j228aU6usIMu"
    },
    {
      "cell_type": "markdown",
      "metadata": {
        "id": "t-4FDaeKuk8T"
      },
      "source": [
        "data_aug_transforms += [transforms.RandomHorizontalFlip(),\n",
        "                        transforms.RandomPerspective(distortion_scale=0.5, p=0.5, interpolation=3, fill=0),\n",
        "                        transforms.RandomAffine(0, translate=[0.2,0.2]),\n",
        "                        transforms.RandomRotation(degrees=(-180,180)),\n",
        "                        transforms.ColorJitter(brightness=0.1, contrast=0.05, saturation=0.1, hue=0.05)]\n",
        "\n",
        "Highest Validation accuracy : 62.4"
      ],
      "id": "t-4FDaeKuk8T"
    },
    {
      "cell_type": "markdown",
      "metadata": {
        "id": "qhKLnAtYADxm"
      },
      "source": [
        "data_aug_transforms += [transforms.RandomHorizontalFlip(0.5),\n",
        "                        transforms.RandomPerspective(distortion_scale=0.5, p=0.5, interpolation=3, fill=0),\n",
        "                        transforms.RandomAffine(0, translate=[0.2,0.2]),\n",
        "                        transforms.ColorJitter(brightness=0.1, contrast=0.05, saturation=0.1, hue=0.05)]\n",
        "\n",
        "Highest Validation accuarcy: 84.3"
      ],
      "id": "qhKLnAtYADxm"
    },
    {
      "cell_type": "markdown",
      "metadata": {
        "id": "ftZlvF0HJJoS"
      },
      "source": [
        "data_aug_transforms += [transforms.RandomHorizontalFlip(0.5),\n",
        "                        transforms.RandomPerspective(distortion_scale=0.5, p=0.5, interpolation=3, fill=0),\n",
        "                        transforms.ColorJitter(brightness=0.1, contrast=0.05, saturation=0.1, hue=0.05)]\n",
        "\n",
        "Highest validation accuracy : 86.1"
      ],
      "id": "ftZlvF0HJJoS"
    },
    {
      "cell_type": "markdown",
      "metadata": {
        "id": "RZobzEM9Jmg9"
      },
      "source": [
        "Question 3 b"
      ],
      "id": "RZobzEM9Jmg9"
    },
    {
      "cell_type": "code",
      "metadata": {
        "colab": {
          "base_uri": "https://localhost:8080/"
        },
        "id": "f9YIEBp3Lhb7",
        "outputId": "fc2f2447-3905-409e-e4e4-8355d145f036"
      },
      "source": [
        "#--------------------------------\n",
        "# Hyper-parameters\n",
        "#--------------------------------\n",
        "input_size = 3\n",
        "num_classes = 10\n",
        "hidden_size = [128, 512, 512, 512, 512]\n",
        "num_epochs = 30\n",
        "batch_size = 200\n",
        "learning_rate = 2e-3\n",
        "learning_rate_decay = 0.95\n",
        "reg=0.001\n",
        "num_training= 49000\n",
        "num_validation =1000\n",
        "norm_layer = None #norm_layer = 'BN'\n",
        "print(hidden_size)\n",
        "\n",
        "p = 0.9"
      ],
      "id": "f9YIEBp3Lhb7",
      "execution_count": null,
      "outputs": [
        {
          "name": "stdout",
          "output_type": "stream",
          "text": [
            "[128, 512, 512, 512, 512]\n"
          ]
        }
      ]
    },
    {
      "cell_type": "code",
      "metadata": {
        "colab": {
          "base_uri": "https://localhost:8080/"
        },
        "id": "asYcBrI1JqQY",
        "outputId": "6179cfae-9ea1-43d0-b663-7b25d401533a"
      },
      "source": [
        "#-------------------------------------------------\n",
        "# Load the CIFAR-10 dataset\n",
        "#-------------------------------------------------\n",
        "#################################################################################\n",
        "# TODO: Q3.a Choose the right data augmentation transforms with the right       #\n",
        "# hyper-parameters and put them in the data_aug_transforms variable             #\n",
        "#################################################################################\n",
        "data_aug_transforms = []\n",
        "# *****START OF YOUR CODE (DO NOT DELETE/MODIFY THIS LINE)*****\n",
        "\n",
        "# *****END OF YOUR CODE (DO NOT DELETE/MODIFY THIS LINE)*****\n",
        "norm_transform = transforms.Compose(data_aug_transforms+[transforms.ToTensor(),\n",
        "                                     transforms.Normalize((0.5, 0.5, 0.5), (0.5, 0.5, 0.5))\n",
        "                                     ])\n",
        "test_transform = transforms.Compose([transforms.ToTensor(),\n",
        "                                     transforms.Normalize((0.5, 0.5, 0.5), (0.5, 0.5, 0.5))\n",
        "                                     ])\n",
        "cifar_dataset = torchvision.datasets.CIFAR10(root='datasets/',\n",
        "                                           train=True,\n",
        "                                           transform=norm_transform,\n",
        "                                           download=True)\n",
        "\n",
        "test_dataset = torchvision.datasets.CIFAR10(root='datasets/',\n",
        "                                          train=False,\n",
        "                                          transform=test_transform\n",
        "                                          )"
      ],
      "id": "asYcBrI1JqQY",
      "execution_count": null,
      "outputs": [
        {
          "name": "stdout",
          "output_type": "stream",
          "text": [
            "Files already downloaded and verified\n"
          ]
        }
      ]
    },
    {
      "cell_type": "code",
      "metadata": {
        "id": "9BC0OybIJqCc"
      },
      "source": [
        "#-------------------------------------------------\n",
        "# Prepare the training and validation splits\n",
        "#-------------------------------------------------\n",
        "mask = list(range(num_training))\n",
        "train_dataset = torch.utils.data.Subset(cifar_dataset, mask)\n",
        "mask = list(range(num_training, num_training + num_validation))\n",
        "val_dataset = torch.utils.data.Subset(cifar_dataset, mask)\n",
        "\n",
        "#-------------------------------------------------\n",
        "# Data loader\n",
        "#-------------------------------------------------\n",
        "train_loader = torch.utils.data.DataLoader(dataset=train_dataset,\n",
        "                                           batch_size=batch_size,\n",
        "                                           shuffle=True)\n",
        "\n",
        "val_loader = torch.utils.data.DataLoader(dataset=val_dataset,\n",
        "                                           batch_size=batch_size,\n",
        "                                           shuffle=False)\n",
        "\n",
        "test_loader = torch.utils.data.DataLoader(dataset=test_dataset,\n",
        "                                          batch_size=batch_size,\n",
        "                                          shuffle=False)\n"
      ],
      "id": "9BC0OybIJqCc",
      "execution_count": null,
      "outputs": []
    },
    {
      "cell_type": "code",
      "metadata": {
        "id": "UtGzPAy3sR7k"
      },
      "source": [
        "#-------------------------------------------------\n",
        "# Convolutional neural network (Q1.a and Q2.a)\n",
        "# Set norm_layer for different networks whether using batch normalization\n",
        "#-------------------------------------------------\n",
        "class ConvNet(nn.Module):\n",
        "    def __init__(self, input_size, hidden_layers, num_classes, norm_layer=None):\n",
        "        super(ConvNet, self).__init__()\n",
        "        #################################################################################\n",
        "        # TODO: Initialize the modules required to implement the convolutional layer    #\n",
        "        # described in the exercise.                                                    #\n",
        "        # For Q1.a make use of conv2d and relu layers from the torch.nn module.         #\n",
        "        # For Q2.a make use of BatchNorm2d layer from the torch.nn module.              #\n",
        "        # For Q3.b Use Dropout layer from the torch.nn module.                          #\n",
        "        #################################################################################\n",
        "        layers = []\n",
        "        # *****START OF YOUR CODE (DO NOT DELETE/MODIFY THIS LINE)*****\n",
        "        \n",
        "            \n",
        "        # Convolutional layer block 1\n",
        "\n",
        "        layers.append(nn.Conv2d(input_size, hidden_size[0], kernel_size = 3, stride = 1, padding =1)),\n",
        "        layers.append(nn.Dropout(p)),\n",
        "        layers.append(nn.BatchNorm2d(hidden_size[0])),\n",
        "        layers.append(nn.MaxPool2d(kernel_size = 2, stride = 2)),\n",
        "        layers.append(nn.ReLU()),\n",
        "\n",
        "        # Convolution layer block 2 \n",
        "\n",
        "        layers.append(nn.Conv2d(hidden_size[0], hidden_size[1], kernel_size = 3, stride = 1, padding =1)),\n",
        "        layers.append(nn.Dropout(p)),\n",
        "        layers.append(nn.BatchNorm2d(hidden_size[1])),\n",
        "        layers.append(nn.MaxPool2d(kernel_size = 2, stride = 2)),\n",
        "        layers.append(nn.ReLU()),\n",
        "\n",
        "        # Convolution layer block 3 \n",
        "\n",
        "        layers.append(nn.Conv2d(hidden_size[1], hidden_size[2], kernel_size = 3, stride = 1, padding =1)),\n",
        "        layers.append(nn.Dropout(p)),\n",
        "        layers.append(nn.BatchNorm2d(hidden_size[2])),\n",
        "        layers.append(nn.MaxPool2d(kernel_size = 2, stride = 2)),\n",
        "        layers.append(nn.ReLU()),\n",
        "\n",
        "        # Convolution layer block 4 \n",
        "\n",
        "        layers.append(nn.Conv2d(hidden_size[2], hidden_size[3], kernel_size = 3, stride = 1, padding =1)),\n",
        "        layers.append(nn.Dropout(p)),\n",
        "        layers.append(nn.BatchNorm2d(hidden_size[3])),\n",
        "        layers.append(nn.MaxPool2d(kernel_size = 2, stride = 2)),\n",
        "        layers.append(nn.ReLU()),\n",
        "\n",
        "        # Convolution layer block 5\n",
        "\n",
        "        layers.append(nn.Conv2d(hidden_size[3], hidden_size[4], kernel_size = 3, stride = 1, padding =1)),\n",
        "        layers.append(nn.Dropout(p)),\n",
        "        layers.append(nn.BatchNorm2d(hidden_size[4])),\n",
        "        layers.append(nn.MaxPool2d(kernel_size = 2, stride = 2))\n",
        "        layers.append(nn.ReLU()),\n",
        "\n",
        "        self.conv_layer = nn.Sequential(*layers)\n",
        "        \n",
        "        self.Dense = nn.Sequential(\n",
        "            nn.Linear(hidden_size[4], num_classes)\n",
        "        )\n",
        "\n",
        "        # *****END OF YOUR CODE (DO NOT DELETE/MODIFY THIS LINE)*****\n",
        "\n",
        "    def forward(self, x):\n",
        "        #################################################################################\n",
        "        # TODO: Implement the forward pass computations                                 #\n",
        "        #################################################################################\n",
        "        # *****START OF YOUR CODE (DO NOT DELETE/MODIFY THIS LINE)*****\n",
        "        \n",
        "        # conv layers\n",
        "        x = self.conv_layer(x)\n",
        "        \n",
        "        # flatten\n",
        "        x = x.view(x.size(0), -1)\n",
        "        \n",
        "        # fully connected layer\n",
        "        out = self.Dense(x)\n",
        "\n",
        "\n",
        "        # *****END OF YOUR CODE (DO NOT DELETE/MODIFY THIS LINE)*****\n",
        "        return out\n"
      ],
      "id": "UtGzPAy3sR7k",
      "execution_count": null,
      "outputs": []
    },
    {
      "cell_type": "code",
      "metadata": {
        "colab": {
          "base_uri": "https://localhost:8080/"
        },
        "id": "frCY8yrXKNvI",
        "outputId": "98dda7e3-4cd5-407a-abde-8596bd6a9f09"
      },
      "source": [
        "#======================================================================================\n",
        "# Q1.a: Implementing convolutional neural net in PyTorch\n",
        "#======================================================================================\n",
        "# In this question we will implement a convolutional neural networks using the PyTorch\n",
        "# library.  Please complete the code for the ConvNet class evaluating the model\n",
        "#--------------------------------------------------------------------------------------\n",
        "model = ConvNet(input_size, hidden_size, num_classes, norm_layer=norm_layer).to(device)\n",
        "# Q2.a - Initialize the model with correct batch norm layer\n",
        "\n",
        "model.apply(weights_init)\n",
        "# Print the model\n",
        "print(model)"
      ],
      "id": "frCY8yrXKNvI",
      "execution_count": null,
      "outputs": [
        {
          "name": "stdout",
          "output_type": "stream",
          "text": [
            "ConvNet(\n",
            "  (conv_layer): Sequential(\n",
            "    (0): Conv2d(3, 128, kernel_size=(3, 3), stride=(1, 1), padding=(1, 1))\n",
            "    (1): Dropout(p=0.9, inplace=False)\n",
            "    (2): BatchNorm2d(128, eps=1e-05, momentum=0.1, affine=True, track_running_stats=True)\n",
            "    (3): MaxPool2d(kernel_size=2, stride=2, padding=0, dilation=1, ceil_mode=False)\n",
            "    (4): ReLU()\n",
            "    (5): Conv2d(128, 512, kernel_size=(3, 3), stride=(1, 1), padding=(1, 1))\n",
            "    (6): Dropout(p=0.9, inplace=False)\n",
            "    (7): BatchNorm2d(512, eps=1e-05, momentum=0.1, affine=True, track_running_stats=True)\n",
            "    (8): MaxPool2d(kernel_size=2, stride=2, padding=0, dilation=1, ceil_mode=False)\n",
            "    (9): ReLU()\n",
            "    (10): Conv2d(512, 512, kernel_size=(3, 3), stride=(1, 1), padding=(1, 1))\n",
            "    (11): Dropout(p=0.9, inplace=False)\n",
            "    (12): BatchNorm2d(512, eps=1e-05, momentum=0.1, affine=True, track_running_stats=True)\n",
            "    (13): MaxPool2d(kernel_size=2, stride=2, padding=0, dilation=1, ceil_mode=False)\n",
            "    (14): ReLU()\n",
            "    (15): Conv2d(512, 512, kernel_size=(3, 3), stride=(1, 1), padding=(1, 1))\n",
            "    (16): Dropout(p=0.9, inplace=False)\n",
            "    (17): BatchNorm2d(512, eps=1e-05, momentum=0.1, affine=True, track_running_stats=True)\n",
            "    (18): MaxPool2d(kernel_size=2, stride=2, padding=0, dilation=1, ceil_mode=False)\n",
            "    (19): ReLU()\n",
            "    (20): Conv2d(512, 512, kernel_size=(3, 3), stride=(1, 1), padding=(1, 1))\n",
            "    (21): Dropout(p=0.9, inplace=False)\n",
            "    (22): BatchNorm2d(512, eps=1e-05, momentum=0.1, affine=True, track_running_stats=True)\n",
            "    (23): MaxPool2d(kernel_size=2, stride=2, padding=0, dilation=1, ceil_mode=False)\n",
            "    (24): ReLU()\n",
            "  )\n",
            "  (Dense): Sequential(\n",
            "    (0): Linear(in_features=512, out_features=10, bias=True)\n",
            "  )\n",
            ")\n"
          ]
        }
      ]
    },
    {
      "cell_type": "code",
      "metadata": {
        "colab": {
          "base_uri": "https://localhost:8080/"
        },
        "id": "VyRMMF9yKcW2",
        "outputId": "8859d6c0-6631-419e-f45d-36c7ed927317"
      },
      "source": [
        "# Loss and optimizer\n",
        "criterion = nn.CrossEntropyLoss()\n",
        "optimizer = torch.optim.Adam(model.parameters(), lr=learning_rate, weight_decay=reg)\n",
        "\n",
        "# Train the model\n",
        "lr = learning_rate\n",
        "total_step = len(train_loader)\n",
        "loss_train = []\n",
        "loss_val = []\n",
        "best_accuracy = None\n",
        "accuracy_val = []\n",
        "best_model = type(model)(input_size, hidden_size, num_classes, norm_layer=norm_layer) # get a new instance\n",
        "#best_model = ConvNet(input_size, hidden_size, num_classes, norm_layer=norm_layer)\n",
        "for epoch in range(num_epochs):\n",
        "\n",
        "    model.train()\n",
        "\n",
        "    loss_iter = 0\n",
        "    for i, (images, labels) in enumerate(train_loader):\n",
        "        # Move tensors to the configured device\n",
        "        images = images.to(device)\n",
        "        labels = labels.to(device)\n",
        "\n",
        "        # Forward pass\n",
        "        outputs = model(images)\n",
        "        loss = criterion(outputs, labels)\n",
        "\n",
        "        # Backward and optimize\n",
        "        optimizer.zero_grad()\n",
        "        loss.backward()\n",
        "        optimizer.step()\n",
        "\n",
        "        loss_iter += loss.item()\n",
        "        \n",
        "        if (i+1) % 100 == 0:\n",
        "            print ('Epoch [{}/{}], Step [{}/{}], Loss: {:.4f}'\n",
        "                   .format(epoch+1, num_epochs, i+1, total_step, loss.item()))\n",
        "            \n",
        "    loss_train.append(loss_iter/(len(train_loader)*batch_size))\n",
        "\n",
        "    \n",
        "    # Code to update the lr\n",
        "    lr *= learning_rate_decay\n",
        "    update_lr(optimizer, lr)\n",
        "    \n",
        "        \n",
        "    model.eval()\n",
        "    with torch.no_grad():\n",
        "        correct = 0\n",
        "        total = 0\n",
        "        loss_iter = 0\n",
        "        for images, labels in val_loader:\n",
        "            images = images.to(device)\n",
        "            labels = labels.to(device)\n",
        "            \n",
        "            outputs = model(images)\n",
        "            _, predicted = torch.max(outputs.data, 1)\n",
        "            \n",
        "            total += labels.size(0)\n",
        "            correct += (predicted == labels).sum().item()\n",
        "            \n",
        "            loss = criterion(outputs, labels)\n",
        "            loss_iter += loss.item()\n",
        "        \n",
        "        loss_val.append(loss_iter/(len(val_loader)*batch_size))\n",
        "\n",
        "        accuracy = 100 * correct / total\n",
        "        accuracy_val.append(accuracy)\n",
        "        print('Validation accuracy is: {} %'.format(accuracy))\n",
        "        #################################################################################\n",
        "        # TODO: Q2.b Implement the early stopping mechanism to save the model which has #\n",
        "        # the model with the best validation accuracy so-far (use best_model).          #\n",
        "        #################################################################################\n",
        "\n",
        "        # *****START OF YOUR CODE (DO NOT DELETE/MODIFY THIS LINE)*****\n",
        "\n",
        "        \n",
        "\n",
        "        # *****END OF YOUR CODE (DO NOT DELETE/MODIFY THIS LINE)*****\n"
      ],
      "id": "VyRMMF9yKcW2",
      "execution_count": null,
      "outputs": [
        {
          "name": "stdout",
          "output_type": "stream",
          "text": [
            "Epoch [1/30], Step [100/245], Loss: 1.7920\n",
            "Epoch [1/30], Step [200/245], Loss: 1.6126\n",
            "Validation accuracy is: 10.2 %\n",
            "Epoch [2/30], Step [100/245], Loss: 1.6768\n",
            "Epoch [2/30], Step [200/245], Loss: 1.6867\n",
            "Validation accuracy is: 10.2 %\n",
            "Epoch [3/30], Step [100/245], Loss: 1.6843\n",
            "Epoch [3/30], Step [200/245], Loss: 1.5988\n",
            "Validation accuracy is: 10.2 %\n",
            "Epoch [4/30], Step [100/245], Loss: 1.5413\n",
            "Epoch [4/30], Step [200/245], Loss: 1.4732\n",
            "Validation accuracy is: 10.2 %\n",
            "Epoch [5/30], Step [100/245], Loss: 1.3786\n",
            "Epoch [5/30], Step [200/245], Loss: 1.5100\n",
            "Validation accuracy is: 11.2 %\n",
            "Epoch [6/30], Step [100/245], Loss: 1.4941\n",
            "Epoch [6/30], Step [200/245], Loss: 1.4867\n",
            "Validation accuracy is: 12.7 %\n",
            "Epoch [7/30], Step [100/245], Loss: 1.4784\n",
            "Epoch [7/30], Step [200/245], Loss: 1.4266\n",
            "Validation accuracy is: 11.2 %\n",
            "Epoch [8/30], Step [100/245], Loss: 1.4945\n",
            "Epoch [8/30], Step [200/245], Loss: 1.5447\n",
            "Validation accuracy is: 11.2 %\n",
            "Epoch [9/30], Step [100/245], Loss: 1.3335\n",
            "Epoch [9/30], Step [200/245], Loss: 1.4134\n",
            "Validation accuracy is: 11.2 %\n",
            "Epoch [10/30], Step [100/245], Loss: 1.4457\n",
            "Epoch [10/30], Step [200/245], Loss: 1.4224\n",
            "Validation accuracy is: 11.2 %\n",
            "Epoch [11/30], Step [100/245], Loss: 1.3698\n",
            "Epoch [11/30], Step [200/245], Loss: 1.3500\n",
            "Validation accuracy is: 11.2 %\n",
            "Epoch [12/30], Step [100/245], Loss: 1.2929\n",
            "Epoch [12/30], Step [200/245], Loss: 1.3497\n",
            "Validation accuracy is: 11.2 %\n",
            "Epoch [13/30], Step [100/245], Loss: 1.3761\n",
            "Epoch [13/30], Step [200/245], Loss: 1.3296\n",
            "Validation accuracy is: 11.2 %\n",
            "Epoch [14/30], Step [100/245], Loss: 1.4064\n",
            "Epoch [14/30], Step [200/245], Loss: 1.2045\n",
            "Validation accuracy is: 11.2 %\n",
            "Epoch [15/30], Step [100/245], Loss: 1.2320\n",
            "Epoch [15/30], Step [200/245], Loss: 1.4199\n",
            "Validation accuracy is: 11.2 %\n",
            "Epoch [16/30], Step [100/245], Loss: 1.2597\n",
            "Epoch [16/30], Step [200/245], Loss: 1.2520\n",
            "Validation accuracy is: 7.9 %\n",
            "Epoch [17/30], Step [100/245], Loss: 1.1945\n",
            "Epoch [17/30], Step [200/245], Loss: 1.2862\n",
            "Validation accuracy is: 11.2 %\n",
            "Epoch [18/30], Step [100/245], Loss: 1.2283\n",
            "Epoch [18/30], Step [200/245], Loss: 1.1870\n",
            "Validation accuracy is: 11.2 %\n",
            "Epoch [19/30], Step [100/245], Loss: 1.1301\n",
            "Epoch [19/30], Step [200/245], Loss: 1.2668\n",
            "Validation accuracy is: 7.9 %\n",
            "Epoch [20/30], Step [100/245], Loss: 1.3100\n",
            "Epoch [20/30], Step [200/245], Loss: 1.1821\n",
            "Validation accuracy is: 11.2 %\n",
            "Epoch [21/30], Step [100/245], Loss: 1.2002\n",
            "Epoch [21/30], Step [200/245], Loss: 1.3331\n",
            "Validation accuracy is: 11.2 %\n",
            "Epoch [22/30], Step [100/245], Loss: 1.2528\n",
            "Epoch [22/30], Step [200/245], Loss: 1.1532\n",
            "Validation accuracy is: 11.2 %\n",
            "Epoch [23/30], Step [100/245], Loss: 1.1296\n",
            "Epoch [23/30], Step [200/245], Loss: 1.2119\n",
            "Validation accuracy is: 11.2 %\n",
            "Epoch [24/30], Step [100/245], Loss: 1.1771\n",
            "Epoch [24/30], Step [200/245], Loss: 1.0839\n",
            "Validation accuracy is: 7.9 %\n",
            "Epoch [25/30], Step [100/245], Loss: 1.1629\n",
            "Epoch [25/30], Step [200/245], Loss: 1.1320\n",
            "Validation accuracy is: 11.2 %\n",
            "Epoch [26/30], Step [100/245], Loss: 1.1545\n",
            "Epoch [26/30], Step [200/245], Loss: 1.1975\n",
            "Validation accuracy is: 11.2 %\n",
            "Epoch [27/30], Step [100/245], Loss: 1.0413\n",
            "Epoch [27/30], Step [200/245], Loss: 1.2445\n",
            "Validation accuracy is: 11.2 %\n",
            "Epoch [28/30], Step [100/245], Loss: 1.1523\n",
            "Epoch [28/30], Step [200/245], Loss: 1.1454\n",
            "Validation accuracy is: 11.2 %\n",
            "Epoch [29/30], Step [100/245], Loss: 1.0991\n",
            "Epoch [29/30], Step [200/245], Loss: 1.1773\n",
            "Validation accuracy is: 11.2 %\n",
            "Epoch [30/30], Step [100/245], Loss: 1.1196\n",
            "Epoch [30/30], Step [200/245], Loss: 1.1285\n",
            "Validation accuracy is: 11.2 %\n"
          ]
        }
      ]
    },
    {
      "cell_type": "code",
      "metadata": {
        "id": "Ao_dgTMKEpve"
      },
      "source": [
        "loss_train_p9 = loss_train\n",
        "loss_val_p9 = loss_val\n",
        "val_acc_p9 = accuracy_val"
      ],
      "id": "Ao_dgTMKEpve",
      "execution_count": null,
      "outputs": []
    },
    {
      "cell_type": "code",
      "metadata": {
        "id": "hczuL60BT_9t"
      },
      "source": [
        "def saveList(myList,filename):\n",
        "    # the filename should mention the extension 'npy'\n",
        "    np.save(filename,myList)\n",
        "    print(\"Saved successfully!\")"
      ],
      "id": "hczuL60BT_9t",
      "execution_count": null,
      "outputs": []
    },
    {
      "cell_type": "code",
      "metadata": {
        "id": "2KzDoWJrT_64"
      },
      "source": [
        "def loadList(filename):\n",
        "    # the filename should mention the extension 'npy'\n",
        "    tempNumpyArray=np.load(filename)\n",
        "    return tempNumpyArray.tolist()"
      ],
      "id": "2KzDoWJrT_64",
      "execution_count": null,
      "outputs": []
    },
    {
      "cell_type": "code",
      "metadata": {
        "colab": {
          "base_uri": "https://localhost:8080/"
        },
        "id": "jP2IH5H1Th78",
        "outputId": "40097346-a0ee-44b2-ced5-cf271807585e"
      },
      "source": [
        "saveList(loss_train_p9, 'loss_train_p9.npy')\n",
        "saveList(loss_val_p9, 'loss_val_p9.npy')\n",
        "saveList(val_acc_p9, 'val_acc_p9.npy')  "
      ],
      "id": "jP2IH5H1Th78",
      "execution_count": null,
      "outputs": [
        {
          "name": "stdout",
          "output_type": "stream",
          "text": [
            "Saved successfully!\n",
            "Saved successfully!\n",
            "Saved successfully!\n"
          ]
        }
      ]
    },
    {
      "cell_type": "code",
      "metadata": {
        "id": "u6lZpV7xUUA-"
      },
      "source": [
        "loss_train_p1 = loadList('loss_train_p1.npy')\n",
        "loss_val_p1 = loadList('loss_val_p1.npy')\n",
        "val_acc_p1 = loadList('val_acc_p1.npy')"
      ],
      "id": "u6lZpV7xUUA-",
      "execution_count": null,
      "outputs": []
    },
    {
      "cell_type": "code",
      "metadata": {
        "id": "9LO_CZwcIT3K"
      },
      "source": [
        "loss_train_p2 = loadList('loss_train_p2.npy')\n",
        "loss_val_p2 = loadList('loss_val_p2.npy')\n",
        "val_acc_p2 = loadList('val_acc_p2.npy')"
      ],
      "id": "9LO_CZwcIT3K",
      "execution_count": null,
      "outputs": []
    },
    {
      "cell_type": "code",
      "metadata": {
        "id": "xl7QIL6NNImc"
      },
      "source": [
        "loss_train_p3 = loadList('loss_train_p3.npy')\n",
        "loss_val_p3 = loadList('loss_val_p3.npy')\n",
        "val_acc_p3 = loadList('val_acc_p3.npy')"
      ],
      "id": "xl7QIL6NNImc",
      "execution_count": null,
      "outputs": []
    },
    {
      "cell_type": "code",
      "metadata": {
        "id": "cSh9IYqyNIjr"
      },
      "source": [
        "loss_train_p4 = loadList('loss_train_p4.npy')\n",
        "loss_val_p4 = loadList('loss_val_p4.npy')\n",
        "val_acc_p4 = loadList('val_acc_p4.npy')"
      ],
      "id": "cSh9IYqyNIjr",
      "execution_count": null,
      "outputs": []
    },
    {
      "cell_type": "code",
      "metadata": {
        "id": "XgqqzKjEOEUF"
      },
      "source": [
        "loss_train_p5 = loadList('loss_train_p5.npy')\n",
        "loss_val_p5 = loadList('loss_val_p5.npy')\n",
        "val_acc_p5 = loadList('val_acc_p5.npy')"
      ],
      "id": "XgqqzKjEOEUF",
      "execution_count": null,
      "outputs": []
    },
    {
      "cell_type": "code",
      "metadata": {
        "id": "8qz-aGs7T64G"
      },
      "source": [
        "loss_train_p6 = loadList('loss_train_p6.npy')\n",
        "loss_val_p6 = loadList('loss_val_p6.npy')\n",
        "val_acc_p6 = loadList('val_acc_p6.npy')"
      ],
      "id": "8qz-aGs7T64G",
      "execution_count": null,
      "outputs": []
    },
    {
      "cell_type": "code",
      "metadata": {
        "id": "GOwH3D72Y6NK"
      },
      "source": [
        "loss_train_p7 = loadList('loss_train_p7.npy')\n",
        "loss_val_p7 = loadList('loss_val_p7.npy')\n",
        "val_acc_p7 = loadList('val_acc_p7.npy')"
      ],
      "id": "GOwH3D72Y6NK",
      "execution_count": null,
      "outputs": []
    },
    {
      "cell_type": "code",
      "metadata": {
        "id": "HRz_QQXzcr8X"
      },
      "source": [
        "loss_train_p8 = loadList('loss_train_p8.npy')\n",
        "loss_val_p8 = loadList('loss_val_p8.npy')\n",
        "val_acc_p8 = loadList('val_acc_p8.npy')"
      ],
      "id": "HRz_QQXzcr8X",
      "execution_count": null,
      "outputs": []
    },
    {
      "cell_type": "code",
      "metadata": {
        "id": "b3igEivAhfAc"
      },
      "source": [
        "loss_train_p9 = loadList('loss_train_p9.npy')\n",
        "loss_val_p9 = loadList('loss_val_p9.npy')\n",
        "val_acc_p9 = loadList('val_acc_p9.npy')"
      ],
      "id": "b3igEivAhfAc",
      "execution_count": null,
      "outputs": []
    },
    {
      "cell_type": "code",
      "metadata": {
        "colab": {
          "base_uri": "https://localhost:8080/",
          "height": 513
        },
        "id": "TqkGVNZ6OZDE",
        "outputId": "0b506dca-8796-4b64-ae12-0b58d66718ba"
      },
      "source": [
        "# Test the model\n",
        "# In test phase, we don't need to compute gradients (for memory efficiency)\n",
        "model.eval()\n",
        "\n",
        "\n",
        "\n",
        "plt.figure(2)\n",
        "plt.plot(loss_train, 'r', label='Train loss')\n",
        "plt.plot(loss_val, 'g', label='Val loss')\n",
        "plt.legend()\n",
        "plt.show()\n",
        "\n",
        "plt.figure(3)\n",
        "plt.plot(accuracy_val, 'r', label='Val accuracy')\n",
        "plt.legend()\n",
        "plt.show()"
      ],
      "id": "TqkGVNZ6OZDE",
      "execution_count": null,
      "outputs": [
        {
          "data": {
            "image/png": "[encoded data removed]",
            "text/plain": [
              "<Figure size 432x288 with 1 Axes>"
            ]
          },
          "metadata": {},
          "output_type": "display_data"
        },
        {
          "data": {
            "image/png": "[encoded data removed]",
            "text/plain": [
              "<Figure size 432x288 with 1 Axes>"
            ]
          },
          "metadata": {},
          "output_type": "display_data"
        }
      ]
    },
    {
      "cell_type": "code",
      "metadata": {
        "colab": {
          "base_uri": "https://localhost:8080/"
        },
        "id": "2ArdaTZuOaED",
        "outputId": "cab0240c-61f7-4028-a555-e969fe2c7014"
      },
      "source": [
        "#################################################################################\n",
        "# TODO: Q2.b Implement the early stopping mechanism to load the weights from the#\n",
        "# best model so far and perform testing with this model.                        #\n",
        "#################################################################################\n",
        "# *****START OF YOUR CODE (DO NOT DELETE/MODIFY THIS LINE)*****\n",
        "\n",
        "\n",
        "# *****END OF YOUR CODE (DO NOT DELETE/MODIFY THIS LINE)*****\n",
        "\n",
        "#Compute accuracy on the test set\n",
        "with torch.no_grad():\n",
        "    correct = 0\n",
        "    total = 0\n",
        "    for images, labels in test_loader:\n",
        "        images = images.to(device)\n",
        "        labels = labels.to(device)\n",
        "        outputs = model(images)\n",
        "        _, predicted = torch.max(outputs.data, 1)\n",
        "        total += labels.size(0)\n",
        "        correct += (predicted == labels).sum().item()\n",
        "        if total == 1000:\n",
        "            break\n",
        "\n",
        "    print('Accuracy of the network on the {} test images: {} %'.format(total, 100 * correct / total))\n",
        "\n"
      ],
      "id": "2ArdaTZuOaED",
      "execution_count": null,
      "outputs": [
        {
          "name": "stdout",
          "output_type": "stream",
          "text": [
            "Accuracy of the network on the 1000 test images: 10.3 %\n"
          ]
        }
      ]
    },
    {
      "cell_type": "markdown",
      "metadata": {
        "id": "fWT_6061O_MZ"
      },
      "source": [
        "p=0.1, test acc = 81.3%\\\n",
        "p=0.2, test acc = 75.4%\\\n",
        "p=0.3, test acc = 55.0%\\\n",
        "p=0.4, test acc = 18.8%\\\n",
        "p=0.5, test acc = 17.9%\\\n",
        "p=0.6, test acc = 9.0%\\\n",
        "p=0.7, test acc = 19.5%\\\n",
        "p=0.8, test acc = 10.3%\\\n",
        "p=0.8, test acc = 10.3%"
      ],
      "id": "fWT_6061O_MZ"
    },
    {
      "cell_type": "code",
      "metadata": {
        "colab": {
          "base_uri": "https://localhost:8080/",
          "height": 286
        },
        "id": "qP_S2Y8wO6MX",
        "outputId": "9fadcd42-04cb-47b8-db08-878993d129a6"
      },
      "source": [
        "plt.figure(2)\n",
        "plt.plot(loss_train_p1, color='green', label = 'p=0.1')\n",
        "plt.plot(loss_train_p2, color='red', label = 'p=0.2')\n",
        "plt.plot(loss_train_p3, color='blue', label = 'p=0.3')\n",
        "plt.plot(loss_train_p4, color='pink', label = 'p=0.4')\n",
        "plt.plot(loss_train_p5, color='violet', label = 'p=0.5')\n",
        "plt.plot(loss_train_p6, color='brown', label = 'p=0.6')\n",
        "plt.plot(loss_train_p7, color='magenta', label = 'p=0.7')\n",
        "plt.plot(loss_train_p8, color='cyan', label = 'p=0.8')\n",
        "plt.plot(loss_train_p9, color='black', label = 'p=0.9')\n",
        "plt.grid()\n",
        "plt.ylim(0, 0.016)\n",
        "plt.xlim(0,35)\n",
        "plt.legend()"
      ],
      "id": "qP_S2Y8wO6MX",
      "execution_count": null,
      "outputs": [
        {
          "data": {
            "text/plain": [
              "<matplotlib.legend.Legend at 0x7f2f405aa090>"
            ]
          },
          "execution_count": 48,
          "metadata": {},
          "output_type": "execute_result"
        },
        {
          "data": {
            "image/png": "[encoded data removed]",
            "text/plain": [
              "<Figure size 432x288 with 1 Axes>"
            ]
          },
          "metadata": {},
          "output_type": "display_data"
        }
      ]
    },
    {
      "cell_type": "code",
      "metadata": {
        "colab": {
          "base_uri": "https://localhost:8080/",
          "height": 282
        },
        "id": "ATx8N4YwSkiF",
        "outputId": "8b6ea578-a739-4163-f3bd-8d6e631e3c2c"
      },
      "source": [
        "plt.figure(3)\n",
        "plt.plot(loss_val_p1, color='green', label = 'p=0.1')\n",
        "plt.plot(loss_val_p2, color='red', label = 'p=0.2')\n",
        "plt.plot(loss_val_p3, color='blue', label = 'p=0.3')\n",
        "plt.plot(loss_val_p4, color='pink', label = 'p=0.4')\n",
        "plt.plot(loss_val_p5, color='violet', label = 'p=0.5')\n",
        "plt.plot(loss_val_p6, color='brown', label = 'p=0.6')\n",
        "plt.plot(loss_val_p7, color='magenta', label = 'p=0.7')\n",
        "plt.plot(loss_val_p8, color='cyan', label = 'p=0.8')\n",
        "plt.plot(loss_val_p9, color='black', label = 'p=0.9')\n",
        "plt.grid()\n",
        "plt.xlim(0,35)\n",
        "plt.legend(loc = \"upper right\")"
      ],
      "id": "ATx8N4YwSkiF",
      "execution_count": null,
      "outputs": [
        {
          "data": {
            "text/plain": [
              "<matplotlib.legend.Legend at 0x7f2f400c7890>"
            ]
          },
          "execution_count": 49,
          "metadata": {},
          "output_type": "execute_result"
        },
        {
          "data": {
            "image/png": "[encoded data removed]",
            "text/plain": [
              "<Figure size 432x288 with 1 Axes>"
            ]
          },
          "metadata": {},
          "output_type": "display_data"
        }
      ]
    },
    {
      "cell_type": "code",
      "metadata": {
        "colab": {
          "base_uri": "https://localhost:8080/",
          "height": 286
        },
        "id": "Er6Mj7bOTTOD",
        "outputId": "d27e4f99-b655-4247-9f57-d36970ca78ee"
      },
      "source": [
        "plt.figure(3)\n",
        "plt.plot(val_acc_p1, color='green', label = 'p=0.1')\n",
        "plt.plot(val_acc_p2, color='red', label = 'p=0.2')\n",
        "plt.plot(val_acc_p3, color='blue', label = 'p=0.3')\n",
        "plt.plot(val_acc_p4, color='pink', label = 'p=0.4')\n",
        "plt.plot(val_acc_p5, color='violet', label = 'p=0.5')\n",
        "plt.plot(val_acc_p6, color='brown', label = 'p=0.6')\n",
        "plt.plot(val_acc_p7, color='magenta', label = 'p=0.7')\n",
        "plt.plot(val_acc_p8, color='cyan', label = 'p=0.8')\n",
        "plt.plot(val_acc_p9, color='black', label = 'p=0.9')\n",
        "plt.ylim(0, 90)\n",
        "plt.xlim(0,35)\n",
        "plt.grid()\n",
        "plt.legend(loc = \"upper right\")"
      ],
      "id": "Er6Mj7bOTTOD",
      "execution_count": null,
      "outputs": [
        {
          "data": {
            "text/plain": [
              "<matplotlib.legend.Legend at 0x7f2f2e7ee7d0>"
            ]
          },
          "execution_count": 50,
          "metadata": {},
          "output_type": "execute_result"
        },
        {
          "data": {
            "image/png": "[encoded data removed]",
            "text/plain": [
              "<Figure size 432x288 with 1 Axes>"
            ]
          },
          "metadata": {},
          "output_type": "display_data"
        }
      ]
    },
    {
      "cell_type": "markdown",
      "metadata": {
        "id": "-W9F28UH5yUd"
      },
      "source": [
        "### Question 4 a"
      ],
      "id": "-W9F28UH5yUd"
    },
    {
      "cell_type": "code",
      "metadata": {
        "colab": {
          "base_uri": "https://localhost:8080/"
        },
        "id": "dPW3LmLd51kr",
        "outputId": "76a90631-770c-42fb-c426-aa453191a8d7"
      },
      "source": [
        "import torch\n",
        "import torch.nn as nn\n",
        "import torchvision\n",
        "from torchvision import models\n",
        "import torchvision.transforms as transforms\n",
        "import numpy as np\n",
        "\n",
        "\n",
        "import matplotlib.pyplot as plt\n",
        "\n",
        "def weights_init(m):\n",
        "    if type(m) == nn.Linear:\n",
        "        m.weight.data.normal_(0.0, 1e-3)\n",
        "        m.bias.data.fill_(0.)\n",
        "\n",
        "def update_lr(optimizer, lr):\n",
        "    for param_group in optimizer.param_groups:\n",
        "        param_group['lr'] = lr\n",
        "\n",
        "#--------------------------------\n",
        "# Device configuration\n",
        "#--------------------------------\n",
        "device = torch.device('cuda' if torch.cuda.is_available() else 'cpu')\n",
        "print('Using device: %s'%device)\n",
        "\n",
        "#--------------------------------\n",
        "# Hyper-parameters\n",
        "#--------------------------------\n",
        "input_size = 32 * 32 * 3\n",
        "layer_config= [512, 256]\n",
        "num_classes = 10\n",
        "num_epochs = 30\n",
        "batch_size = 200\n",
        "learning_rate = 1e-3\n",
        "learning_rate_decay = 0.99\n",
        "reg=0#0.001\n",
        "num_training= 49000\n",
        "num_validation =1000\n",
        "fine_tune = True\n",
        "pretrained=True\n"
      ],
      "id": "dPW3LmLd51kr",
      "execution_count": null,
      "outputs": [
        {
          "name": "stdout",
          "output_type": "stream",
          "text": [
            "Using device: cuda\n"
          ]
        }
      ]
    },
    {
      "cell_type": "code",
      "metadata": {
        "colab": {
          "base_uri": "https://localhost:8080/",
          "height": 82,
          "referenced_widgets": [
            "82555844ea4c40bc87ce7f2709ccffcc",
            "c3aac31e6a774cf9b04f094c0cbb2137",
            "52a0537cb9164e389e52a5f84b9d4b66",
            "6671a8383606483c982cc4414d7605f6",
            "03b8fef02bea4699b5d2e73ab662aa18",
            "538c5ee7b73548cab2a3cab4377523ef",
            "eac5ac6e4a5d420b8496a3cca73d1862",
            "1e606acfabda41a787780e0ea2609d13",
            "44d03483eceb48e1a8cc4c228baa473b",
            "301bd658e9d74cd691ae9596988091ba",
            "727b34832f45423e8285415d3ab4cacb"
          ]
        },
        "id": "2-aJy88v59pY",
        "outputId": "618a9428-cef4-460b-e85e-33615cf72d3d"
      },
      "source": [
        "#-------------------------------------------------\n",
        "# Load the CIFAR-10 dataset\n",
        "#-------------------------------------------------\n",
        "data_aug_transforms = [transforms.RandomHorizontalFlip(p=0.5)]#, transforms.RandomGrayscale(p=0.05)]\n",
        "###############################################################################\n",
        "# TODO: Add to data_aug_transforms the best performing data augmentation      #\n",
        "# strategy and hyper-parameters as found out in Q3.a                          #\n",
        "###############################################################################\n",
        "\n",
        "norm_transform = transforms.Compose(data_aug_transforms+[transforms.ToTensor(),\n",
        "                                     transforms.Normalize([0.485, 0.456, 0.406], [0.229, 0.224, 0.225]),\n",
        "                                     ]) #Need to preserve the normalization values of the pre-trained model\n",
        "cifar_dataset = torchvision.datasets.CIFAR10(root='datasets/',\n",
        "                                           train=True,\n",
        "                                           transform=norm_transform,\n",
        "                                           download=True)\n",
        "\n",
        "test_dataset = torchvision.datasets.CIFAR10(root='datasets/',\n",
        "                                          train=False,\n",
        "                                          transform=norm_transform\n",
        "                                          )"
      ],
      "id": "2-aJy88v59pY",
      "execution_count": null,
      "outputs": [
        {
          "name": "stdout",
          "output_type": "stream",
          "text": [
            "Downloading https://www.cs.toronto.edu/~kriz/cifar-10-python.tar.gz to datasets/cifar-10-python.tar.gz\n"
          ]
        },
        {
          "data": {
            "application/vnd.jupyter.widget-view+json": {
              "model_id": "82555844ea4c40bc87ce7f2709ccffcc",
              "version_major": 2,
              "version_minor": 0
            },
            "text/plain": [
              "  0%|          | 0/170498071 [00:00<?, ?it/s]"
            ]
          },
          "metadata": {},
          "output_type": "display_data"
        },
        {
          "name": "stdout",
          "output_type": "stream",
          "text": [
            "Extracting datasets/cifar-10-python.tar.gz to datasets/\n"
          ]
        }
      ]
    },
    {
      "cell_type": "code",
      "metadata": {
        "id": "N7_v-0py59ly"
      },
      "source": [
        "#-------------------------------------------------\n",
        "# Prepare the training and validation splits\n",
        "#-------------------------------------------------\n",
        "mask = list(range(num_training))\n",
        "train_dataset = torch.utils.data.Subset(cifar_dataset, mask)\n",
        "mask = list(range(num_training, num_training + num_validation))\n",
        "val_dataset = torch.utils.data.Subset(cifar_dataset, mask)\n",
        "\n",
        "#-------------------------------------------------\n",
        "# Data loader\n",
        "#-------------------------------------------------\n",
        "train_loader = torch.utils.data.DataLoader(dataset=train_dataset,\n",
        "                                           batch_size=batch_size,\n",
        "                                           shuffle=True)\n",
        "\n",
        "val_loader = torch.utils.data.DataLoader(dataset=val_dataset,\n",
        "                                           batch_size=batch_size,\n",
        "                                           shuffle=False)\n",
        "\n",
        "test_loader = torch.utils.data.DataLoader(dataset=test_dataset,\n",
        "                                          batch_size=batch_size,\n",
        "                                          shuffle=False)\n",
        "\n",
        "\n",
        "def set_parameter_requires_grad(model, feature_extracting):\n",
        "    if feature_extracting:\n",
        "        for param in model.parameters():\n",
        "            param.requires_grad = False\n"
      ],
      "id": "N7_v-0py59ly",
      "execution_count": null,
      "outputs": []
    },
    {
      "cell_type": "code",
      "metadata": {
        "id": "dhDi__Up51hd"
      },
      "source": [
        "class VggModel(nn.Module):\n",
        "    def __init__(self, n_class, fine_tune, pretrained=True):\n",
        "        super(VggModel, self).__init__()\n",
        "        #################################################################################\n",
        "        # TODO: Build the classification network described in Q4 using the              #\n",
        "        # models.vgg11_bn network from torchvision model zoo as the feature extraction  #\n",
        "        # layers and two linear layers on top for classification. You can load the      #\n",
        "        # pretrained ImageNet weights based on the pretrained flag. You can enable and  #\n",
        "        # disable training the feature extraction layers based on the fine_tune flag.   #\n",
        "        #################################################################################\n",
        "        # *****START OF YOUR CODE (DO NOT DELETE/MODIFY THIS LINE)*****\n",
        "        layers =[]\n",
        "        model = models.vgg11_bn(pretrained=True)\n",
        "        self.features = nn.Sequential(*(list(model.children())))[:-2]\n",
        "        layers.append(nn.Linear(layer_config[0], layer_config[1]))\n",
        "        layers.append(nn.BatchNorm1d(layer_config[1]))\n",
        "        layers.append(nn.ReLU())\n",
        "        layers.append(nn.Linear(layer_config[1], n_class))\n",
        "        self.classifier = nn.Sequential(*layers)\n",
        "\n",
        "        # *****END OF YOUR CODE (DO NOT DELETE/MODIFY THIS LINE)*****\n",
        "\n",
        "    def forward(self, x):\n",
        "        #################################################################################\n",
        "        # TODO: Implement the forward pass computations                                 #\n",
        "        #################################################################################\n",
        "        # *****START OF YOUR CODE (DO NOT DELETE/MODIFY THIS LINE)*****\n",
        "        out = self.features(x)\n",
        "        out = out.view(-1, 512)\n",
        "        out = self.classifier(out)\n",
        "        # *****END OF YOUR CODE (DO NOT DELETE/MODIFY THIS LINE)*****\n",
        "        return out"
      ],
      "id": "dhDi__Up51hd",
      "execution_count": null,
      "outputs": []
    },
    {
      "cell_type": "code",
      "metadata": {
        "colab": {
          "base_uri": "https://localhost:8080/",
          "height": 754,
          "referenced_widgets": [
            "ab2e4575434f47ada2b49cbdc2c40c1e",
            "ee508e1675434ca7958b116f619a6831",
            "2255c8fb596d425ea1f6ac71fb0bcf60",
            "b276a4c06a8f4def8cbfd61b719b103e",
            "a767206fdfbc4b7db0e3096f43a5331d",
            "16531ae1404f414ab35ef4de65bab275",
            "0cca7f162ea040b483e6c35335a5afb2",
            "9f9d9e0de4e147399243fe3115d001f1",
            "92c475dc16334a0696ccbc8df9570db6",
            "c7ee8c8401764e6fa95de3512b68188e",
            "b107747cf5b44107912439966d9c5d6f"
          ]
        },
        "id": "Mo7UCkwV51fP",
        "outputId": "50803241-483f-4e43-dfa1-cc2a173c0606"
      },
      "source": [
        "# Initialize the model for this run\n",
        "model= VggModel(num_classes, fine_tune, pretrained)\n",
        "\n",
        "if (pretrained==False):\n",
        "    model.apply(weights_init)\n",
        "\n",
        "# Print the model we just instantiated\n",
        "print(model)"
      ],
      "id": "Mo7UCkwV51fP",
      "execution_count": null,
      "outputs": [
        {
          "name": "stderr",
          "output_type": "stream",
          "text": [
            "Downloading: \"https://download.pytorch.org/models/vgg11_bn-6002323d.pth\" to /root/.cache/torch/hub/checkpoints/vgg11_bn-6002323d.pth\n"
          ]
        },
        {
          "data": {
            "application/vnd.jupyter.widget-view+json": {
              "model_id": "ab2e4575434f47ada2b49cbdc2c40c1e",
              "version_major": 2,
              "version_minor": 0
            },
            "text/plain": [
              "  0%|          | 0.00/507M [00:00<?, ?B/s]"
            ]
          },
          "metadata": {},
          "output_type": "display_data"
        },
        {
          "name": "stdout",
          "output_type": "stream",
          "text": [
            "VggModel(\n",
            "  (features): Sequential(\n",
            "    (0): Sequential(\n",
            "      (0): Conv2d(3, 64, kernel_size=(3, 3), stride=(1, 1), padding=(1, 1))\n",
            "      (1): BatchNorm2d(64, eps=1e-05, momentum=0.1, affine=True, track_running_stats=True)\n",
            "      (2): ReLU(inplace=True)\n",
            "      (3): MaxPool2d(kernel_size=2, stride=2, padding=0, dilation=1, ceil_mode=False)\n",
            "      (4): Conv2d(64, 128, kernel_size=(3, 3), stride=(1, 1), padding=(1, 1))\n",
            "      (5): BatchNorm2d(128, eps=1e-05, momentum=0.1, affine=True, track_running_stats=True)\n",
            "      (6): ReLU(inplace=True)\n",
            "      (7): MaxPool2d(kernel_size=2, stride=2, padding=0, dilation=1, ceil_mode=False)\n",
            "      (8): Conv2d(128, 256, kernel_size=(3, 3), stride=(1, 1), padding=(1, 1))\n",
            "      (9): BatchNorm2d(256, eps=1e-05, momentum=0.1, affine=True, track_running_stats=True)\n",
            "      (10): ReLU(inplace=True)\n",
            "      (11): Conv2d(256, 256, kernel_size=(3, 3), stride=(1, 1), padding=(1, 1))\n",
            "      (12): BatchNorm2d(256, eps=1e-05, momentum=0.1, affine=True, track_running_stats=True)\n",
            "      (13): ReLU(inplace=True)\n",
            "      (14): MaxPool2d(kernel_size=2, stride=2, padding=0, dilation=1, ceil_mode=False)\n",
            "      (15): Conv2d(256, 512, kernel_size=(3, 3), stride=(1, 1), padding=(1, 1))\n",
            "      (16): BatchNorm2d(512, eps=1e-05, momentum=0.1, affine=True, track_running_stats=True)\n",
            "      (17): ReLU(inplace=True)\n",
            "      (18): Conv2d(512, 512, kernel_size=(3, 3), stride=(1, 1), padding=(1, 1))\n",
            "      (19): BatchNorm2d(512, eps=1e-05, momentum=0.1, affine=True, track_running_stats=True)\n",
            "      (20): ReLU(inplace=True)\n",
            "      (21): MaxPool2d(kernel_size=2, stride=2, padding=0, dilation=1, ceil_mode=False)\n",
            "      (22): Conv2d(512, 512, kernel_size=(3, 3), stride=(1, 1), padding=(1, 1))\n",
            "      (23): BatchNorm2d(512, eps=1e-05, momentum=0.1, affine=True, track_running_stats=True)\n",
            "      (24): ReLU(inplace=True)\n",
            "      (25): Conv2d(512, 512, kernel_size=(3, 3), stride=(1, 1), padding=(1, 1))\n",
            "      (26): BatchNorm2d(512, eps=1e-05, momentum=0.1, affine=True, track_running_stats=True)\n",
            "      (27): ReLU(inplace=True)\n",
            "      (28): MaxPool2d(kernel_size=2, stride=2, padding=0, dilation=1, ceil_mode=False)\n",
            "    )\n",
            "  )\n",
            "  (classifier): Sequential(\n",
            "    (0): Linear(in_features=512, out_features=256, bias=True)\n",
            "    (1): BatchNorm1d(256, eps=1e-05, momentum=0.1, affine=True, track_running_stats=True)\n",
            "    (2): ReLU()\n",
            "    (3): Linear(in_features=256, out_features=10, bias=True)\n",
            "  )\n",
            ")\n"
          ]
        }
      ]
    },
    {
      "cell_type": "code",
      "metadata": {
        "colab": {
          "base_uri": "https://localhost:8080/"
        },
        "id": "MNN1Lzm851dI",
        "outputId": "26e74d9f-68fd-4594-c55b-58ab3d534ab1"
      },
      "source": [
        "#################################################################################\n",
        "# TODO: Only select the required parameters to pass to the optimizer. No need to#\n",
        "# update parameters which should be held fixed (conv layers).                   #\n",
        "#################################################################################\n",
        "print(\"Params to learn:\")\n",
        "if fine_tune:\n",
        "    params_to_update = []\n",
        "    # *****START OF YOUR CODE (DO NOT DELETE/MODIFY THIS LINE)*****      \n",
        "    params_to_update += [parameter for parameter in model.classifier.parameters()]\n",
        "    # *****END OF YOUR CODE (DO NOT DELETE/MODIFY THIS LINE)*****\n",
        "else:\n",
        "    params_to_update = model.parameters()\n",
        "    for name,param in model.named_parameters():\n",
        "        if param.requires_grad == True:\n",
        "            print(\"\\t\",name)\n",
        "\n",
        "model.to(device)"
      ],
      "id": "MNN1Lzm851dI",
      "execution_count": null,
      "outputs": [
        {
          "name": "stdout",
          "output_type": "stream",
          "text": [
            "Params to learn:\n"
          ]
        },
        {
          "data": {
            "text/plain": [
              "VggModel(\n",
              "  (features): Sequential(\n",
              "    (0): Sequential(\n",
              "      (0): Conv2d(3, 64, kernel_size=(3, 3), stride=(1, 1), padding=(1, 1))\n",
              "      (1): BatchNorm2d(64, eps=1e-05, momentum=0.1, affine=True, track_running_stats=True)\n",
              "      (2): ReLU(inplace=True)\n",
              "      (3): MaxPool2d(kernel_size=2, stride=2, padding=0, dilation=1, ceil_mode=False)\n",
              "      (4): Conv2d(64, 128, kernel_size=(3, 3), stride=(1, 1), padding=(1, 1))\n",
              "      (5): BatchNorm2d(128, eps=1e-05, momentum=0.1, affine=True, track_running_stats=True)\n",
              "      (6): ReLU(inplace=True)\n",
              "      (7): MaxPool2d(kernel_size=2, stride=2, padding=0, dilation=1, ceil_mode=False)\n",
              "      (8): Conv2d(128, 256, kernel_size=(3, 3), stride=(1, 1), padding=(1, 1))\n",
              "      (9): BatchNorm2d(256, eps=1e-05, momentum=0.1, affine=True, track_running_stats=True)\n",
              "      (10): ReLU(inplace=True)\n",
              "      (11): Conv2d(256, 256, kernel_size=(3, 3), stride=(1, 1), padding=(1, 1))\n",
              "      (12): BatchNorm2d(256, eps=1e-05, momentum=0.1, affine=True, track_running_stats=True)\n",
              "      (13): ReLU(inplace=True)\n",
              "      (14): MaxPool2d(kernel_size=2, stride=2, padding=0, dilation=1, ceil_mode=False)\n",
              "      (15): Conv2d(256, 512, kernel_size=(3, 3), stride=(1, 1), padding=(1, 1))\n",
              "      (16): BatchNorm2d(512, eps=1e-05, momentum=0.1, affine=True, track_running_stats=True)\n",
              "      (17): ReLU(inplace=True)\n",
              "      (18): Conv2d(512, 512, kernel_size=(3, 3), stride=(1, 1), padding=(1, 1))\n",
              "      (19): BatchNorm2d(512, eps=1e-05, momentum=0.1, affine=True, track_running_stats=True)\n",
              "      (20): ReLU(inplace=True)\n",
              "      (21): MaxPool2d(kernel_size=2, stride=2, padding=0, dilation=1, ceil_mode=False)\n",
              "      (22): Conv2d(512, 512, kernel_size=(3, 3), stride=(1, 1), padding=(1, 1))\n",
              "      (23): BatchNorm2d(512, eps=1e-05, momentum=0.1, affine=True, track_running_stats=True)\n",
              "      (24): ReLU(inplace=True)\n",
              "      (25): Conv2d(512, 512, kernel_size=(3, 3), stride=(1, 1), padding=(1, 1))\n",
              "      (26): BatchNorm2d(512, eps=1e-05, momentum=0.1, affine=True, track_running_stats=True)\n",
              "      (27): ReLU(inplace=True)\n",
              "      (28): MaxPool2d(kernel_size=2, stride=2, padding=0, dilation=1, ceil_mode=False)\n",
              "    )\n",
              "  )\n",
              "  (classifier): Sequential(\n",
              "    (0): Linear(in_features=512, out_features=256, bias=True)\n",
              "    (1): BatchNorm1d(256, eps=1e-05, momentum=0.1, affine=True, track_running_stats=True)\n",
              "    (2): ReLU()\n",
              "    (3): Linear(in_features=256, out_features=10, bias=True)\n",
              "  )\n",
              ")"
            ]
          },
          "execution_count": 6,
          "metadata": {},
          "output_type": "execute_result"
        }
      ]
    },
    {
      "cell_type": "code",
      "metadata": {
        "colab": {
          "background_save": true,
          "base_uri": "https://localhost:8080/"
        },
        "id": "5HF-ctBL6VK0",
        "outputId": "ec6ab550-1152-4ba9-fefc-d353f180adfb"
      },
      "source": [
        "# Loss and optimizer\n",
        "criterion = nn.CrossEntropyLoss()\n",
        "optimizer = torch.optim.Adam(params_to_update, lr=learning_rate, weight_decay=reg)\n",
        "\n",
        "# Train the model\n",
        "lr = learning_rate\n",
        "total_step = len(train_loader)\n",
        "loss_train = []\n",
        "loss_val = []\n",
        "best_accuracy = None\n",
        "accuracy_val = []\n",
        "count=0\n",
        "patience=10\n",
        "best_model = type(model)(num_classes, fine_tune, pretrained) # get a new instance\n",
        "for epoch in range(num_epochs):\n",
        "\n",
        "    model.train()\n",
        "\n",
        "    loss_iter = 0\n",
        "    for i, (images, labels) in enumerate(train_loader):\n",
        "        # Move tensors to the configured device\n",
        "        images = images.to(device)\n",
        "        labels = labels.to(device)\n",
        "\n",
        "        # Forward pass\n",
        "        outputs = model(images)\n",
        "        loss = criterion(outputs, labels)\n",
        "\n",
        "        # Backward and optimize\n",
        "        optimizer.zero_grad()\n",
        "        loss.backward()\n",
        "        optimizer.step()\n",
        "\n",
        "        loss_iter += loss.item()\n",
        "\n",
        "        if (i+1) % 100 == 0:\n",
        "            print ('Epoch [{}/{}], Step [{}/{}], Loss: {:.4f}'\n",
        "                   .format(epoch+1, num_epochs, i+1, total_step, loss.item()))\n",
        "\n",
        "    loss_train.append(loss_iter/(len(train_loader)*batch_size))\n",
        "\n",
        "\n",
        "    # Code to update the lr\n",
        "    lr *= learning_rate_decay\n",
        "    update_lr(optimizer, lr)\n",
        "    \n",
        "    \n",
        "    model.eval()\n",
        "    with torch.no_grad():\n",
        "        correct = 0\n",
        "        total = 0\n",
        "        loss_iter = 0\n",
        "        for images, labels in val_loader:\n",
        "            images = images.to(device)\n",
        "            labels = labels.to(device)\n",
        "\n",
        "            outputs = model(images)\n",
        "            _, predicted = torch.max(outputs.data, 1)\n",
        "\n",
        "            total += labels.size(0)\n",
        "            correct += (predicted == labels).sum().item()\n",
        "            \n",
        "            loss = criterion(outputs, labels)\n",
        "            loss_iter += loss.item()\n",
        "            \n",
        "        loss_val.append(loss_iter/(len(val_loader)*batch_size))\n",
        "\n",
        "        accuracy = 100 * correct / total\n",
        "        accuracy_val.append(accuracy)\n",
        "        \n",
        "        print('Validataion accuracy is: {} %'.format(accuracy))\n",
        "        #################################################################################\n",
        "        # TODO: Q2.b Use the early stopping mechanism from previous questions to save   #\n",
        "        # the model with the best validation accuracy so-far (use best_model).          #\n",
        "        #################################################################################\n",
        "\n",
        "        # *****START OF YOUR CODE (DO NOT DELETE/MODIFY THIS LINE)*****\n",
        "\n",
        "        if epoch == 0 or accuracy >= np.max(accuracy_val):\n",
        "            count=0\n",
        "            best_model = model\n",
        "            # saves the model checkpoint\n",
        "            torch.save(best_model.state_dict(), 'model.ckpt')\n",
        "            \n",
        "            if epoch == 1:\n",
        "                print(\n",
        "                    f\"Best accuracy improved from {np.max(accuracy_val[(epoch-1)])}% to {accuracy}%,\\n count={count}\")\n",
        "\n",
        "            if epoch > 1:\n",
        "                print(\n",
        "                    f\"Best accuracy improved from {np.max(accuracy_val[:(epoch)])}% to {accuracy}%,\\n count={count}\")\n",
        "        \n",
        "            \n",
        "        else:\n",
        "            \n",
        "            count+=1\n",
        "            print(f\"Best accuracy did not improve from {np.max(accuracy_val)}%,\\ncount= {count}\")\n",
        "            \n",
        "            if count==patience:\n",
        "                break\n",
        "        eval_dict=zip(list(range(1,num_epochs+1)), accuracy_val)\n",
        "        eval_dict=dict(eval_dict)\n",
        "        max_key = max(eval_dict, key=lambda k: eval_dict[k])\n",
        "print(f\"Highest validation accuracy is at epoch {max_key} with corresponding validation accuracy {eval_dict[max_key]}%,\\n count={count}\")\n",
        "       \n",
        "        # *****END OF YOUR CODE (DO NOT DELETE/MODIFY THIS LINE)*****\n"
      ],
      "id": "5HF-ctBL6VK0",
      "execution_count": null,
      "outputs": [
        {
          "name": "stdout",
          "output_type": "stream",
          "text": [
            "Epoch [1/30], Step [100/245], Loss: 1.2052\n",
            "Epoch [1/30], Step [200/245], Loss: 1.0279\n",
            "Validataion accuracy is: 60.6 %\n",
            "Epoch [2/30], Step [100/245], Loss: 1.1000\n",
            "Epoch [2/30], Step [200/245], Loss: 1.1348\n",
            "Validataion accuracy is: 63.4 %\n",
            "Best accuracy improved from 60.6% to 63.4%,\n",
            " count=0\n",
            "Epoch [3/30], Step [100/245], Loss: 0.9262\n",
            "Epoch [3/30], Step [200/245], Loss: 0.9805\n",
            "Validataion accuracy is: 62.0 %\n",
            "Best accuracy did not improve from 63.4%,\n",
            "count= 1\n",
            "Epoch [4/30], Step [100/245], Loss: 0.7847\n",
            "Epoch [4/30], Step [200/245], Loss: 1.0714\n",
            "Validataion accuracy is: 62.0 %\n",
            "Best accuracy did not improve from 63.4%,\n",
            "count= 2\n",
            "Epoch [5/30], Step [100/245], Loss: 0.9232\n",
            "Epoch [5/30], Step [200/245], Loss: 0.8828\n",
            "Validataion accuracy is: 62.7 %\n",
            "Best accuracy did not improve from 63.4%,\n",
            "count= 3\n",
            "Epoch [6/30], Step [100/245], Loss: 0.8257\n",
            "Epoch [6/30], Step [200/245], Loss: 0.9735\n",
            "Validataion accuracy is: 61.9 %\n",
            "Best accuracy did not improve from 63.4%,\n",
            "count= 4\n",
            "Epoch [7/30], Step [100/245], Loss: 0.8771\n",
            "Epoch [7/30], Step [200/245], Loss: 0.8043\n",
            "Validataion accuracy is: 62.3 %\n",
            "Best accuracy did not improve from 63.4%,\n",
            "count= 5\n",
            "Epoch [8/30], Step [100/245], Loss: 0.7409\n",
            "Epoch [8/30], Step [200/245], Loss: 0.8089\n",
            "Validataion accuracy is: 63.0 %\n",
            "Best accuracy did not improve from 63.4%,\n",
            "count= 6\n",
            "Epoch [9/30], Step [100/245], Loss: 0.7263\n",
            "Epoch [9/30], Step [200/245], Loss: 0.7561\n",
            "Validataion accuracy is: 61.9 %\n",
            "Best accuracy did not improve from 63.4%,\n",
            "count= 7\n",
            "Epoch [10/30], Step [100/245], Loss: 0.6771\n",
            "Epoch [10/30], Step [200/245], Loss: 0.8277\n",
            "Validataion accuracy is: 64.6 %\n",
            "Best accuracy improved from 63.4% to 64.6%,\n",
            " count=0\n",
            "Epoch [11/30], Step [100/245], Loss: 0.6983\n",
            "Epoch [11/30], Step [200/245], Loss: 0.7054\n",
            "Validataion accuracy is: 62.8 %\n",
            "Best accuracy did not improve from 64.6%,\n",
            "count= 1\n",
            "Epoch [12/30], Step [100/245], Loss: 0.8519\n",
            "Epoch [12/30], Step [200/245], Loss: 0.6938\n",
            "Validataion accuracy is: 64.2 %\n",
            "Best accuracy did not improve from 64.6%,\n",
            "count= 2\n",
            "Epoch [13/30], Step [100/245], Loss: 0.6782\n",
            "Epoch [13/30], Step [200/245], Loss: 0.6082\n",
            "Validataion accuracy is: 63.7 %\n",
            "Best accuracy did not improve from 64.6%,\n",
            "count= 3\n",
            "Epoch [14/30], Step [100/245], Loss: 0.6308\n",
            "Epoch [14/30], Step [200/245], Loss: 0.6500\n",
            "Validataion accuracy is: 63.7 %\n",
            "Best accuracy did not improve from 64.6%,\n",
            "count= 4\n",
            "Epoch [15/30], Step [100/245], Loss: 0.5864\n",
            "Epoch [15/30], Step [200/245], Loss: 0.7275\n",
            "Validataion accuracy is: 63.8 %\n",
            "Best accuracy did not improve from 64.6%,\n",
            "count= 5\n",
            "Epoch [16/30], Step [100/245], Loss: 0.6039\n",
            "Epoch [16/30], Step [200/245], Loss: 0.5825\n",
            "Validataion accuracy is: 64.1 %\n",
            "Best accuracy did not improve from 64.6%,\n",
            "count= 6\n",
            "Epoch [17/30], Step [100/245], Loss: 0.6498\n",
            "Epoch [17/30], Step [200/245], Loss: 0.5455\n",
            "Validataion accuracy is: 64.1 %\n",
            "Best accuracy did not improve from 64.6%,\n",
            "count= 7\n",
            "Epoch [18/30], Step [100/245], Loss: 0.5870\n",
            "Epoch [18/30], Step [200/245], Loss: 0.5500\n",
            "Validataion accuracy is: 64.3 %\n",
            "Best accuracy did not improve from 64.6%,\n",
            "count= 8\n",
            "Epoch [19/30], Step [100/245], Loss: 0.5675\n",
            "Epoch [19/30], Step [200/245], Loss: 0.7715\n",
            "Validataion accuracy is: 64.4 %\n",
            "Best accuracy did not improve from 64.6%,\n",
            "count= 9\n",
            "Epoch [20/30], Step [100/245], Loss: 0.6103\n",
            "Epoch [20/30], Step [200/245], Loss: 0.5277\n",
            "Validataion accuracy is: 61.9 %\n",
            "Best accuracy did not improve from 64.6%,\n",
            "count= 10\n",
            "Highest validation accuracy is at epoch 10 with corresponding validation accuracy 64.6%,\n",
            " count=10\n"
          ]
        }
      ]
    },
    {
      "cell_type": "code",
      "metadata": {
        "colab": {
          "base_uri": "https://localhost:8080/",
          "height": 513
        },
        "id": "4L6tDuH96VHi",
        "outputId": "839fd9a9-9936-4c1d-fd76-b86faf74b71a"
      },
      "source": [
        "# Test the model\n",
        "# In test phase, we don't need to compute gradients (for memory efficiency)\n",
        "model.eval()\n",
        "\n",
        "\n",
        "plt.figure(2)\n",
        "plt.plot(loss_train, 'r', label='Train loss')\n",
        "plt.plot(loss_val, 'g', label='Val loss')\n",
        "plt.legend()\n",
        "plt.show()\n",
        "\n",
        "plt.figure(3)\n",
        "plt.plot(accuracy_val, 'r', label='Val accuracy')\n",
        "plt.legend()\n",
        "plt.show()\n",
        "\n"
      ],
      "id": "4L6tDuH96VHi",
      "execution_count": 8,
      "outputs": [
        {
          "output_type": "display_data",
          "data": {
            "image/png": "[encoded data removed]",
            "text/plain": [
              "<Figure size 432x288 with 1 Axes>"
            ]
          },
          "metadata": {
            "needs_background": "light"
          }
        },
        {
          "output_type": "display_data",
          "data": {
            "image/png": "[encoded data removed]",
            "text/plain": [
              "<Figure size 432x288 with 1 Axes>"
            ]
          },
          "metadata": {
            "needs_background": "light"
          }
        }
      ]
    },
    {
      "cell_type": "code",
      "metadata": {
        "colab": {
          "base_uri": "https://localhost:8080/"
        },
        "id": "WC5d-Peq6VFU",
        "outputId": "8d08004c-f671-4f01-ccbf-a68bdb438b84"
      },
      "source": [
        "#################################################################################\n",
        "# TODO: Use the early stopping mechanism from previous question to load the     #\n",
        "# weights from the best model so far and perform testing with this model.       #\n",
        "#################################################################################\n",
        "# *****START OF YOUR CODE (DO NOT DELETE/MODIFY THIS LINE)*****\n",
        "\n",
        "best_model = torch.load('model.ckpt')\n",
        "model.load_state_dict(best_model)\n",
        "\n",
        "\n",
        "# *****END OF YOUR CODE (DO NOT DELETE/MODIFY THIS LINE)*****\n",
        "\n",
        "# Test the model\n",
        "# In test phase, we don't need to compute gradients (for memory efficiency)\n",
        "with torch.no_grad():\n",
        "    correct = 0\n",
        "    total = 0\n",
        "    for images, labels in test_loader:\n",
        "        images = images.to(device)\n",
        "        labels = labels.to(device)\n",
        "        outputs = model(images)\n",
        "        _, predicted = torch.max(outputs.data, 1)\n",
        "        total += labels.size(0)\n",
        "        correct += (predicted == labels).sum().item()\n",
        "        if total == 1000:\n",
        "            break\n",
        "\n",
        "    print('Accuracy of the network on the {} test images: {} %'.format(total, 100 * correct / total))\n",
        "\n",
        "\n",
        "\n",
        "# Save the model checkpoint\n",
        "#torch.save(model.state_dict(), 'model.ckpt')\n"
      ],
      "id": "WC5d-Peq6VFU",
      "execution_count": 9,
      "outputs": [
        {
          "output_type": "stream",
          "name": "stdout",
          "text": [
            "Accuracy of the network on the 1000 test images: 64.1 %\n"
          ]
        }
      ]
    },
    {
      "cell_type": "markdown",
      "metadata": {
        "id": "BDqcozWsnVjk"
      },
      "source": [
        "### Question 4 b"
      ],
      "id": "BDqcozWsnVjk"
    },
    {
      "cell_type": "code",
      "metadata": {
        "colab": {
          "base_uri": "https://localhost:8080/"
        },
        "id": "iA8Vr6kQTaL5",
        "outputId": "4738f642-ce48-48b2-9748-01ffe0904069"
      },
      "source": [
        "import torch\n",
        "import torch.nn as nn\n",
        "import torchvision\n",
        "from torchvision import models\n",
        "import torchvision.transforms as transforms\n",
        "import numpy as np\n",
        "\n",
        "\n",
        "import matplotlib.pyplot as plt\n",
        "\n",
        "def weights_init(m):\n",
        "    if type(m) == nn.Linear:\n",
        "        m.weight.data.normal_(0.0, 1e-3)\n",
        "        m.bias.data.fill_(0.)\n",
        "\n",
        "def update_lr(optimizer, lr):\n",
        "    for param_group in optimizer.param_groups:\n",
        "        param_group['lr'] = lr\n",
        "\n",
        "#--------------------------------\n",
        "# Device configuration\n",
        "#--------------------------------\n",
        "device = torch.device('cuda' if torch.cuda.is_available() else 'cpu')\n",
        "print('Using device: %s'%device)\n",
        "\n",
        "#--------------------------------\n",
        "# Hyper-parameters\n",
        "#--------------------------------\n",
        "input_size = 32 * 32 * 3\n",
        "layer_config= [512, 256]\n",
        "num_classes = 10\n",
        "num_epochs = 30\n",
        "batch_size = 200\n",
        "learning_rate = 1e-3\n",
        "learning_rate_decay = 0.95\n",
        "reg=0#0.001\n",
        "num_training= 49000\n",
        "num_validation =1000\n",
        "fine_tune = False\n",
        "pretrained=False\n"
      ],
      "id": "iA8Vr6kQTaL5",
      "execution_count": 9,
      "outputs": [
        {
          "output_type": "stream",
          "name": "stdout",
          "text": [
            "Using device: cuda\n"
          ]
        }
      ]
    },
    {
      "cell_type": "code",
      "metadata": {
        "colab": {
          "base_uri": "https://localhost:8080/"
        },
        "id": "bsIn0_X3no-Q",
        "outputId": "85bd1888-df8c-45cf-c523-a7eb79840ba7"
      },
      "source": [
        "#-------------------------------------------------\n",
        "# Load the CIFAR-10 dataset\n",
        "#-------------------------------------------------\n",
        "data_aug_transforms = [transforms.RandomHorizontalFlip(0.5),\n",
        "                        transforms.RandomGrayscale(p=0.05)]\n",
        "###############################################################################\n",
        "# TODO: Add to data_aug_transforms the best performing data augmentation      #\n",
        "# strategy and hyper-parameters as found out in Q3.a                          #\n",
        "###############################################################################\n",
        "\n",
        "norm_transform = transforms.Compose(data_aug_transforms+[transforms.ToTensor(),\n",
        "                                     transforms.Normalize([0.485, 0.456, 0.406], [0.229, 0.224, 0.225]),\n",
        "                                     ]) #Need to preserve the normalization values of the pre-trained model\n",
        "cifar_dataset = torchvision.datasets.CIFAR10(root='datasets/',\n",
        "                                           train=True,\n",
        "                                           transform=norm_transform,\n",
        "                                           download=True)\n",
        "\n",
        "test_dataset = torchvision.datasets.CIFAR10(root='datasets/',\n",
        "                                          train=False,\n",
        "                                          transform=norm_transform\n",
        "                                          )"
      ],
      "id": "bsIn0_X3no-Q",
      "execution_count": 10,
      "outputs": [
        {
          "output_type": "stream",
          "name": "stdout",
          "text": [
            "Files already downloaded and verified\n"
          ]
        }
      ]
    },
    {
      "cell_type": "code",
      "metadata": {
        "id": "YnJGH0qKpMgc"
      },
      "source": [
        "#-------------------------------------------------\n",
        "# Prepare the training and validation splits\n",
        "#-------------------------------------------------\n",
        "mask = list(range(num_training))\n",
        "train_dataset = torch.utils.data.Subset(cifar_dataset, mask)\n",
        "mask = list(range(num_training, num_training + num_validation))\n",
        "val_dataset = torch.utils.data.Subset(cifar_dataset, mask)\n",
        "\n",
        "#-------------------------------------------------\n",
        "# Data loader\n",
        "#-------------------------------------------------\n",
        "train_loader = torch.utils.data.DataLoader(dataset=train_dataset,\n",
        "                                           batch_size=batch_size,\n",
        "                                           shuffle=True)\n",
        "\n",
        "val_loader = torch.utils.data.DataLoader(dataset=val_dataset,\n",
        "                                           batch_size=batch_size,\n",
        "                                           shuffle=False)\n",
        "\n",
        "test_loader = torch.utils.data.DataLoader(dataset=test_dataset,\n",
        "                                          batch_size=batch_size,\n",
        "                                          shuffle=False)\n",
        "\n"
      ],
      "id": "YnJGH0qKpMgc",
      "execution_count": 11,
      "outputs": []
    },
    {
      "cell_type": "code",
      "metadata": {
        "id": "4XDMwY-KpQ8i"
      },
      "source": [
        "def set_parameter_requires_grad(model, feature_extracting):\n",
        "    if feature_extracting:\n",
        "        for param in model.parameters():\n",
        "            param.requires_grad = False\n"
      ],
      "id": "4XDMwY-KpQ8i",
      "execution_count": 12,
      "outputs": []
    },
    {
      "cell_type": "code",
      "metadata": {
        "id": "cqbHPmegpUHF"
      },
      "source": [
        "class VggModel(nn.Module):\n",
        "    def __init__(self, n_class, fine_tune, pretrained=True):\n",
        "        super(VggModel, self).__init__()\n",
        "        #################################################################################\n",
        "        # TODO: Build the classification network described in Q4 using the              #\n",
        "        # models.vgg11_bn network from torchvision model zoo as the feature extraction  #\n",
        "        # layers and two linear layers on top for classification. You can load the      #\n",
        "        # pretrained ImageNet weights based on the pretrained flag. You can enable and  #\n",
        "        # disable training the feature extraction layers based on the fine_tune flag.   #\n",
        "        #################################################################################\n",
        "        # *****START OF YOUR CODE (DO NOT DELETE/MODIFY THIS LINE)*****\n",
        "        layers =[]\n",
        "        model = models.vgg11_bn(pretrained=True)\n",
        "        self.features = nn.Sequential(*(list(model.children())))[:-2]\n",
        "        layers.append(nn.Linear(layer_config[0], layer_config[1]))\n",
        "        layers.append(nn.BatchNorm1d(layer_config[1]))\n",
        "        layers.append(nn.ReLU())\n",
        "        layers.append(nn.Linear(layer_config[1], n_class))\n",
        "        self.classifier = nn.Sequential(*layers)\n",
        "\n",
        "        if fine_tune:\n",
        "          set_parameter_requires_grad(self, fine_tune)\n",
        "        # *****END OF YOUR CODE (DO NOT DELETE/MODIFY THIS LINE)*****\n",
        "\n",
        "    def forward(self, x):\n",
        "        #################################################################################\n",
        "        # TODO: Implement the forward pass computations                                 #\n",
        "        #################################################################################\n",
        "        # *****START OF YOUR CODE (DO NOT DELETE/MODIFY THIS LINE)*****\n",
        "        out = self.features(x)\n",
        "        out = out.view(-1, 512)\n",
        "        out = self.classifier(out)\n",
        "        # *****END OF YOUR CODE (DO NOT DELETE/MODIFY THIS LINE)*****\n",
        "        return out"
      ],
      "id": "cqbHPmegpUHF",
      "execution_count": 13,
      "outputs": []
    },
    {
      "cell_type": "code",
      "metadata": {
        "colab": {
          "base_uri": "https://localhost:8080/"
        },
        "id": "9r795IruZJJ0",
        "outputId": "ec8d665c-3a19-46b9-d647-993f90d7da24"
      },
      "source": [
        "# Initialize the model for this run\n",
        "model= VggModel(num_classes, fine_tune, pretrained)\n",
        "\n",
        "if (pretrained==False):\n",
        "    model.apply(weights_init)\n",
        "\n",
        "# Print the model we just instantiated\n",
        "print(model)\n"
      ],
      "id": "9r795IruZJJ0",
      "execution_count": 14,
      "outputs": [
        {
          "output_type": "stream",
          "name": "stdout",
          "text": [
            "VggModel(\n",
            "  (features): Sequential(\n",
            "    (0): Sequential(\n",
            "      (0): Conv2d(3, 64, kernel_size=(3, 3), stride=(1, 1), padding=(1, 1))\n",
            "      (1): BatchNorm2d(64, eps=1e-05, momentum=0.1, affine=True, track_running_stats=True)\n",
            "      (2): ReLU(inplace=True)\n",
            "      (3): MaxPool2d(kernel_size=2, stride=2, padding=0, dilation=1, ceil_mode=False)\n",
            "      (4): Conv2d(64, 128, kernel_size=(3, 3), stride=(1, 1), padding=(1, 1))\n",
            "      (5): BatchNorm2d(128, eps=1e-05, momentum=0.1, affine=True, track_running_stats=True)\n",
            "      (6): ReLU(inplace=True)\n",
            "      (7): MaxPool2d(kernel_size=2, stride=2, padding=0, dilation=1, ceil_mode=False)\n",
            "      (8): Conv2d(128, 256, kernel_size=(3, 3), stride=(1, 1), padding=(1, 1))\n",
            "      (9): BatchNorm2d(256, eps=1e-05, momentum=0.1, affine=True, track_running_stats=True)\n",
            "      (10): ReLU(inplace=True)\n",
            "      (11): Conv2d(256, 256, kernel_size=(3, 3), stride=(1, 1), padding=(1, 1))\n",
            "      (12): BatchNorm2d(256, eps=1e-05, momentum=0.1, affine=True, track_running_stats=True)\n",
            "      (13): ReLU(inplace=True)\n",
            "      (14): MaxPool2d(kernel_size=2, stride=2, padding=0, dilation=1, ceil_mode=False)\n",
            "      (15): Conv2d(256, 512, kernel_size=(3, 3), stride=(1, 1), padding=(1, 1))\n",
            "      (16): BatchNorm2d(512, eps=1e-05, momentum=0.1, affine=True, track_running_stats=True)\n",
            "      (17): ReLU(inplace=True)\n",
            "      (18): Conv2d(512, 512, kernel_size=(3, 3), stride=(1, 1), padding=(1, 1))\n",
            "      (19): BatchNorm2d(512, eps=1e-05, momentum=0.1, affine=True, track_running_stats=True)\n",
            "      (20): ReLU(inplace=True)\n",
            "      (21): MaxPool2d(kernel_size=2, stride=2, padding=0, dilation=1, ceil_mode=False)\n",
            "      (22): Conv2d(512, 512, kernel_size=(3, 3), stride=(1, 1), padding=(1, 1))\n",
            "      (23): BatchNorm2d(512, eps=1e-05, momentum=0.1, affine=True, track_running_stats=True)\n",
            "      (24): ReLU(inplace=True)\n",
            "      (25): Conv2d(512, 512, kernel_size=(3, 3), stride=(1, 1), padding=(1, 1))\n",
            "      (26): BatchNorm2d(512, eps=1e-05, momentum=0.1, affine=True, track_running_stats=True)\n",
            "      (27): ReLU(inplace=True)\n",
            "      (28): MaxPool2d(kernel_size=2, stride=2, padding=0, dilation=1, ceil_mode=False)\n",
            "    )\n",
            "  )\n",
            "  (classifier): Sequential(\n",
            "    (0): Linear(in_features=512, out_features=256, bias=True)\n",
            "    (1): BatchNorm1d(256, eps=1e-05, momentum=0.1, affine=True, track_running_stats=True)\n",
            "    (2): ReLU()\n",
            "    (3): Linear(in_features=256, out_features=10, bias=True)\n",
            "  )\n",
            ")\n"
          ]
        }
      ]
    },
    {
      "cell_type": "code",
      "metadata": {
        "colab": {
          "base_uri": "https://localhost:8080/"
        },
        "id": "a0qm7KfPZMXN",
        "outputId": "96f89e07-0f54-4b90-fbd2-10f62705a09b"
      },
      "source": [
        "#################################################################################\n",
        "# TODO: Only select the required parameters to pass to the optimizer. No need to#\n",
        "# update parameters which should be held fixed (conv layers).                   #\n",
        "#################################################################################\n",
        "print(\"Params to learn:\")\n",
        "if fine_tune:\n",
        "    params_to_update = []\n",
        "    # *****START OF YOUR CODE (DO NOT DELETE/MODIFY THIS LINE)*****      \n",
        "    params_to_update += [parameter for parameter in model.classifier.parameters()]\n",
        "    # *****END OF YOUR CODE (DO NOT DELETE/MODIFY THIS LINE)*****\n",
        "else:\n",
        "    params_to_update = model.parameters()\n",
        "    for name,param in model.named_parameters():\n",
        "        if param.requires_grad == True:\n",
        "            print(\"\\t\",name)\n",
        "\n",
        "\n",
        "model.to(device)"
      ],
      "id": "a0qm7KfPZMXN",
      "execution_count": 15,
      "outputs": [
        {
          "output_type": "stream",
          "name": "stdout",
          "text": [
            "Params to learn:\n",
            "\t features.0.0.weight\n",
            "\t features.0.0.bias\n",
            "\t features.0.1.weight\n",
            "\t features.0.1.bias\n",
            "\t features.0.4.weight\n",
            "\t features.0.4.bias\n",
            "\t features.0.5.weight\n",
            "\t features.0.5.bias\n",
            "\t features.0.8.weight\n",
            "\t features.0.8.bias\n",
            "\t features.0.9.weight\n",
            "\t features.0.9.bias\n",
            "\t features.0.11.weight\n",
            "\t features.0.11.bias\n",
            "\t features.0.12.weight\n",
            "\t features.0.12.bias\n",
            "\t features.0.15.weight\n",
            "\t features.0.15.bias\n",
            "\t features.0.16.weight\n",
            "\t features.0.16.bias\n",
            "\t features.0.18.weight\n",
            "\t features.0.18.bias\n",
            "\t features.0.19.weight\n",
            "\t features.0.19.bias\n",
            "\t features.0.22.weight\n",
            "\t features.0.22.bias\n",
            "\t features.0.23.weight\n",
            "\t features.0.23.bias\n",
            "\t features.0.25.weight\n",
            "\t features.0.25.bias\n",
            "\t features.0.26.weight\n",
            "\t features.0.26.bias\n",
            "\t classifier.0.weight\n",
            "\t classifier.0.bias\n",
            "\t classifier.1.weight\n",
            "\t classifier.1.bias\n",
            "\t classifier.3.weight\n",
            "\t classifier.3.bias\n"
          ]
        },
        {
          "output_type": "execute_result",
          "data": {
            "text/plain": [
              "VggModel(\n",
              "  (features): Sequential(\n",
              "    (0): Sequential(\n",
              "      (0): Conv2d(3, 64, kernel_size=(3, 3), stride=(1, 1), padding=(1, 1))\n",
              "      (1): BatchNorm2d(64, eps=1e-05, momentum=0.1, affine=True, track_running_stats=True)\n",
              "      (2): ReLU(inplace=True)\n",
              "      (3): MaxPool2d(kernel_size=2, stride=2, padding=0, dilation=1, ceil_mode=False)\n",
              "      (4): Conv2d(64, 128, kernel_size=(3, 3), stride=(1, 1), padding=(1, 1))\n",
              "      (5): BatchNorm2d(128, eps=1e-05, momentum=0.1, affine=True, track_running_stats=True)\n",
              "      (6): ReLU(inplace=True)\n",
              "      (7): MaxPool2d(kernel_size=2, stride=2, padding=0, dilation=1, ceil_mode=False)\n",
              "      (8): Conv2d(128, 256, kernel_size=(3, 3), stride=(1, 1), padding=(1, 1))\n",
              "      (9): BatchNorm2d(256, eps=1e-05, momentum=0.1, affine=True, track_running_stats=True)\n",
              "      (10): ReLU(inplace=True)\n",
              "      (11): Conv2d(256, 256, kernel_size=(3, 3), stride=(1, 1), padding=(1, 1))\n",
              "      (12): BatchNorm2d(256, eps=1e-05, momentum=0.1, affine=True, track_running_stats=True)\n",
              "      (13): ReLU(inplace=True)\n",
              "      (14): MaxPool2d(kernel_size=2, stride=2, padding=0, dilation=1, ceil_mode=False)\n",
              "      (15): Conv2d(256, 512, kernel_size=(3, 3), stride=(1, 1), padding=(1, 1))\n",
              "      (16): BatchNorm2d(512, eps=1e-05, momentum=0.1, affine=True, track_running_stats=True)\n",
              "      (17): ReLU(inplace=True)\n",
              "      (18): Conv2d(512, 512, kernel_size=(3, 3), stride=(1, 1), padding=(1, 1))\n",
              "      (19): BatchNorm2d(512, eps=1e-05, momentum=0.1, affine=True, track_running_stats=True)\n",
              "      (20): ReLU(inplace=True)\n",
              "      (21): MaxPool2d(kernel_size=2, stride=2, padding=0, dilation=1, ceil_mode=False)\n",
              "      (22): Conv2d(512, 512, kernel_size=(3, 3), stride=(1, 1), padding=(1, 1))\n",
              "      (23): BatchNorm2d(512, eps=1e-05, momentum=0.1, affine=True, track_running_stats=True)\n",
              "      (24): ReLU(inplace=True)\n",
              "      (25): Conv2d(512, 512, kernel_size=(3, 3), stride=(1, 1), padding=(1, 1))\n",
              "      (26): BatchNorm2d(512, eps=1e-05, momentum=0.1, affine=True, track_running_stats=True)\n",
              "      (27): ReLU(inplace=True)\n",
              "      (28): MaxPool2d(kernel_size=2, stride=2, padding=0, dilation=1, ceil_mode=False)\n",
              "    )\n",
              "  )\n",
              "  (classifier): Sequential(\n",
              "    (0): Linear(in_features=512, out_features=256, bias=True)\n",
              "    (1): BatchNorm1d(256, eps=1e-05, momentum=0.1, affine=True, track_running_stats=True)\n",
              "    (2): ReLU()\n",
              "    (3): Linear(in_features=256, out_features=10, bias=True)\n",
              "  )\n",
              ")"
            ]
          },
          "metadata": {},
          "execution_count": 15
        }
      ]
    },
    {
      "cell_type": "code",
      "metadata": {
        "colab": {
          "base_uri": "https://localhost:8080/"
        },
        "id": "5GeltxJ8aQzi",
        "outputId": "380f4621-9c6f-4a92-f7e0-f7af8862349b"
      },
      "source": [
        "# Loss and optimizer\n",
        "criterion = nn.CrossEntropyLoss()\n",
        "optimizer = torch.optim.Adam(params_to_update, lr=learning_rate, weight_decay=reg)\n",
        "\n",
        "# Train the model\n",
        "lr = learning_rate\n",
        "total_step = len(train_loader)\n",
        "loss_train = []\n",
        "loss_val = []\n",
        "best_accuracy = None\n",
        "accuracy_val = []\n",
        "count=0\n",
        "patience=10\n",
        "best_model = type(model)(num_classes, fine_tune, pretrained) # get a new instance\n",
        "for epoch in range(num_epochs):\n",
        "\n",
        "    model.train()\n",
        "\n",
        "    loss_iter = 0\n",
        "    for i, (images, labels) in enumerate(train_loader):\n",
        "        # Move tensors to the configured device\n",
        "        images = images.to(device)\n",
        "        labels = labels.to(device)\n",
        "\n",
        "        # Forward pass\n",
        "        outputs = model(images)\n",
        "        loss = criterion(outputs, labels)\n",
        "\n",
        "        # Backward and optimize\n",
        "        optimizer.zero_grad()\n",
        "        loss.backward()\n",
        "        optimizer.step()\n",
        "\n",
        "        loss_iter += loss.item()\n",
        "\n",
        "        if (i+1) % 100 == 0:\n",
        "            print ('Epoch [{}/{}], Step [{}/{}], Loss: {:.4f}'\n",
        "                   .format(epoch+1, num_epochs, i+1, total_step, loss.item()))\n",
        "\n",
        "    loss_train.append(loss_iter/(len(train_loader)*batch_size))\n",
        "\n",
        "\n",
        "    # Code to update the lr\n",
        "    lr *= learning_rate_decay\n",
        "    update_lr(optimizer, lr)\n",
        "    \n",
        "    \n",
        "    model.eval()\n",
        "    with torch.no_grad():\n",
        "        correct = 0\n",
        "        total = 0\n",
        "        loss_iter = 0\n",
        "        for images, labels in val_loader:\n",
        "            images = images.to(device)\n",
        "            labels = labels.to(device)\n",
        "\n",
        "            outputs = model(images)\n",
        "            _, predicted = torch.max(outputs.data, 1)\n",
        "\n",
        "            total += labels.size(0)\n",
        "            correct += (predicted == labels).sum().item()\n",
        "            \n",
        "            loss = criterion(outputs, labels)\n",
        "            loss_iter += loss.item()\n",
        "            \n",
        "        loss_val.append(loss_iter/(len(val_loader)*batch_size))\n",
        "\n",
        "        accuracy = 100 * correct / total\n",
        "        accuracy_val.append(accuracy)\n",
        "        \n",
        "        print('Validataion accuracy is: {} %'.format(accuracy))\n",
        "        #################################################################################\n",
        "        # TODO: Q2.b Use the early stopping mechanism from previous questions to save   #\n",
        "        # the model with the best validation accuracy so-far (use best_model).          #\n",
        "        #################################################################################\n",
        "\n",
        "        # *****START OF YOUR CODE (DO NOT DELETE/MODIFY THIS LINE)*****\n",
        "\n",
        "        if epoch == 0 or accuracy >= np.max(accuracy_val):\n",
        "            count=0\n",
        "            best_model = model\n",
        "            # saves the model checkpoint\n",
        "            torch.save(best_model.state_dict(), 'model.ckpt')\n",
        "            \n",
        "            if epoch == 1:\n",
        "                print(\n",
        "                    f\"Best accuracy improved from {np.max(accuracy_val[(epoch-1)])}% to {accuracy}%,\\n count={count}\")\n",
        "\n",
        "            if epoch > 1:\n",
        "                print(\n",
        "                    f\"Best accuracy improved from {np.max(accuracy_val[:(epoch)])}% to {accuracy}%,\\n count={count}\")\n",
        "        \n",
        "            \n",
        "        else:\n",
        "            \n",
        "            count+=1\n",
        "            print(f\"Best accuracy did not improve from {np.max(accuracy_val)}%,\\ncount= {count}\")\n",
        "            \n",
        "            if count==patience:\n",
        "                break\n",
        "        eval_dict=zip(list(range(1,num_epochs+1)), accuracy_val)\n",
        "        eval_dict=dict(eval_dict)\n",
        "        max_key = max(eval_dict, key=lambda k: eval_dict[k])\n",
        "print(f\"Highest validation accuracy is at epoch {max_key} with corresponding validation accuracy {eval_dict[max_key]}%,\\n count={count}\")\n",
        "\n",
        "        # *****END OF YOUR CODE (DO NOT DELETE/MODIFY THIS LINE)*****\n"
      ],
      "id": "5GeltxJ8aQzi",
      "execution_count": 16,
      "outputs": [
        {
          "output_type": "stream",
          "name": "stdout",
          "text": [
            "Epoch [1/30], Step [100/245], Loss: 0.5465\n",
            "Epoch [1/30], Step [200/245], Loss: 0.6238\n",
            "Validataion accuracy is: 83.1 %\n",
            "Epoch [2/30], Step [100/245], Loss: 0.3824\n",
            "Epoch [2/30], Step [200/245], Loss: 0.4832\n",
            "Validataion accuracy is: 83.4 %\n",
            "Best accuracy improved from 83.1% to 83.4%,\n",
            " count=0\n",
            "Epoch [3/30], Step [100/245], Loss: 0.2690\n",
            "Epoch [3/30], Step [200/245], Loss: 0.3502\n",
            "Validataion accuracy is: 85.4 %\n",
            "Best accuracy improved from 83.4% to 85.4%,\n",
            " count=0\n",
            "Epoch [4/30], Step [100/245], Loss: 0.3266\n",
            "Epoch [4/30], Step [200/245], Loss: 0.2316\n",
            "Validataion accuracy is: 86.9 %\n",
            "Best accuracy improved from 85.4% to 86.9%,\n",
            " count=0\n",
            "Epoch [5/30], Step [100/245], Loss: 0.2268\n",
            "Epoch [5/30], Step [200/245], Loss: 0.1890\n",
            "Validataion accuracy is: 87.5 %\n",
            "Best accuracy improved from 86.9% to 87.5%,\n",
            " count=0\n",
            "Epoch [6/30], Step [100/245], Loss: 0.0974\n",
            "Epoch [6/30], Step [200/245], Loss: 0.1478\n",
            "Validataion accuracy is: 85.6 %\n",
            "Best accuracy did not improve from 87.5%,\n",
            "count= 1\n",
            "Epoch [7/30], Step [100/245], Loss: 0.1167\n",
            "Epoch [7/30], Step [200/245], Loss: 0.1628\n",
            "Validataion accuracy is: 87.6 %\n",
            "Best accuracy improved from 87.5% to 87.6%,\n",
            " count=0\n",
            "Epoch [8/30], Step [100/245], Loss: 0.0964\n",
            "Epoch [8/30], Step [200/245], Loss: 0.1255\n",
            "Validataion accuracy is: 89.7 %\n",
            "Best accuracy improved from 87.6% to 89.7%,\n",
            " count=0\n",
            "Epoch [9/30], Step [100/245], Loss: 0.0562\n",
            "Epoch [9/30], Step [200/245], Loss: 0.0791\n",
            "Validataion accuracy is: 88.2 %\n",
            "Best accuracy did not improve from 89.7%,\n",
            "count= 1\n",
            "Epoch [10/30], Step [100/245], Loss: 0.0532\n",
            "Epoch [10/30], Step [200/245], Loss: 0.0664\n",
            "Validataion accuracy is: 88.2 %\n",
            "Best accuracy did not improve from 89.7%,\n",
            "count= 2\n",
            "Epoch [11/30], Step [100/245], Loss: 0.0207\n",
            "Epoch [11/30], Step [200/245], Loss: 0.1284\n",
            "Validataion accuracy is: 89.4 %\n",
            "Best accuracy did not improve from 89.7%,\n",
            "count= 3\n",
            "Epoch [12/30], Step [100/245], Loss: 0.0107\n",
            "Epoch [12/30], Step [200/245], Loss: 0.0162\n",
            "Validataion accuracy is: 88.4 %\n",
            "Best accuracy did not improve from 89.7%,\n",
            "count= 4\n",
            "Epoch [13/30], Step [100/245], Loss: 0.0885\n",
            "Epoch [13/30], Step [200/245], Loss: 0.0468\n",
            "Validataion accuracy is: 88.7 %\n",
            "Best accuracy did not improve from 89.7%,\n",
            "count= 5\n",
            "Epoch [14/30], Step [100/245], Loss: 0.0139\n",
            "Epoch [14/30], Step [200/245], Loss: 0.0275\n",
            "Validataion accuracy is: 89.4 %\n",
            "Best accuracy did not improve from 89.7%,\n",
            "count= 6\n",
            "Epoch [15/30], Step [100/245], Loss: 0.0630\n",
            "Epoch [15/30], Step [200/245], Loss: 0.0454\n",
            "Validataion accuracy is: 89.8 %\n",
            "Best accuracy improved from 89.7% to 89.8%,\n",
            " count=0\n",
            "Epoch [16/30], Step [100/245], Loss: 0.0040\n",
            "Epoch [16/30], Step [200/245], Loss: 0.0457\n",
            "Validataion accuracy is: 90.7 %\n",
            "Best accuracy improved from 89.8% to 90.7%,\n",
            " count=0\n",
            "Epoch [17/30], Step [100/245], Loss: 0.0452\n",
            "Epoch [17/30], Step [200/245], Loss: 0.0104\n",
            "Validataion accuracy is: 89.6 %\n",
            "Best accuracy did not improve from 90.7%,\n",
            "count= 1\n",
            "Epoch [18/30], Step [100/245], Loss: 0.0061\n",
            "Epoch [18/30], Step [200/245], Loss: 0.0360\n",
            "Validataion accuracy is: 89.4 %\n",
            "Best accuracy did not improve from 90.7%,\n",
            "count= 2\n",
            "Epoch [19/30], Step [100/245], Loss: 0.0304\n",
            "Epoch [19/30], Step [200/245], Loss: 0.0267\n",
            "Validataion accuracy is: 89.8 %\n",
            "Best accuracy did not improve from 90.7%,\n",
            "count= 3\n",
            "Epoch [20/30], Step [100/245], Loss: 0.0012\n",
            "Epoch [20/30], Step [200/245], Loss: 0.0051\n",
            "Validataion accuracy is: 89.4 %\n",
            "Best accuracy did not improve from 90.7%,\n",
            "count= 4\n",
            "Epoch [21/30], Step [100/245], Loss: 0.0109\n",
            "Epoch [21/30], Step [200/245], Loss: 0.0012\n",
            "Validataion accuracy is: 90.1 %\n",
            "Best accuracy did not improve from 90.7%,\n",
            "count= 5\n",
            "Epoch [22/30], Step [100/245], Loss: 0.0687\n",
            "Epoch [22/30], Step [200/245], Loss: 0.0032\n",
            "Validataion accuracy is: 89.7 %\n",
            "Best accuracy did not improve from 90.7%,\n",
            "count= 6\n",
            "Epoch [23/30], Step [100/245], Loss: 0.0084\n",
            "Epoch [23/30], Step [200/245], Loss: 0.0118\n",
            "Validataion accuracy is: 89.6 %\n",
            "Best accuracy did not improve from 90.7%,\n",
            "count= 7\n",
            "Epoch [24/30], Step [100/245], Loss: 0.0370\n",
            "Epoch [24/30], Step [200/245], Loss: 0.0047\n",
            "Validataion accuracy is: 89.8 %\n",
            "Best accuracy did not improve from 90.7%,\n",
            "count= 8\n",
            "Epoch [25/30], Step [100/245], Loss: 0.0263\n",
            "Epoch [25/30], Step [200/245], Loss: 0.0224\n",
            "Validataion accuracy is: 89.7 %\n",
            "Best accuracy did not improve from 90.7%,\n",
            "count= 9\n",
            "Epoch [26/30], Step [100/245], Loss: 0.0088\n",
            "Epoch [26/30], Step [200/245], Loss: 0.0029\n",
            "Validataion accuracy is: 90.3 %\n",
            "Best accuracy did not improve from 90.7%,\n",
            "count= 10\n",
            "Highest validation accuracy is at epoch 16 with corresponding validation accuracy 90.7%,\n",
            " count=10\n"
          ]
        }
      ]
    },
    {
      "cell_type": "code",
      "metadata": {
        "colab": {
          "base_uri": "https://localhost:8080/",
          "height": 515
        },
        "id": "HnAEjLy0Nx6R",
        "outputId": "ac9ef635-bc1a-4f13-9ee2-7ff528e54f8d"
      },
      "source": [
        "# Test the model\n",
        "# In test phase, we don't need to compute gradients (for memory efficiency)\n",
        "model.eval()\n",
        "\n",
        "\n",
        "plt.figure(2)\n",
        "plt.plot(loss_train, 'r', label='Train loss')\n",
        "plt.plot(loss_val, 'g', label='Val loss')\n",
        "plt.legend()\n",
        "plt.show()\n",
        "\n",
        "plt.figure(3)\n",
        "plt.plot(accuracy_val, 'r', label='Val accuracy')\n",
        "plt.legend()\n",
        "plt.show()"
      ],
      "id": "HnAEjLy0Nx6R",
      "execution_count": 17,
      "outputs": [
        {
          "output_type": "display_data",
          "data": {
            "image/png": "[encoded data removed]",
            "text/plain": [
              "<Figure size 432x288 with 1 Axes>"
            ]
          },
          "metadata": {
            "needs_background": "light"
          }
        },
        {
          "output_type": "display_data",
          "data": {
            "image/png": "[encoded data removed]",
            "text/plain": [
              "<Figure size 432x288 with 1 Axes>"
            ]
          },
          "metadata": {
            "needs_background": "light"
          }
        }
      ]
    },
    {
      "cell_type": "code",
      "metadata": {
        "colab": {
          "base_uri": "https://localhost:8080/"
        },
        "id": "vFsgbYfEOGnq",
        "outputId": "45bea43a-1b41-4fb0-a046-f8bdd4f352ea"
      },
      "source": [
        "#################################################################################\n",
        "# TODO: Use the early stopping mechanism from previous question to load the     #\n",
        "# weights from the best model so far and perform testing with this model.       #\n",
        "#################################################################################\n",
        "# *****START OF YOUR CODE (DO NOT DELETE/MODIFY THIS LINE)*****\n",
        "\n",
        "best_model = torch.load('model.ckpt')\n",
        "model.load_state_dict(best_model)\n",
        "\n",
        "# *****END OF YOUR CODE (DO NOT DELETE/MODIFY THIS LINE)*****\n",
        "\n",
        "# Test the model\n",
        "# In test phase, we don't need to compute gradients (for memory efficiency)\n",
        "with torch.no_grad():\n",
        "    correct = 0\n",
        "    total = 0\n",
        "    for images, labels in test_loader:\n",
        "        images = images.to(device)\n",
        "        labels = labels.to(device)\n",
        "        outputs = model(images)\n",
        "        _, predicted = torch.max(outputs.data, 1)\n",
        "        total += labels.size(0)\n",
        "        correct += (predicted == labels).sum().item()\n",
        "        if total == 1000:\n",
        "            break\n",
        "\n",
        "    print('Accuracy of the network on the {} test images: {} %'.format(total, 100 * correct / total))\n",
        "\n",
        "\n",
        "\n",
        "# Save the model checkpoint\n",
        "#torch.save(model.state_dict(), 'model.ckpt')\n"
      ],
      "id": "vFsgbYfEOGnq",
      "execution_count": 18,
      "outputs": [
        {
          "output_type": "stream",
          "name": "stdout",
          "text": [
            "Accuracy of the network on the 1000 test images: 89.1 %\n"
          ]
        }
      ]
    },
    {
      "cell_type": "code",
      "metadata": {
        "id": "cL3gIVYKYNjs"
      },
      "source": [
        ""
      ],
      "id": "cL3gIVYKYNjs",
      "execution_count": null,
      "outputs": []
    }
  ]
}